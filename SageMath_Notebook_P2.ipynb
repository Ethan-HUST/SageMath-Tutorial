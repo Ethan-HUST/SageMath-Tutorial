{
 "cells": [
  {
   "cell_type": "markdown",
   "id": "9f86d96d-379e-488a-bedc-e516250d993d",
   "metadata": {},
   "source": [
    "# 📖 SAGEMATH NOTEBOOK \n",
    "\n",
    "(Phần 2. Ứng dụng trong các học phần Toán đại cương)\n",
    "---\n",
    "## 💡 Thông tin tài liệu\n",
    "\n",
    "- Tài liệu được đính kèm theo **Đồ án 1**, đề tài: **\"Hướng dẫn sử dụng phần mềm SageMath và ứng dụng trong các học phần Toán đại cương\"**\n",
    "\n",
    "  \\(Link toàn văn Đồ án: [SageMath-Tutorial](https://github.com/Ethan-HUST/SageMath-Tutorial).\n",
    "\n",
    "- Thực hiện bởi: **Nguyễn Trung Kiên** (20227180, Khoa Toán - Tin, Đại học Bách Khoa Hà Nội)\n",
    "\n",
    "- Giảng viên hướng dẫn: **TS. Lê Văn Tứ**\n",
    "\n",
    "Mọi ý kiến đóng góp, thắc mắc hoặc phản hồi, vui lòng gửi về trang cá nhân (Facebook): [Nguyễn Trung Kiên](https://www.facebook.com/kiennt.ethan/) và hòm thư điện tử: kiennt.ethan@gmail.com để được hỗ trợ sớm nhất.\n",
    "\n",
    "Xin chân thành cảm ơn!\n",
    "\n",
    "---"
   ]
  },
  {
   "cell_type": "markdown",
   "id": "bae730d4-2d8b-4ac7-a2b3-e9830578e937",
   "metadata": {},
   "source": [
    "## 🛠️ Hướng dẫn sử dụng Notebook\n",
    "\n",
    "1. Cài SageMath và Jupyter Notebook, hoặc truy cập trực tuyến:\n",
    "   - [Trang chủ SageCell của SageMath](https://sagecell.sagemath.org) (đơn giản, không cần cài đặt)\n",
    "   - [Trang chủ Cocalc](https://cocalc.com) (có thể mở file `.ipynb` trực tuyến)\n",
    "\n",
    "2. Mở file `SageMath_Tutorial.ipynb` bằng Jupyter Notebook hoặc upload lên CoCalc.\n",
    "\n",
    "3. Nhấn `Shift + Enter` tại mỗi ô để chạy lệnh SageMath.\n",
    "\n",
    "Một số ô cần vài giây để xử lý, đặc biệt là các ô có biểu đồ."
   ]
  },
  {
   "cell_type": "code",
   "execution_count": 1,
   "id": "b6eab4d4-9a16-40ce-9c3a-02afa4c7c6f4",
   "metadata": {},
   "outputs": [
    {
     "data": {
      "text/plain": [
       "'SageMath version 10.5, Release Date: 2024-12-04'"
      ]
     },
     "execution_count": 1,
     "metadata": {},
     "output_type": "execute_result"
    }
   ],
   "source": [
    "# Kiem tra SageMath da duoc cai dat\n",
    "version()"
   ]
  },
  {
   "cell_type": "markdown",
   "id": "608bb97f-bf8a-4830-960f-d3d27c99f990",
   "metadata": {},
   "source": [
    "---\n",
    "## Ứng dụng trong Giải tích 1\n",
    "\n",
    "### Các câu lệnh cơ bản thường dùng\n",
    "\n",
    "- `var('x')`: Khai báo biến.\n",
    "- `solve(...)`: Giải phương trình hoặc bất phương trình.\n",
    "- `limit(...)`: Tính giới hạn.\n",
    "- `diff(...)`: Tính đạo hàm.\n",
    "- `integrate(...)`: Tính tích phân.\n",
    "- `plot(...)`, `plot3d(...)`: Vẽ đồ thị 2D, 3D.\n"
   ]
  },
  {
   "cell_type": "markdown",
   "id": "69c1aedd-8cc2-48d1-bce4-5ea786426b2e",
   "metadata": {},
   "source": [
    "### 1. Phép tính vi phân hàm một biến số\n",
    "\n",
    "#### Tìm tập xác định của hàm số\n",
    "\n",
    "Hàm: $y = \\sqrt{2\\ln{x} - 3}$\n"
   ]
  },
  {
   "cell_type": "code",
   "execution_count": 2,
   "id": "15d889ca-9bf9-47c5-b5ad-a9a7b1662af6",
   "metadata": {},
   "outputs": [
    {
     "data": {
      "text/plain": [
       "[[2*log(x) - 3 == 0], [2*log(x) - 3 > 0]]"
      ]
     },
     "execution_count": 2,
     "metadata": {},
     "output_type": "execute_result"
    }
   ],
   "source": [
    "var('x')\n",
    "solve(log(x) >= 3/2, x)"
   ]
  },
  {
   "cell_type": "markdown",
   "id": "8e42fa8d-55c1-41db-82e9-db87d76ce4cb",
   "metadata": {},
   "source": [
    "#### Tìm miền giá trị\n",
    "\n",
    "Hàm: $y = \\sqrt{1 - \\left( \\frac{x - 1}{x + 1} \\right)^2}$ trên $(0;2)$\n"
   ]
  },
  {
   "cell_type": "code",
   "execution_count": 3,
   "id": "3c17511e-e1c9-4d0c-aecb-127214106685",
   "metadata": {},
   "outputs": [
    {
     "data": {
      "text/plain": [
       "((1.0, 0.9999999994817399), (0.0001869787205816002, 8.740260678362169e-09))"
      ]
     },
     "execution_count": 3,
     "metadata": {},
     "output_type": "execute_result"
    }
   ],
   "source": [
    "var('x')\n",
    "f(x) = sqrt(1 - ((x - 1)/(x + 1))^2)\n",
    "f.find_local_maximum(0, 2), f.find_local_minimum(0, 2)"
   ]
  },
  {
   "cell_type": "markdown",
   "id": "fd89b661-e5f9-4211-88db-6c58f9691d18",
   "metadata": {},
   "source": [
    "#### Hàm hyperbolic\n",
    "\n",
    "Hàm: $f(x) = \\sinh(x) + \\cosh(x)$"
   ]
  },
  {
   "cell_type": "code",
   "execution_count": 4,
   "id": "ba07136f-397a-4a2e-9cb9-f12e53f7d1e5",
   "metadata": {},
   "outputs": [
    {
     "data": {
      "text/plain": [
       "2.718281828459045"
      ]
     },
     "execution_count": 4,
     "metadata": {},
     "output_type": "execute_result"
    }
   ],
   "source": [
    "f(x) = sinh(x) + cosh(x)\n",
    "float(f(1))"
   ]
  },
  {
   "cell_type": "markdown",
   "id": "aacb91b8-4d5a-47c2-aa88-357b6b17600c",
   "metadata": {},
   "source": [
    "#### Tìm hàm f(x)\n",
    "\n",
    "Biết: $f(x + \\frac{1}{x}) = x^2 + \\frac{1}{x^2}$"
   ]
  },
  {
   "cell_type": "code",
   "execution_count": 8,
   "id": "a02aac33-dea2-4fb5-85d8-6f793e6a29e0",
   "metadata": {},
   "outputs": [
    {
     "data": {
      "text/plain": [
       "(x + 1/x)^2 - 2"
      ]
     },
     "execution_count": 8,
     "metadata": {},
     "output_type": "execute_result"
    }
   ],
   "source": [
    "var('x t')\n",
    "t = x + 1/x\n",
    "expr = x^2 + 1/x^2\n",
    "simplify(t^2 - 2)"
   ]
  },
  {
   "cell_type": "markdown",
   "id": "2024f32a-73d0-4e59-86f7-9ccbf03e2264",
   "metadata": {},
   "source": [
    "#### Tìm hàm ngược\n",
    "\n",
    "Hàm: $y = \\frac{1}{2}(e^x - e^{-x})$"
   ]
  },
  {
   "cell_type": "code",
   "execution_count": 9,
   "id": "1d7d4bf2-7bac-4701-8ea0-5070f79d5233",
   "metadata": {},
   "outputs": [
    {
     "data": {
      "text/plain": [
       "[x == log(y - sqrt(y^2 + 1)), x == log(y + sqrt(y^2 + 1))]"
      ]
     },
     "execution_count": 9,
     "metadata": {},
     "output_type": "execute_result"
    }
   ],
   "source": [
    "var('x y')\n",
    "solve(y == (1/2)*(exp(x) - exp(-x)), x)"
   ]
  },
  {
   "cell_type": "markdown",
   "id": "266d8138-09d7-4885-9095-30114305a52a",
   "metadata": {},
   "source": [
    "#### Tính giới hạn, liên tục\n",
    "\n",
    "Hàm: $f(x) = \\frac{x}{4 - x^2}$\n"
   ]
  },
  {
   "cell_type": "code",
   "execution_count": 10,
   "id": "ad057de8-8394-482b-800a-8f131f79af91",
   "metadata": {},
   "outputs": [
    {
     "data": {
      "text/plain": [
       "(1/3, -1/3)"
      ]
     },
     "execution_count": 10,
     "metadata": {},
     "output_type": "execute_result"
    }
   ],
   "source": [
    "limit(x/(4 - x^2), x=1), limit(x/(4 - x^2), x=-1)"
   ]
  },
  {
   "cell_type": "markdown",
   "id": "f3aa1bce-d69b-4fb5-a5e1-7324f0b17576",
   "metadata": {},
   "source": [
    "#### Tính đạo hàm, cực trị, tiệm cận\n",
    "\n",
    "Hàm: $y = x - \\ln(1 + x)$\n"
   ]
  },
  {
   "cell_type": "code",
   "execution_count": 11,
   "id": "6875d16a-5781-4ba1-9988-8e9a98788923",
   "metadata": {},
   "outputs": [
    {
     "data": {
      "text/plain": [
       "(x |--> -Infinity, x |--> +Infinity, x |--> Infinity)"
      ]
     },
     "execution_count": 11,
     "metadata": {},
     "output_type": "execute_result"
    }
   ],
   "source": [
    "f(x) = x - log(1 + x)\n",
    "diff(f, x), diff(f, x, 2)\n",
    "solve(diff(f, x) == 0, x)\n",
    "limit(f, x=-oo), limit(f, x=+oo), limit(f, x=-1)"
   ]
  },
  {
   "cell_type": "markdown",
   "id": "387c0488-a311-4969-b6a1-58875c3a4712",
   "metadata": {},
   "source": [
    "### 2. Phép tính tích phân hàm một biến\n",
    "\n",
    "#### Tích phân bất định\n"
   ]
  },
  {
   "cell_type": "code",
   "execution_count": 12,
   "id": "d9990ee9-7a73-42b6-96fd-238e4747ba50",
   "metadata": {},
   "outputs": [
    {
     "data": {
      "text/plain": [
       "-1/2/(sin(x)^2 - 1) + 1/2*log(sin(x)^2 - 1)"
      ]
     },
     "execution_count": 12,
     "metadata": {},
     "output_type": "execute_result"
    }
   ],
   "source": [
    "integrate(tan(x)^3, x)"
   ]
  },
  {
   "cell_type": "markdown",
   "id": "21a8bbc7-16cb-4c7e-b39e-fa353131a6a2",
   "metadata": {},
   "source": [
    "#### Tích phân xác định"
   ]
  },
  {
   "cell_type": "code",
   "execution_count": 14,
   "id": "d52b3f5b-d69c-4fc7-ab67-3cac8976be1b",
   "metadata": {},
   "outputs": [
    {
     "data": {
      "text/plain": [
       "sqrt(pi)*erf(1)"
      ]
     },
     "execution_count": 14,
     "metadata": {},
     "output_type": "execute_result"
    }
   ],
   "source": [
    "integrate(exp(-x^2), (x, -1, 1))"
   ]
  },
  {
   "cell_type": "markdown",
   "id": "345ec38b-833b-40f5-81f0-a927d32df35a",
   "metadata": {},
   "source": [
    "#### Tích phân suy rộng"
   ]
  },
  {
   "cell_type": "code",
   "execution_count": 15,
   "id": "a55e9883-c875-4098-904d-14396b30a2f9",
   "metadata": {},
   "outputs": [
    {
     "data": {
      "text/plain": [
       "1"
      ]
     },
     "execution_count": 15,
     "metadata": {},
     "output_type": "execute_result"
    }
   ],
   "source": [
    "integrate(1/x^2, (x, 1, oo))"
   ]
  },
  {
   "cell_type": "markdown",
   "id": "e7791d8d-c46b-484f-9a9a-8576bc688ff7",
   "metadata": {},
   "source": [
    "#### Diện tích hình phẳng\n",
    "\n",
    "Giữa $y = \\sin{x}$ và trục hoành trên $[0, \\pi]$\n"
   ]
  },
  {
   "cell_type": "code",
   "execution_count": 16,
   "id": "6d203745-9154-4e62-ba37-92b8fd0c3ef1",
   "metadata": {},
   "outputs": [
    {
     "data": {
      "text/plain": [
       "2"
      ]
     },
     "execution_count": 16,
     "metadata": {},
     "output_type": "execute_result"
    }
   ],
   "source": [
    "integrate(abs(sin(x)), (x, 0, pi))"
   ]
  },
  {
   "cell_type": "markdown",
   "id": "6a4c2326-149a-45c4-9a39-8bdc522f6753",
   "metadata": {},
   "source": [
    "#### Thể tích vật thể quay\n",
    "\n",
    "Quay $y = \\sqrt{x}$ quanh trục hoành trên $[0,1]$"
   ]
  },
  {
   "cell_type": "code",
   "execution_count": 17,
   "id": "03ece10f-b7ab-43fe-8c23-0b604fa0da58",
   "metadata": {},
   "outputs": [
    {
     "data": {
      "text/plain": [
       "1/2*pi"
      ]
     },
     "execution_count": 17,
     "metadata": {},
     "output_type": "execute_result"
    }
   ],
   "source": [
    "integrate(pi * (sqrt(x))^2, (x, 0, 1))"
   ]
  },
  {
   "cell_type": "markdown",
   "id": "4255bb85-9f01-4350-b2a8-20326566b536",
   "metadata": {},
   "source": [
    "### 3. Hàm số nhiều biến\n",
    "\n",
    "#### Đạo hàm riêng và vi phân toàn phần\n",
    "\n",
    "Hàm: $f(x, y) = \\frac{x^2 y}{x^2 + y^2}$"
   ]
  },
  {
   "cell_type": "code",
   "execution_count": 18,
   "id": "52ff97d7-1e0e-4709-b8c3-4a210a69cea4",
   "metadata": {},
   "outputs": [
    {
     "data": {
      "text/plain": [
       "((x, y) |--> -2*x^3*y/(x^2 + y^2)^2 + 2*x*y/(x^2 + y^2),\n",
       " (x, y) |--> -2*x^2*y^2/(x^2 + y^2)^2 + x^2/(x^2 + y^2))"
      ]
     },
     "execution_count": 18,
     "metadata": {},
     "output_type": "execute_result"
    }
   ],
   "source": [
    "var('x y')\n",
    "f(x, y) = (x^2 * y)/(x^2 + y^2)\n",
    "diff(f, x), diff(f, y)"
   ]
  },
  {
   "cell_type": "markdown",
   "id": "4e840767-688d-4ef5-9a08-4329242e0f67",
   "metadata": {},
   "source": [
    "#### Khai triển chuỗi Taylor\n",
    "\n",
    "Hàm: $f(x, y) = e^{x + y}$, khai triển theo $ x $"
   ]
  },
  {
   "cell_type": "code",
   "execution_count": 19,
   "id": "08a2f5d6-0032-49b4-95f7-98db3708a6ac",
   "metadata": {},
   "outputs": [
    {
     "data": {
      "text/plain": [
       "(x, y) |--> 1/6*x^3*e^y + 1/2*x^2*e^y + x*e^y + e^y"
      ]
     },
     "execution_count": 19,
     "metadata": {},
     "output_type": "execute_result"
    }
   ],
   "source": [
    "var('x y')\n",
    "f(x, y) = exp(x + y)\n",
    "taylor(f, (x, 0), 3)"
   ]
  },
  {
   "cell_type": "markdown",
   "id": "2ba9a663-72b4-423a-9132-9a67177eadd9",
   "metadata": {},
   "source": [
    "#### Đồ thị hàm nhiều biến\n",
    "\n",
    "Hàm: $f(x,y) = \\sin(x^2 + y^2) $\n"
   ]
  },
  {
   "cell_type": "code",
   "execution_count": 20,
   "id": "6a1cc36a-ac82-47e7-aa32-d530487485be",
   "metadata": {},
   "outputs": [
    {
     "data": {
      "text/html": [
       "\n",
       "<iframe srcdoc=\"&lt;!DOCTYPE html&gt;\n",
       "&lt;html&gt;\n",
       "&lt;head&gt;\n",
       "&lt;title&gt;&lt;/title&gt;\n",
       "&lt;meta charset=&quot;utf-8&quot;&gt;\n",
       "&lt;meta name=viewport content=&quot;width=device-width, user-scalable=no, minimum-scale=1.0, maximum-scale=1.0&quot;&gt;\n",
       "&lt;style&gt;\n",
       "\n",
       "    body { margin: 0px; overflow: hidden; }\n",
       "\n",
       "    #menu-container { position: absolute; bottom: 30px; right: 40px; cursor: default; }\n",
       "\n",
       "    #menu-message { position: absolute; bottom: 0px; right: 0px; white-space: nowrap;\n",
       "                    display: none; background-color: #F5F5F5; padding: 10px; }\n",
       "\n",
       "    #menu-content { position: absolute; bottom: 0px; right: 0px;\n",
       "                    display: none; background-color: #F5F5F5; border-bottom: 1px solid black;\n",
       "                    border-right: 1px solid black; border-left: 1px solid black; }\n",
       "\n",
       "    #menu-content div { border-top: 1px solid black; padding: 10px; white-space: nowrap; }\n",
       "\n",
       "    #menu-content div:hover { background-color: #FEFEFE; }\n",
       "\n",
       "    .dark-theme #menu-container { color: white; }\n",
       "\n",
       "    .dark-theme #menu-message { background-color: #181818; }\n",
       "\n",
       "    .dark-theme #menu-content { background-color: #181818; border-color: white; }\n",
       "\n",
       "    .dark-theme #menu-content div { border-color: white; }\n",
       "\n",
       "    .dark-theme #menu-content div:hover { background-color: #303030; }\n",
       "\n",
       "&lt;/style&gt;\n",
       "\n",
       "&lt;/head&gt;\n",
       "\n",
       "&lt;body&gt;\n",
       "\n",
       "&lt;script src=&quot;/nbextensions/threejs-sage/r122/three.min.js&quot;&gt;&lt;/script&gt;\n",
       "&lt;script&gt;\n",
       "  if ( !window.THREE ) document.write(&#x27; \\\n",
       "&lt;script src=&quot;https://cdn.jsdelivr.net/gh/sagemath/threejs-sage@r122/build/three.min.js&quot;&gt;&lt;\\/script&gt; \\\n",
       "            &#x27;);\n",
       "&lt;/script&gt;\n",
       "        \n",
       "&lt;script&gt;\n",
       "\n",
       "    var options = {&quot;animate&quot;: false, &quot;animationControls&quot;: true, &quot;aspectRatio&quot;: [1.0, 1.0, 1.0], &quot;autoScaling&quot;: [false, false, false], &quot;autoPlay&quot;: true, &quot;axes&quot;: false, &quot;axesLabels&quot;: [&quot;x&quot;, &quot;y&quot;, &quot;z&quot;], &quot;axesLabelsStyle&quot;: null, &quot;decimals&quot;: 2, &quot;delay&quot;: 20, &quot;frame&quot;: true, &quot;loop&quot;: true, &quot;projection&quot;: &quot;perspective&quot;, &quot;theme&quot;: &quot;light&quot;, &quot;viewpoint&quot;: false};\n",
       "    var animate = options.animate;\n",
       "\n",
       "    if ( options.theme === &#x27;dark&#x27; )\n",
       "        document.body.className = &#x27;dark-theme&#x27;;\n",
       "\n",
       "    var scene = new THREE.Scene();\n",
       "\n",
       "    var renderer = new THREE.WebGLRenderer( { antialias: true, preserveDrawingBuffer: true } );\n",
       "    renderer.setPixelRatio( window.devicePixelRatio );\n",
       "    renderer.setSize( window.innerWidth, window.innerHeight );\n",
       "    renderer.setClearColor( options.theme === &#x27;dark&#x27; ? 0 : 0xffffff, 1 );\n",
       "    document.body.appendChild( renderer.domElement );\n",
       "\n",
       "    var b = [{&quot;x&quot;:-2.0, &quot;y&quot;:-2.0, &quot;z&quot;:-0.9996462800134817}, {&quot;x&quot;:2.0, &quot;y&quot;:2.0, &quot;z&quot;:0.9995588407239098}]; // bounds\n",
       "\n",
       "    if ( b[0].x === b[1].x ) {\n",
       "        b[0].x -= 1;\n",
       "        b[1].x += 1;\n",
       "    }\n",
       "    if ( b[0].y === b[1].y ) {\n",
       "        b[0].y -= 1;\n",
       "        b[1].y += 1;\n",
       "    }\n",
       "    if ( b[0].z === b[1].z ) {\n",
       "        b[0].z -= 1;\n",
       "        b[1].z += 1;\n",
       "    }\n",
       "\n",
       "    var rxRange = Math.sqrt( Math.pow( b[1].z - b[0].z, 2 )\n",
       "                            + Math.pow( b[1].y - b[0].y, 2 ) );\n",
       "    var ryRange = Math.sqrt( Math.pow( b[1].x - b[0].x, 2 )\n",
       "                            + Math.pow( b[1].z - b[0].z, 2 ) );\n",
       "    var rzRange = Math.sqrt( Math.pow( b[1].x - b[0].x, 2 )\n",
       "                            + Math.pow( b[1].y - b[0].y, 2 ) );\n",
       "    var xRange = b[1].x - b[0].x;\n",
       "    var yRange = b[1].y - b[0].y;\n",
       "    var zRange = b[1].z - b[0].z;\n",
       "\n",
       "    var ar = options.aspectRatio;\n",
       "    var a = [ ar[0], ar[1], ar[2] ]; // aspect multipliers\n",
       "\n",
       "    var autoScaling = options.autoScaling;\n",
       "    var autoAspect = 2.5;\n",
       "    if ( xRange &gt; autoAspect * rxRange &amp;&amp; autoScaling[0] ) a[0] = autoAspect * rxRange / xRange;\n",
       "    if ( yRange &gt; autoAspect * ryRange &amp;&amp; autoScaling[1] ) a[1] = autoAspect * ryRange / yRange;\n",
       "    if ( zRange &gt; autoAspect * rzRange &amp;&amp; autoScaling[2] ) a[2] = autoAspect * rzRange / zRange;\n",
       "\n",
       "    // Distance from (xMid,yMid,zMid) to any corner of the bounding box, after applying aspectRatio\n",
       "    var midToCorner = Math.sqrt( a[0]*a[0]*xRange*xRange + a[1]*a[1]*yRange*yRange + a[2]*a[2]*zRange*zRange ) / 2;\n",
       "\n",
       "    var xMid = ( b[0].x + b[1].x ) / 2;\n",
       "    var yMid = ( b[0].y + b[1].y ) / 2;\n",
       "    var zMid = ( b[0].z + b[1].z ) / 2;\n",
       "\n",
       "    var box = new THREE.Geometry();\n",
       "    box.vertices.push( new THREE.Vector3( a[0]*b[0].x, a[1]*b[0].y, a[2]*b[0].z ) );\n",
       "    box.vertices.push( new THREE.Vector3( a[0]*b[1].x, a[1]*b[1].y, a[2]*b[1].z ) );\n",
       "    var boxMesh = new THREE.Line( box );\n",
       "    var boxColor = options.theme === &#x27;dark&#x27; ? &#x27;white&#x27; : &#x27;black&#x27;;\n",
       "    if ( options.frame ) scene.add( new THREE.BoxHelper( boxMesh, boxColor ) );\n",
       "\n",
       "    if ( options.axesLabels ) {\n",
       "\n",
       "        var d = options.decimals; // decimals\n",
       "        var offsetRatio = 0.1;\n",
       "        var al = options.axesLabels;\n",
       "        var als = options.axesLabelsStyle || [{}, {}, {}];\n",
       "\n",
       "        var offset = offsetRatio * a[1]*( b[1].y - b[0].y );\n",
       "        var xm = xMid.toFixed(d);\n",
       "        if ( /^-0.?0*$/.test(xm) ) xm = xm.substr(1);\n",
       "        addLabel( al[0] + &#x27;=&#x27; + xm, a[0]*xMid, a[1]*b[1].y+offset, a[2]*b[0].z, als[0] );\n",
       "        addLabel( ( b[0].x ).toFixed(d), a[0]*b[0].x, a[1]*b[1].y+offset, a[2]*b[0].z, als[0] );\n",
       "        addLabel( ( b[1].x ).toFixed(d), a[0]*b[1].x, a[1]*b[1].y+offset, a[2]*b[0].z, als[0] );\n",
       "\n",
       "        var offset = offsetRatio * a[0]*( b[1].x - b[0].x );\n",
       "        var ym = yMid.toFixed(d);\n",
       "        if ( /^-0.?0*$/.test(ym) ) ym = ym.substr(1);\n",
       "        addLabel( al[1] + &#x27;=&#x27; + ym, a[0]*b[1].x+offset, a[1]*yMid, a[2]*b[0].z, als[1] );\n",
       "        addLabel( ( b[0].y ).toFixed(d), a[0]*b[1].x+offset, a[1]*b[0].y, a[2]*b[0].z, als[1] );\n",
       "        addLabel( ( b[1].y ).toFixed(d), a[0]*b[1].x+offset, a[1]*b[1].y, a[2]*b[0].z, als[1] );\n",
       "\n",
       "        var offset = offsetRatio * a[1]*( b[1].y - b[0].y );\n",
       "        var zm = zMid.toFixed(d);\n",
       "        if ( /^-0.?0*$/.test(zm) ) zm = zm.substr(1);\n",
       "        addLabel( al[2] + &#x27;=&#x27; + zm, a[0]*b[1].x, a[1]*b[0].y-offset, a[2]*zMid, als[2] );\n",
       "        addLabel( ( b[0].z ).toFixed(d), a[0]*b[1].x, a[1]*b[0].y-offset, a[2]*b[0].z, als[2] );\n",
       "        addLabel( ( b[1].z ).toFixed(d), a[0]*b[1].x, a[1]*b[0].y-offset, a[2]*b[1].z, als[2] );\n",
       "\n",
       "    }\n",
       "\n",
       "    function addLabel( text, x, y, z, style ) {\n",
       "\n",
       "        var color = style.color || &#x27;black&#x27;;\n",
       "        var fontSize = style.fontSize || 14;\n",
       "        var fontFamily = style.fontFamily || &#x27;monospace&#x27;;\n",
       "        var fontStyle = style.fontStyle || &#x27;normal&#x27;;\n",
       "        var fontWeight = style.fontWeight || &#x27;normal&#x27;;\n",
       "        var opacity = style.opacity || 1;\n",
       "\n",
       "        if ( options.theme === &#x27;dark&#x27; )\n",
       "            if ( color === &#x27;black&#x27; || color === &#x27;#000000&#x27; )\n",
       "                color = &#x27;white&#x27;;\n",
       "\n",
       "        if ( Array.isArray( fontStyle ) ) {\n",
       "            fontFamily = fontFamily.map( function( f ) {\n",
       "                // Need to put quotes around fonts that have whitespace in their names.\n",
       "                return /\\s/.test( f ) ? &#x27;&quot;&#x27; + f + &#x27;&quot;&#x27; : f;\n",
       "            }).join(&#x27;, &#x27;);\n",
       "        }\n",
       "\n",
       "        var canvas = document.createElement( &#x27;canvas&#x27; );\n",
       "        var context = canvas.getContext( &#x27;2d&#x27; );\n",
       "        var pixelRatio = Math.round( window.devicePixelRatio );\n",
       "\n",
       "        // For example: italic bold 20px &quot;Times New Roman&quot;, Georgia, serif\n",
       "        var font = [fontStyle, fontWeight, fontSize + &#x27;px&#x27;, fontFamily].join(&#x27; &#x27;);\n",
       "\n",
       "        context.font = font;\n",
       "        var width = context.measureText( text ).width;\n",
       "        var height = fontSize;\n",
       "\n",
       "        // The dimensions of the canvas&#x27;s underlying image data need to be powers\n",
       "        // of two in order for the resulting texture to support mipmapping.\n",
       "        canvas.width = THREE.MathUtils.ceilPowerOfTwo( width * pixelRatio );\n",
       "        canvas.height = THREE.MathUtils.ceilPowerOfTwo( height * pixelRatio );\n",
       "\n",
       "        // Re-compute the unscaled dimensions after the power of two conversion.\n",
       "        width = canvas.width / pixelRatio;\n",
       "        height = canvas.height / pixelRatio;\n",
       "\n",
       "        canvas.style.width = width + &#x27;px&#x27;;\n",
       "        canvas.style.height = height + &#x27;px&#x27;;\n",
       "\n",
       "        context.scale( pixelRatio, pixelRatio );\n",
       "        context.fillStyle = color;\n",
       "        context.font = font; // Must be set again after measureText.\n",
       "        context.textAlign = &#x27;center&#x27;;\n",
       "        context.textBaseline = &#x27;middle&#x27;;\n",
       "        context.fillText( text, width/2, height/2 );\n",
       "\n",
       "        var texture = new THREE.Texture( canvas );\n",
       "        texture.needsUpdate = true;\n",
       "\n",
       "        var materialOptions = { map: texture, sizeAttenuation: false, depthWrite: false };\n",
       "        if ( opacity &lt; 1 ) {\n",
       "            // Setting opacity=1 would cause the texture&#x27;s alpha component to be\n",
       "            // discarded, giving the text a black background instead of the\n",
       "            // background being transparent.\n",
       "            materialOptions.opacity = opacity;\n",
       "        }\n",
       "        var sprite = new THREE.Sprite( new THREE.SpriteMaterial( materialOptions ) );\n",
       "        sprite.position.set( x, y, z );\n",
       "\n",
       "        // Scaling factor, chosen somewhat arbitrarily so that the size of the text\n",
       "        // is consistent with previously generated plots.\n",
       "        var scale = 1/625;\n",
       "        if ( options.projection === &#x27;orthographic&#x27; ) {\n",
       "            scale = midToCorner/256; // Needs to scale along with the plot itself.\n",
       "        }\n",
       "        sprite.scale.set( scale * width, scale * height, 1 );\n",
       "\n",
       "        scene.add( sprite );\n",
       "\n",
       "        return sprite;\n",
       "\n",
       "    }\n",
       "\n",
       "    if ( options.axes ) scene.add( new THREE.AxesHelper( Math.min( a[0]*b[1].x, a[1]*b[1].y, a[2]*b[1].z ) ) );\n",
       "\n",
       "    var camera = createCamera();\n",
       "    camera.up.set( 0, 0, 1 );\n",
       "    camera.position.set( a[0]*xMid, a[1]*yMid, a[2]*zMid );\n",
       "\n",
       "    // camera is positioned so that the line from the camera to the center\n",
       "    // of the bounding sphere of the objects makes an angle of 60 degrees with x-axis\n",
       "    // and an angle of 30 degrees with z-axis and the field of view of the camera looking\n",
       "    // at the center has an angle of 45 degrees.\n",
       "    const sin8 = Math.sin(Math.PI / 8);\n",
       "    const sin5 = Math.sin(Math.PI / 5);\n",
       "    const cos5 = Math.cos(Math.PI / 5);\n",
       "    const sin3 = Math.sin(Math.PI / 3);\n",
       "    const cos3 = Math.cos(Math.PI / 3);\n",
       "    var r = midToCorner / sin8;\n",
       "    var offset = new THREE.Vector3( r * sin3 * cos5, r * sin3 * sin5, r * cos3 );\n",
       "\n",
       "    if ( options.viewpoint ) {\n",
       "\n",
       "        var aa = options.viewpoint;\n",
       "        var axis = new THREE.Vector3( aa[0][0], aa[0][1], aa[0][2] ).normalize();\n",
       "        var angle = aa[1] * Math.PI / 180;\n",
       "        var q = new THREE.Quaternion().setFromAxisAngle( axis, angle ).inverse();\n",
       "\n",
       "        offset.set( 0, 0, offset.length() );\n",
       "        offset.applyQuaternion( q );\n",
       "\n",
       "    }\n",
       "\n",
       "    camera.position.add( offset );\n",
       "\n",
       "    function createCamera() {\n",
       "\n",
       "        var aspect = window.innerWidth / window.innerHeight;\n",
       "\n",
       "        // Scale the near and far clipping planes along with the overall plot size.\n",
       "        var nearClip = 0.01 * midToCorner;\n",
       "        var farClip = 100 * midToCorner;\n",
       "\n",
       "        if ( options.projection === &#x27;orthographic&#x27; ) {\n",
       "            var camera = new THREE.OrthographicCamera( -1, 1, 1, -1, -farClip, farClip );\n",
       "            updateCameraAspect( camera, aspect );\n",
       "            return camera;\n",
       "        }\n",
       "\n",
       "        return new THREE.PerspectiveCamera( 45, aspect, nearClip, farClip );\n",
       "\n",
       "    }\n",
       "\n",
       "    function updateCameraAspect( camera, aspect ) {\n",
       "\n",
       "        if ( camera.isPerspectiveCamera ) {\n",
       "            camera.aspect = aspect;\n",
       "        } else if ( camera.isOrthographicCamera ) {\n",
       "            // Fit the camera frustum to the bounding box&#x27;s diagonal so that the entire plot fits\n",
       "            // within at the default zoom level and camera position.\n",
       "            if ( aspect &gt; 1 ) { // Wide window\n",
       "                camera.top = midToCorner;\n",
       "                camera.right = midToCorner * aspect;\n",
       "            } else { // Tall or square window\n",
       "                camera.top = midToCorner / aspect;\n",
       "                camera.right = midToCorner;\n",
       "            }\n",
       "            camera.bottom = -camera.top;\n",
       "            camera.left = -camera.right;\n",
       "        }\n",
       "\n",
       "        camera.updateProjectionMatrix();\n",
       "\n",
       "    }\n",
       "\n",
       "    var lights = [{&quot;x&quot;:-5, &quot;y&quot;:3, &quot;z&quot;:0, &quot;color&quot;:&quot;#7f7f7f&quot;, &quot;parent&quot;:&quot;camera&quot;}];\n",
       "    for ( var i=0 ; i &lt; lights.length ; i++ ) {\n",
       "        var light = new THREE.DirectionalLight( lights[i].color, 1 );\n",
       "        light.position.set( a[0]*lights[i].x, a[1]*lights[i].y, a[2]*lights[i].z );\n",
       "        if ( lights[i].parent === &#x27;camera&#x27; ) {\n",
       "            light.target.position.set( a[0]*xMid, a[1]*yMid, a[2]*zMid );\n",
       "            scene.add( light.target );\n",
       "            camera.add( light );\n",
       "        } else scene.add( light );\n",
       "    }\n",
       "    scene.add( camera );\n",
       "\n",
       "    var ambient = {&quot;color&quot;:&quot;#7f7f7f&quot;};\n",
       "    scene.add( new THREE.AmbientLight( ambient.color, 1 ) );\n",
       "\n",
       "    var controls = new THREE.OrbitControls( camera, renderer.domElement );\n",
       "    controls.target.set( a[0]*xMid, a[1]*yMid, a[2]*zMid );\n",
       "    controls.addEventListener( &#x27;change&#x27;, function() { if ( !animate ) render(); } );\n",
       "\n",
       "    window.addEventListener( &#x27;resize&#x27;, function() {\n",
       "\n",
       "        renderer.setSize( window.innerWidth, window.innerHeight );\n",
       "        updateCameraAspect( camera, window.innerWidth / window.innerHeight );\n",
       "        if ( window.rescaleFatLines ) rescaleFatLines();\n",
       "        if ( !animate ) render();\n",
       "\n",
       "    } );\n",
       "\n",
       "    var texts = [];\n",
       "    for ( var i=0 ; i &lt; texts.length ; i++ ) addText( texts[i] );\n",
       "\n",
       "    function addText( json ) {\n",
       "        var sprite = addLabel( json.text, a[0]*json.x, a[1]*json.y, a[2]*json.z, json );\n",
       "        sprite.userData = json;\n",
       "    }\n",
       "\n",
       "    var points = [];\n",
       "    for ( var i=0 ; i &lt; points.length ; i++ ) addPoint( points[i] );\n",
       "\n",
       "    function addPoint( json ) {\n",
       "\n",
       "        var geometry = new THREE.Geometry();\n",
       "        var v = json.point;\n",
       "        geometry.vertices.push( new THREE.Vector3( a[0]*v[0], a[1]*v[1], a[2]*v[2] ) );\n",
       "\n",
       "        var canvas = document.createElement( &#x27;canvas&#x27; );\n",
       "        canvas.width = 128;\n",
       "        canvas.height = 128;\n",
       "\n",
       "        var context = canvas.getContext( &#x27;2d&#x27; );\n",
       "        context.arc( 64, 64, 64, 0, 2 * Math.PI );\n",
       "        context.fillStyle = json.color;\n",
       "        context.fill();\n",
       "\n",
       "        var texture = new THREE.Texture( canvas );\n",
       "        texture.needsUpdate = true;\n",
       "\n",
       "        var transparent = json.opacity &lt; 1 ? true : false;\n",
       "        var size = camera.isOrthographicCamera ? json.size : json.size/100;\n",
       "        var material = new THREE.PointsMaterial( { size: size, map: texture,\n",
       "                                                   transparent: transparent, opacity: json.opacity,\n",
       "                                                   alphaTest: .1 } );\n",
       "\n",
       "        var c = new THREE.Vector3();\n",
       "        geometry.computeBoundingBox();\n",
       "        geometry.boundingBox.getCenter( c );\n",
       "        geometry.translate( -c.x, -c.y, -c.z );\n",
       "\n",
       "        var mesh = new THREE.Points( geometry, material );\n",
       "        mesh.position.set( c.x, c.y, c.z );\n",
       "        mesh.userData = json;\n",
       "        scene.add( mesh );\n",
       "\n",
       "    }\n",
       "\n",
       "    var lines = [];\n",
       "    for ( var i=0 ; i &lt; lines.length ; i++ ) addLine( lines[i] );\n",
       "\n",
       "    function addLine( json ) {\n",
       "\n",
       "        var geometry = new THREE.Geometry();\n",
       "        for ( var i=0 ; i &lt; json.points.length ; i++ ) {\n",
       "            var v = json.points[i];\n",
       "            geometry.vertices.push( new THREE.Vector3( a[0]*v[0], a[1]*v[1], a[2]*v[2] ) );\n",
       "        }\n",
       "\n",
       "        var c = new THREE.Vector3();\n",
       "        geometry.computeBoundingBox();\n",
       "        geometry.boundingBox.getCenter( c );\n",
       "        geometry.translate( -c.x, -c.y, -c.z );\n",
       "\n",
       "        var transparent = json.opacity &lt; 1 ? true : false;\n",
       "        var materialOptions = { color: json.color, linewidth: json.linewidth,\n",
       "                                transparent: transparent, opacity: json.opacity };\n",
       "\n",
       "        var mesh;\n",
       "        if ( json.linewidth &gt; 1 &amp;&amp; window.createFatLineStrip ) {\n",
       "            mesh = createFatLineStrip( geometry, materialOptions );\n",
       "        } else {\n",
       "            var material = new THREE.LineBasicMaterial( materialOptions );\n",
       "            mesh = new THREE.Line( geometry, material );\n",
       "        }\n",
       "\n",
       "        mesh.position.set( c.x, c.y, c.z );\n",
       "        mesh.userData = json;\n",
       "        scene.add( mesh );\n",
       "\n",
       "    }\n",
       "\n",
       "    var surfaces = [{&quot;vertices&quot;: [{&quot;x&quot;: -2.0, &quot;y&quot;: -2.0, &quot;z&quot;: 0.9893582466233818}, {&quot;x&quot;: -2.0, &quot;y&quot;: -1.8974358974358974, &quot;z&quot;: 0.9679857160986971}, {&quot;x&quot;: -1.8974358974358974, &quot;y&quot;: -1.8974358974358974, &quot;z&quot;: 0.793987728445519}, {&quot;x&quot;: -1.8974358974358974, &quot;y&quot;: -2.0, &quot;z&quot;: 0.9679857160986971}, {&quot;x&quot;: -2.0, &quot;y&quot;: -1.7948717948717947, &quot;z&quot;: 0.8066012611250084}, {&quot;x&quot;: -1.8974358974358974, &quot;y&quot;: -1.7948717948717947, &quot;z&quot;: 0.5129711252921785}, {&quot;x&quot;: -2.0, &quot;y&quot;: -1.692307692307692, &quot;z&quot;: 0.54862606307009}, {&quot;x&quot;: -1.8974358974358974, &quot;y&quot;: -1.692307692307692, &quot;z&quot;: 0.17999660821417762}, {&quot;x&quot;: -2.0, &quot;y&quot;: -1.5897435897435894, &quot;z&quot;: 0.24168249558893257}, {&quot;x&quot;: -1.8974358974358974, &quot;y&quot;: -1.5897435897435894, &quot;z&quot;: -0.15501006469287443}, {&quot;x&quot;: -2.0, &quot;y&quot;: -1.4871794871794868, &quot;z&quot;: -0.07142161943628332}, {&quot;x&quot;: -1.8974358974358974, &quot;y&quot;: -1.4871794871794868, &quot;z&quot;: -0.4539732116107016}, {&quot;x&quot;: -2.0, &quot;y&quot;: -1.3846153846153841, &quot;z&quot;: -0.35790709149336514}, {&quot;x&quot;: -1.8974358974358974, &quot;y&quot;: -1.3846153846153841, &quot;z&quot;: -0.6930868937564438}, {&quot;x&quot;: -2.0, &quot;y&quot;: -1.2820512820512815, &quot;z&quot;: -0.5968182438720299}, {&quot;x&quot;: -1.8974358974358974, &quot;y&quot;: -1.2820512820512815, &quot;z&quot;: -0.8620328512459917}, {&quot;x&quot;: -2.0, &quot;y&quot;: -1.1794871794871788, &quot;z&quot;: -0.7783260660428768}, {&quot;x&quot;: -1.8974358974358974, &quot;y&quot;: -1.1794871794871788, &quot;z&quot;: -0.9613136831228458}, {&quot;x&quot;: -2.0, &quot;y&quot;: -1.0769230769230762, &quot;z&quot;: -0.90158607169558}, {&quot;x&quot;: -1.8974358974358974, &quot;y&quot;: -1.0769230769230762, &quot;z&quot;: -0.9988655575201716}, {&quot;x&quot;: -2.0, &quot;y&quot;: -0.9743589743589737, &quot;z&quot;: -0.9720498964973199}, {&quot;x&quot;: -1.8974358974358974, &quot;y&quot;: -0.9743589743589737, &quot;z&quot;: -0.9867853311857144}, {&quot;x&quot;: -2.0, &quot;y&quot;: -0.8717948717948711, &quot;z&quot;: -0.9988655575201716}, {&quot;x&quot;: -1.8974358974358974, &quot;y&quot;: -0.8717948717948711, &quot;z&quot;: -0.9386506611540255}, {&quot;x&quot;: -2.0, &quot;y&quot;: -0.7692307692307686, &quot;z&quot;: -0.9927278442205985}, {&quot;x&quot;: -1.8974358974358974, &quot;y&quot;: -0.7692307692307686, &quot;z&quot;: -0.8676153763521616}, {&quot;x&quot;: -2.0, &quot;y&quot;: -0.6666666666666661, &quot;z&quot;: -0.964317116928778}, {&quot;x&quot;: -1.8974358974358974, &quot;y&quot;: -0.6666666666666661, &quot;z&quot;: -0.7852592822929686}, {&quot;x&quot;: -2.0, &quot;y&quot;: -0.5641025641025635, &quot;z&quot;: -0.9233128422850049}, {&quot;x&quot;: -1.8974358974358974, &quot;y&quot;: -0.5641025641025635, &quot;z&quot;: -0.7010594000967505}, {&quot;x&quot;: -2.0, &quot;y&quot;: -0.461538461538461, &quot;z&quot;: -0.8778838373137139}, {&quot;x&quot;: -1.8974358974358974, &quot;y&quot;: -0.461538461538461, &quot;z&quot;: -0.6223082574674974}, {&quot;x&quot;: -2.0, &quot;y&quot;: -0.3589743589743585, &quot;z&quot;: -0.8345249069195914}, {&quot;x&quot;: -1.8974358974358974, &quot;y&quot;: -0.3589743589743585, &quot;z&quot;: -0.5543093361277324}, {&quot;x&quot;: -2.0, &quot;y&quot;: -0.25641025641025594, &quot;z&quot;: -0.7981110639137167}, {&quot;x&quot;: -1.8974358974358974, &quot;y&quot;: -0.25641025641025594, &quot;z&quot;: -0.5007080469013311}, {&quot;x&quot;: -2.0, &quot;y&quot;: -0.15384615384615338, &quot;z&quot;: -0.7720599336301592}, {&quot;x&quot;: -1.8974358974358974, &quot;y&quot;: -0.15384615384615338, &quot;z&quot;: -0.4638525653214691}, {&quot;x&quot;: -2.0, &quot;y&quot;: -0.05128205128205082, &quot;z&quot;: -0.7585188601466708}, {&quot;x&quot;: -1.8974358974358974, &quot;y&quot;: -0.05128205128205082, &quot;z&quot;: -0.44511276099824015}, {&quot;x&quot;: -2.0, &quot;y&quot;: 0.05128205128205174, &quot;z&quot;: -0.7585188601466708}, {&quot;x&quot;: -1.8974358974358974, &quot;y&quot;: 0.05128205128205174, &quot;z&quot;: -0.44511276099824015}, {&quot;x&quot;: -2.0, &quot;y&quot;: 0.1538461538461543, &quot;z&quot;: -0.7720599336301592}, {&quot;x&quot;: -1.8974358974358974, &quot;y&quot;: 0.1538461538461543, &quot;z&quot;: -0.4638525653214695}, {&quot;x&quot;: -2.0, &quot;y&quot;: 0.25641025641025683, &quot;z&quot;: -0.7981110639137167}, {&quot;x&quot;: -1.8974358974358974, &quot;y&quot;: 0.25641025641025683, &quot;z&quot;: -0.5007080469013315}, {&quot;x&quot;: -2.0, &quot;y&quot;: 0.35897435897435936, &quot;z&quot;: -0.8345249069195919}, {&quot;x&quot;: -1.8974358974358974, &quot;y&quot;: 0.35897435897435936, &quot;z&quot;: -0.5543093361277331}, {&quot;x&quot;: -2.0, &quot;y&quot;: 0.4615384615384619, &quot;z&quot;: -0.8778838373137142}, {&quot;x&quot;: -1.8974358974358974, &quot;y&quot;: 0.4615384615384619, &quot;z&quot;: -0.6223082574674981}, {&quot;x&quot;: -2.0, &quot;y&quot;: 0.5641025641025644, &quot;z&quot;: -0.9233128422850052}, {&quot;x&quot;: -1.8974358974358974, &quot;y&quot;: 0.5641025641025644, &quot;z&quot;: -0.7010594000967512}, {&quot;x&quot;: -2.0, &quot;y&quot;: 0.666666666666667, &quot;z&quot;: -0.9643171169287782}, {&quot;x&quot;: -1.8974358974358974, &quot;y&quot;: 0.666666666666667, &quot;z&quot;: -0.7852592822929697}, {&quot;x&quot;: -2.0, &quot;y&quot;: 0.7692307692307695, &quot;z&quot;: -0.9927278442205987}, {&quot;x&quot;: -1.8974358974358974, &quot;y&quot;: 0.7692307692307695, &quot;z&quot;: -0.8676153763521625}, {&quot;x&quot;: -2.0, &quot;y&quot;: 0.871794871794872, &quot;z&quot;: -0.9988655575201716}, {&quot;x&quot;: -1.8974358974358974, &quot;y&quot;: 0.871794871794872, &quot;z&quot;: -0.9386506611540262}, {&quot;x&quot;: -2.0, &quot;y&quot;: 0.9743589743589746, &quot;z&quot;: -0.9720498964973194}, {&quot;x&quot;: -1.8974358974358974, &quot;y&quot;: 0.9743589743589746, &quot;z&quot;: -0.9867853311857148}, {&quot;x&quot;: -2.0, &quot;y&quot;: 1.076923076923077, &quot;z&quot;: -0.9015860716955789}, {&quot;x&quot;: -1.8974358974358974, &quot;y&quot;: 1.076923076923077, &quot;z&quot;: -0.9988655575201716}, {&quot;x&quot;: -2.0, &quot;y&quot;: 1.1794871794871797, &quot;z&quot;: -0.7783260660428757}, {&quot;x&quot;: -1.8974358974358974, &quot;y&quot;: 1.1794871794871797, &quot;z&quot;: -0.9613136831228454}, {&quot;x&quot;: -2.0, &quot;y&quot;: 1.2820512820512824, &quot;z&quot;: -0.5968182438720278}, {&quot;x&quot;: -1.8974358974358974, &quot;y&quot;: 1.2820512820512824, &quot;z&quot;: -0.8620328512459908}, {&quot;x&quot;: -2.0, &quot;y&quot;: 1.384615384615385, &quot;z&quot;: -0.35790709149336264}, {&quot;x&quot;: -1.8974358974358974, &quot;y&quot;: 1.384615384615385, &quot;z&quot;: -0.693086893756442}, {&quot;x&quot;: -2.0, &quot;y&quot;: 1.4871794871794877, &quot;z&quot;: -0.07142161943627978}, {&quot;x&quot;: -1.8974358974358974, &quot;y&quot;: 1.4871794871794877, &quot;z&quot;: -0.4539732116106992}, {&quot;x&quot;: -2.0, &quot;y&quot;: 1.5897435897435903, &quot;z&quot;: 0.241682495588936}, {&quot;x&quot;: -1.8974358974358974, &quot;y&quot;: 1.5897435897435903, &quot;z&quot;: -0.15501006469287093}, {&quot;x&quot;: -2.0, &quot;y&quot;: 1.692307692307693, &quot;z&quot;: 0.5486260630700922}, {&quot;x&quot;: -1.8974358974358974, &quot;y&quot;: 1.692307692307693, &quot;z&quot;: 0.17999660821418023}, {&quot;x&quot;: -2.0, &quot;y&quot;: 1.7948717948717956, &quot;z&quot;: 0.8066012611250105}, {&quot;x&quot;: -1.8974358974358974, &quot;y&quot;: 1.7948717948717956, &quot;z&quot;: 0.5129711252921816}, {&quot;x&quot;: -2.0, &quot;y&quot;: 1.8974358974358982, &quot;z&quot;: 0.9679857160986978}, {&quot;x&quot;: -1.8974358974358974, &quot;y&quot;: 1.8974358974358982, &quot;z&quot;: 0.7939877284455206}, {&quot;x&quot;: -2.0, &quot;y&quot;: 2.0, &quot;z&quot;: 0.9893582466233818}, {&quot;x&quot;: -1.8974358974358974, &quot;y&quot;: 2.0, &quot;z&quot;: 0.9679857160986971}, {&quot;x&quot;: -1.7948717948717947, &quot;y&quot;: -1.8974358974358974, &quot;z&quot;: 0.5129711252921785}, {&quot;x&quot;: -1.7948717948717947, &quot;y&quot;: -2.0, &quot;z&quot;: 0.8066012611250084}, {&quot;x&quot;: -1.7948717948717947, &quot;y&quot;: -1.7948717948717947, &quot;z&quot;: 0.1592631317925326}, {&quot;x&quot;: -1.7948717948717947, &quot;y&quot;: -1.692307692307692, &quot;z&quot;: -0.19642957935521027}, {&quot;x&quot;: -1.7948717948717947, &quot;y&quot;: -1.5897435897435894, &quot;z&quot;: -0.509269593405384}, {&quot;x&quot;: -1.7948717948717947, &quot;y&quot;: -1.4871794871794868, &quot;z&quot;: -0.7512260992274888}, {&quot;x&quot;: -1.7948717948717947, &quot;y&quot;: -1.3846153846153841, &quot;z&quot;: -0.9104872485040117}, {&quot;x&quot;: -1.7948717948717947, &quot;y&quot;: -1.2820512820512815, &quot;z&quot;: -0.9883440158473328}, {&quot;x&quot;: -1.7948717948717947, &quot;y&quot;: -1.1794871794871788, &quot;z&quot;: -0.9950406163993828}, {&quot;x&quot;: -1.7948717948717947, &quot;y&quot;: -1.0769230769230762, &quot;z&quot;: -0.9456980317608893}, {&quot;x&quot;: -1.7948717948717947, &quot;y&quot;: -0.9743589743589737, &quot;z&quot;: -0.8569628963579059}, {&quot;x&quot;: -1.7948717948717947, &quot;y&quot;: -0.8717948717948711, &quot;z&quot;: -0.7446420553162048}, {&quot;x&quot;: -1.7948717948717947, &quot;y&quot;: -0.7692307692307686, &quot;z&quot;: -0.6223082574674966}, {&quot;x&quot;: -1.7948717948717947, &quot;y&quot;: -0.6666666666666661, &quot;z&quot;: -0.5007080469013303}, {&quot;x&quot;: -1.7948717948717947, &quot;y&quot;: -0.5641025641025635, &quot;z&quot;: -0.3877448785257983}, {&quot;x&quot;: -1.7948717948717947, &quot;y&quot;: -0.461538461538461, &quot;z&quot;: -0.2888159557744755}, {&quot;x&quot;: -1.7948717948717947, &quot;y&quot;: -0.3589743589743585, &quot;z&quot;: -0.207320056049031}, {&quot;x&quot;: -1.7948717948717947, &quot;y&quot;: -0.25641025641025594, &quot;z&quot;: -0.145203180218828}, {&quot;x&quot;: -1.7948717948717947, &quot;y&quot;: -0.15384615384615338, &quot;z&quot;: -0.10345530392439001}, {&quot;x&quot;: -1.7948717948717947, &quot;y&quot;: -0.05128205128205082, &quot;z&quot;: -0.08250805392791685}, {&quot;x&quot;: -1.7948717948717947, &quot;y&quot;: 0.05128205128205174, &quot;z&quot;: -0.08250805392791685}, {&quot;x&quot;: -1.7948717948717947, &quot;y&quot;: 0.1538461538461543, &quot;z&quot;: -0.10345530392439045}, {&quot;x&quot;: -1.7948717948717947, &quot;y&quot;: 0.25641025641025683, &quot;z&quot;: -0.14520318021882844}, {&quot;x&quot;: -1.7948717948717947, &quot;y&quot;: 0.35897435897435936, &quot;z&quot;: -0.20732005604903186}, {&quot;x&quot;: -1.7948717948717947, &quot;y&quot;: 0.4615384615384619, &quot;z&quot;: -0.28881595577447633}, {&quot;x&quot;: -1.7948717948717947, &quot;y&quot;: 0.5641025641025644, &quot;z&quot;: -0.3877448785257991}, {&quot;x&quot;: -1.7948717948717947, &quot;y&quot;: 0.666666666666667, &quot;z&quot;: -0.5007080469013311}, {&quot;x&quot;: -1.7948717948717947, &quot;y&quot;: 0.7692307692307695, &quot;z&quot;: -0.6223082574674977}, {&quot;x&quot;: -1.7948717948717947, &quot;y&quot;: 0.871794871794872, &quot;z&quot;: -0.7446420553162059}, {&quot;x&quot;: -1.7948717948717947, &quot;y&quot;: 0.9743589743589746, &quot;z&quot;: -0.8569628963579068}, {&quot;x&quot;: -1.7948717948717947, &quot;y&quot;: 1.076923076923077, &quot;z&quot;: -0.9456980317608898}, {&quot;x&quot;: -1.7948717948717947, &quot;y&quot;: 1.1794871794871797, &quot;z&quot;: -0.995040616399383}, {&quot;x&quot;: -1.7948717948717947, &quot;y&quot;: 1.2820512820512824, &quot;z&quot;: -0.9883440158473323}, {&quot;x&quot;: -1.7948717948717947, &quot;y&quot;: 1.384615384615385, &quot;z&quot;: -0.910487248504011}, {&quot;x&quot;: -1.7948717948717947, &quot;y&quot;: 1.4871794871794877, &quot;z&quot;: -0.7512260992274876}, {&quot;x&quot;: -1.7948717948717947, &quot;y&quot;: 1.5897435897435903, &quot;z&quot;: -0.5092695934053817}, {&quot;x&quot;: -1.7948717948717947, &quot;y&quot;: 1.692307692307693, &quot;z&quot;: -0.1964295793552068}, {&quot;x&quot;: -1.7948717948717947, &quot;y&quot;: 1.7948717948717956, &quot;z&quot;: 0.1592631317925361}, {&quot;x&quot;: -1.7948717948717947, &quot;y&quot;: 1.8974358974358982, &quot;z&quot;: 0.5129711252921816}, {&quot;x&quot;: -1.7948717948717947, &quot;y&quot;: 2.0, &quot;z&quot;: 0.8066012611250084}, {&quot;x&quot;: -1.692307692307692, &quot;y&quot;: -1.8974358974358974, &quot;z&quot;: 0.17999660821417762}, {&quot;x&quot;: -1.692307692307692, &quot;y&quot;: -2.0, &quot;z&quot;: 0.54862606307009}, {&quot;x&quot;: -1.692307692307692, &quot;y&quot;: -1.7948717948717947, &quot;z&quot;: -0.19642957935521027}, {&quot;x&quot;: -1.692307692307692, &quot;y&quot;: -1.692307692307692, &quot;z&quot;: -0.5272616837605714}, {&quot;x&quot;: -1.692307692307692, &quot;y&quot;: -1.5897435897435894, &quot;z&quot;: -0.7783260660428774}, {&quot;x&quot;: -1.692307692307692, &quot;y&quot;: -1.4871794871794868, &quot;z&quot;: -0.934757944859269}, {&quot;x&quot;: -1.692307692307692, &quot;y&quot;: -1.3846153846153841, &quot;z&quot;: -0.9976427227779848}, {&quot;x&quot;: -1.692307692307692, &quot;y&quot;: -1.2820512820512815, &quot;z&quot;: -0.9790959500009966}, {&quot;x&quot;: -1.692307692307692, &quot;y&quot;: -1.1794871794871788, &quot;z&quot;: -0.8972506942492251}, {&quot;x&quot;: -1.692307692307692, &quot;y&quot;: -1.0769230769230762, &quot;z&quot;: -0.7720599336301575}, {&quot;x&quot;: -1.692307692307692, &quot;y&quot;: -0.9743589743589737, &quot;z&quot;: -0.6223082574674963}, {&quot;x&quot;: -1.692307692307692, &quot;y&quot;: -0.8717948717948711, &quot;z&quot;: -0.46385256532146757}, {&quot;x&quot;: -1.692307692307692, &quot;y&quot;: -0.7692307692307686, &quot;z&quot;: -0.30889276742513744}, {&quot;x&quot;: -1.692307692307692, &quot;y&quot;: -0.6666666666666661, &quot;z&quot;: -0.16598532830685125}, {&quot;x&quot;: -1.692307692307692, &quot;y&quot;: -0.5641025641025635, &quot;z&quot;: -0.04051328390197793}, {&quot;x&quot;: -1.692307692307692, &quot;y&quot;: -0.461538461538461, &quot;z&quot;: 0.06462450973522742}, {&quot;x&quot;: -1.692307692307692, &quot;y&quot;: -0.3589743589743585, &quot;z&quot;: 0.14827596420928363}, {&quot;x&quot;: -1.692307692307692, &quot;y&quot;: -0.25641025641025594, &quot;z&quot;: 0.2103579701000279}, {&quot;x&quot;: -1.692307692307692, &quot;y&quot;: -0.15384615384615338, &quot;z&quot;: 0.25129570878767}, {&quot;x&quot;: -1.692307692307692, &quot;y&quot;: -0.05128205128205082, &quot;z&quot;: 0.2716022560941363}, {&quot;x&quot;: -1.692307692307692, &quot;y&quot;: 0.05128205128205174, &quot;z&quot;: 0.2716022560941363}, {&quot;x&quot;: -1.692307692307692, &quot;y&quot;: 0.1538461538461543, &quot;z&quot;: 0.25129570878766955}, {&quot;x&quot;: -1.692307692307692, &quot;y&quot;: 0.25641025641025683, &quot;z&quot;: 0.21035797010002746}, {&quot;x&quot;: -1.692307692307692, &quot;y&quot;: 0.35897435897435936, &quot;z&quot;: 0.14827596420928274}, {&quot;x&quot;: -1.692307692307692, &quot;y&quot;: 0.4615384615384619, &quot;z&quot;: 0.06462450973522653}, {&quot;x&quot;: -1.692307692307692, &quot;y&quot;: 0.5641025641025644, &quot;z&quot;: -0.040513283901978815}, {&quot;x&quot;: -1.692307692307692, &quot;y&quot;: 0.666666666666667, &quot;z&quot;: -0.1659853283068526}, {&quot;x&quot;: -1.692307692307692, &quot;y&quot;: 0.7692307692307695, &quot;z&quot;: -0.30889276742513866}, {&quot;x&quot;: -1.692307692307692, &quot;y&quot;: 0.871794871794872, &quot;z&quot;: -0.4638525653214691}, {&quot;x&quot;: -1.692307692307692, &quot;y&quot;: 0.9743589743589746, &quot;z&quot;: -0.6223082574674977}, {&quot;x&quot;: -1.692307692307692, &quot;y&quot;: 1.076923076923077, &quot;z&quot;: -0.7720599336301587}, {&quot;x&quot;: -1.692307692307692, &quot;y&quot;: 1.1794871794871797, &quot;z&quot;: -0.897250694249226}, {&quot;x&quot;: -1.692307692307692, &quot;y&quot;: 1.2820512820512824, &quot;z&quot;: -0.9790959500009969}, {&quot;x&quot;: -1.692307692307692, &quot;y&quot;: 1.384615384615385, &quot;z&quot;: -0.9976427227779847}, {&quot;x&quot;: -1.692307692307692, &quot;y&quot;: 1.4871794871794877, &quot;z&quot;: -0.9347579448592681}, {&quot;x&quot;: -1.692307692307692, &quot;y&quot;: 1.5897435897435903, &quot;z&quot;: -0.7783260660428751}, {&quot;x&quot;: -1.692307692307692, &quot;y&quot;: 1.692307692307693, &quot;z&quot;: -0.5272616837605691}, {&quot;x&quot;: -1.692307692307692, &quot;y&quot;: 1.7948717948717956, &quot;z&quot;: -0.1964295793552068}, {&quot;x&quot;: -1.692307692307692, &quot;y&quot;: 1.8974358974358982, &quot;z&quot;: 0.17999660821418023}, {&quot;x&quot;: -1.692307692307692, &quot;y&quot;: 2.0, &quot;z&quot;: 0.54862606307009}, {&quot;x&quot;: -1.5897435897435894, &quot;y&quot;: -1.8974358974358974, &quot;z&quot;: -0.15501006469287443}, {&quot;x&quot;: -1.5897435897435894, &quot;y&quot;: -2.0, &quot;z&quot;: 0.24168249558893257}, {&quot;x&quot;: -1.5897435897435894, &quot;y&quot;: -1.7948717948717947, &quot;z&quot;: -0.509269593405384}, {&quot;x&quot;: -1.5897435897435894, &quot;y&quot;: -1.692307692307692, &quot;z&quot;: -0.7783260660428774}, {&quot;x&quot;: -1.5897435897435894, &quot;y&quot;: -1.5897435897435894, &quot;z&quot;: -0.9420252959349201}, {&quot;x&quot;: -1.5897435897435894, &quot;y&quot;: -1.4871794871794868, &quot;z&quot;: -0.9996462800134817}, {&quot;x&quot;: -1.5897435897435894, &quot;y&quot;: -1.3846153846153841, &quot;z&quot;: -0.9643171169287775}, {&quot;x&quot;: -1.5897435897435894, &quot;y&quot;: -1.2820512820512815, &quot;z&quot;: -0.8569628963579059}, {&quot;x&quot;: -1.5897435897435894, &quot;y&quot;: -1.1794871794871788, &quot;z&quot;: -0.7010594000967489}, {&quot;x&quot;: -1.5897435897435894, &quot;y&quot;: -1.0769230769230762, &quot;z&quot;: -0.5188074113922228}, {&quot;x&quot;: -1.5897435897435894, &quot;y&quot;: -0.9743589743589737, &quot;z&quot;: -0.3288328586983272}, {&quot;x&quot;: -1.5897435897435894, &quot;y&quot;: -0.8717948717948711, &quot;z&quot;: -0.14520318021882667}, {&quot;x&quot;: -1.5897435897435894, &quot;y&quot;: -0.7692307692307686, &quot;z&quot;: 0.022590074357281966}, {&quot;x&quot;: -1.5897435897435894, &quot;y&quot;: -0.6666666666666661, &quot;z&quot;: 0.16904784278193324}, {&quot;x&quot;: -1.5897435897435894, &quot;y&quot;: -0.5641025641025635, &quot;z&quot;: 0.29178858833928983}, {&quot;x&quot;: -1.5897435897435894, &quot;y&quot;: -0.461538461538461, &quot;z&quot;: 0.3906063900704556}, {&quot;x&quot;: -1.5897435897435894, &quot;y&quot;: -0.3589743589743585, &quot;z&quot;: 0.46660233154530856}, {&quot;x&quot;: -1.5897435897435894, &quot;y&quot;: -0.25641025641025594, &quot;z&quot;: 0.5214605477998662}, {&quot;x&quot;: -1.5897435897435894, &quot;y&quot;: -0.15384615384615338, &quot;z&quot;: 0.5568921573053986}, {&quot;x&quot;: -1.5897435897435894, &quot;y&quot;: -0.05128205128205082, &quot;z&quot;: 0.5742421235734629}, {&quot;x&quot;: -1.5897435897435894, &quot;y&quot;: 0.05128205128205174, &quot;z&quot;: 0.5742421235734629}, {&quot;x&quot;: -1.5897435897435894, &quot;y&quot;: 0.1538461538461543, &quot;z&quot;: 0.5568921573053983}, {&quot;x&quot;: -1.5897435897435894, &quot;y&quot;: 0.25641025641025683, &quot;z&quot;: 0.5214605477998658}, {&quot;x&quot;: -1.5897435897435894, &quot;y&quot;: 0.35897435897435936, &quot;z&quot;: 0.4666023315453078}, {&quot;x&quot;: -1.5897435897435894, &quot;y&quot;: 0.4615384615384619, &quot;z&quot;: 0.3906063900704548}, {&quot;x&quot;: -1.5897435897435894, &quot;y&quot;: 0.5641025641025644, &quot;z&quot;: 0.29178858833928895}, {&quot;x&quot;: -1.5897435897435894, &quot;y&quot;: 0.666666666666667, &quot;z&quot;: 0.1690478427819319}, {&quot;x&quot;: -1.5897435897435894, &quot;y&quot;: 0.7692307692307695, &quot;z&quot;: 0.022590074357280634}, {&quot;x&quot;: -1.5897435897435894, &quot;y&quot;: 0.871794871794872, &quot;z&quot;: -0.14520318021882844}, {&quot;x&quot;: -1.5897435897435894, &quot;y&quot;: 0.9743589743589746, &quot;z&quot;: -0.32883285869832884}, {&quot;x&quot;: -1.5897435897435894, &quot;y&quot;: 1.076923076923077, &quot;z&quot;: -0.5188074113922242}, {&quot;x&quot;: -1.5897435897435894, &quot;y&quot;: 1.1794871794871797, &quot;z&quot;: -0.7010594000967505}, {&quot;x&quot;: -1.5897435897435894, &quot;y&quot;: 1.2820512820512824, &quot;z&quot;: -0.8569628963579068}, {&quot;x&quot;: -1.5897435897435894, &quot;y&quot;: 1.384615384615385, &quot;z&quot;: -0.9643171169287782}, {&quot;x&quot;: -1.5897435897435894, &quot;y&quot;: 1.4871794871794877, &quot;z&quot;: -0.9996462800134815}, {&quot;x&quot;: -1.5897435897435894, &quot;y&quot;: 1.5897435897435903, &quot;z&quot;: -0.9420252959349192}, {&quot;x&quot;: -1.5897435897435894, &quot;y&quot;: 1.692307692307693, &quot;z&quot;: -0.7783260660428751}, {&quot;x&quot;: -1.5897435897435894, &quot;y&quot;: 1.7948717948717956, &quot;z&quot;: -0.5092695934053809}, {&quot;x&quot;: -1.5897435897435894, &quot;y&quot;: 1.8974358974358982, &quot;z&quot;: -0.15501006469287093}, {&quot;x&quot;: -1.5897435897435894, &quot;y&quot;: 2.0, &quot;z&quot;: 0.24168249558893257}, {&quot;x&quot;: -1.4871794871794868, &quot;y&quot;: -1.8974358974358974, &quot;z&quot;: -0.4539732116107016}, {&quot;x&quot;: -1.4871794871794868, &quot;y&quot;: -2.0, &quot;z&quot;: -0.07142161943628332}, {&quot;x&quot;: -1.4871794871794868, &quot;y&quot;: -1.7948717948717947, &quot;z&quot;: -0.7512260992274888}, {&quot;x&quot;: -1.4871794871794868, &quot;y&quot;: -1.692307692307692, &quot;z&quot;: -0.934757944859269}, {&quot;x&quot;: -1.4871794871794868, &quot;y&quot;: -1.5897435897435894, &quot;z&quot;: -0.9996462800134817}, {&quot;x&quot;: -1.4871794871794868, &quot;y&quot;: -1.4871794871794868, &quot;z&quot;: -0.9585341003624703}, {&quot;x&quot;: -1.4871794871794868, &quot;y&quot;: -1.3846153846153841, &quot;z&quot;: -0.8345249069195904}, {&quot;x&quot;: -1.4871794871794868, &quot;y&quot;: -1.2820512820512815, &quot;z&quot;: -0.654684878194491}, {&quot;x&quot;: -1.4871794871794868, &quot;y&quot;: -1.1794871794871788, &quot;z&quot;: -0.44511276099823777}, {&quot;x&quot;: -1.4871794871794868, &quot;y&quot;: -1.0769230769230762, &quot;z&quot;: -0.22785434035873056}, {&quot;x&quot;: -1.4871794871794868, &quot;y&quot;: -0.9743589743589737, &quot;z&quot;: -0.01948435136116655}, {&quot;x&quot;: -1.4871794871794868, &quot;y&quot;: -0.8717948717948711, &quot;z&quot;: 0.16904784278193366}, {&quot;x&quot;: -1.4871794871794868, &quot;y&quot;: -0.7692307692307686, &quot;z&quot;: 0.33176492576635014}, {&quot;x&quot;: -1.4871794871794868, &quot;y&quot;: -0.6666666666666661, &quot;z&quot;: 0.46660233154530856}, {&quot;x&quot;: -1.4871794871794868, &quot;y&quot;: -0.5641025641025635, &quot;z&quot;: 0.5742421235734634}, {&quot;x&quot;: -1.4871794871794868, &quot;y&quot;: -0.461538461538461, &quot;z&quot;: 0.6570298582090661}, {&quot;x&quot;: -1.4871794871794868, &quot;y&quot;: -0.3589743589743585, &quot;z&quot;: 0.7180713945754514}, {&quot;x&quot;: -1.4871794871794868, &quot;y&quot;: -0.25641025641025594, &quot;z&quot;: 0.7605394936891935}, {&quot;x&quot;: -1.4871794871794868, &quot;y&quot;: -0.15384615384615338, &quot;z&quot;: 0.7871788782455272}, {&quot;x&quot;: -1.4871794871794868, &quot;y&quot;: -0.05128205128205082, &quot;z&quot;: 0.79997885533348}, {&quot;x&quot;: -1.4871794871794868, &quot;y&quot;: 0.05128205128205174, &quot;z&quot;: 0.79997885533348}, {&quot;x&quot;: -1.4871794871794868, &quot;y&quot;: 0.1538461538461543, &quot;z&quot;: 0.7871788782455269}, {&quot;x&quot;: -1.4871794871794868, &quot;y&quot;: 0.25641025641025683, &quot;z&quot;: 0.7605394936891933}, {&quot;x&quot;: -1.4871794871794868, &quot;y&quot;: 0.35897435897435936, &quot;z&quot;: 0.7180713945754508}, {&quot;x&quot;: -1.4871794871794868, &quot;y&quot;: 0.4615384615384619, &quot;z&quot;: 0.6570298582090655}, {&quot;x&quot;: -1.4871794871794868, &quot;y&quot;: 0.5641025641025644, &quot;z&quot;: 0.5742421235734626}, {&quot;x&quot;: -1.4871794871794868, &quot;y&quot;: 0.666666666666667, &quot;z&quot;: 0.4666023315453074}, {&quot;x&quot;: -1.4871794871794868, &quot;y&quot;: 0.7692307692307695, &quot;z&quot;: 0.33176492576634886}, {&quot;x&quot;: -1.4871794871794868, &quot;y&quot;: 0.871794871794872, &quot;z&quot;: 0.1690478427819319}, {&quot;x&quot;: -1.4871794871794868, &quot;y&quot;: 0.9743589743589746, &quot;z&quot;: -0.019484351361168325}, {&quot;x&quot;: -1.4871794871794868, &quot;y&quot;: 1.076923076923077, &quot;z&quot;: -0.22785434035873228}, {&quot;x&quot;: -1.4871794871794868, &quot;y&quot;: 1.1794871794871797, &quot;z&quot;: -0.44511276099823976}, {&quot;x&quot;: -1.4871794871794868, &quot;y&quot;: 1.2820512820512824, &quot;z&quot;: -0.6546848781944923}, {&quot;x&quot;: -1.4871794871794868, &quot;y&quot;: 1.384615384615385, &quot;z&quot;: -0.8345249069195919}, {&quot;x&quot;: -1.4871794871794868, &quot;y&quot;: 1.4871794871794877, &quot;z&quot;: -0.9585341003624711}, {&quot;x&quot;: -1.4871794871794868, &quot;y&quot;: 1.5897435897435903, &quot;z&quot;: -0.9996462800134815}, {&quot;x&quot;: -1.4871794871794868, &quot;y&quot;: 1.692307692307693, &quot;z&quot;: -0.9347579448592678}, {&quot;x&quot;: -1.4871794871794868, &quot;y&quot;: 1.7948717948717956, &quot;z&quot;: -0.7512260992274865}, {&quot;x&quot;: -1.4871794871794868, &quot;y&quot;: 1.8974358974358982, &quot;z&quot;: -0.4539732116106984}, {&quot;x&quot;: -1.4871794871794868, &quot;y&quot;: 2.0, &quot;z&quot;: -0.07142161943628332}, {&quot;x&quot;: -1.3846153846153841, &quot;y&quot;: -1.8974358974358974, &quot;z&quot;: -0.6930868937564438}, {&quot;x&quot;: -1.3846153846153841, &quot;y&quot;: -2.0, &quot;z&quot;: -0.35790709149336514}, {&quot;x&quot;: -1.3846153846153841, &quot;y&quot;: -1.7948717948717947, &quot;z&quot;: -0.9104872485040117}, {&quot;x&quot;: -1.3846153846153841, &quot;y&quot;: -1.692307692307692, &quot;z&quot;: -0.9976427227779848}, {&quot;x&quot;: -1.3846153846153841, &quot;y&quot;: -1.5897435897435894, &quot;z&quot;: -0.9643171169287775}, {&quot;x&quot;: -1.3846153846153841, &quot;y&quot;: -1.4871794871794868, &quot;z&quot;: -0.8345249069195904}, {&quot;x&quot;: -1.3846153846153841, &quot;y&quot;: -1.3846153846153841, &quot;z&quot;: -0.6386379029873523}, {&quot;x&quot;: -1.3846153846153841, &quot;y&quot;: -1.2820512820512815, &quot;z&quot;: -0.4070504941472823}, {&quot;x&quot;: -1.3846153846153841, &quot;y&quot;: -1.1794871794871788, &quot;z&quot;: -0.16598532830684995}, {&quot;x&quot;: -1.3846153846153841, &quot;y&quot;: -1.0769230769230762, &quot;z&quot;: 0.06462450973522875}, {&quot;x&quot;: -1.3846153846153841, &quot;y&quot;: -0.9743589743589737, &quot;z&quot;: 0.271602256094138}, {&quot;x&quot;: -1.3846153846153841, &quot;y&quot;: -0.8717948717948711, &quot;z&quot;: 0.4478923214676823}, {&quot;x&quot;: -1.3846153846153841, &quot;y&quot;: -0.7692307692307686, &quot;z&quot;: 0.5913379220261091}, {&quot;x&quot;: -1.3846153846153841, &quot;y&quot;: -0.6666666666666661, &quot;z&quot;: 0.7032712051388313}, {&quot;x&quot;: -1.3846153846153841, &quot;y&quot;: -0.5641025641025635, &quot;z&quot;: 0.7871788782455275}, {&quot;x&quot;: -1.3846153846153841, &quot;y&quot;: -0.461538461538461, &quot;z&quot;: 0.8475836531680356}, {&quot;x&quot;: -1.3846153846153841, &quot;y&quot;: -0.3589743589743585, &quot;z&quot;: 0.8891893281073753}, {&quot;x&quot;: -1.3846153846153841, &quot;y&quot;: -0.25641025641025594, &quot;z&quot;: 0.91627785394503}, {&quot;x&quot;: -1.3846153846153841, &quot;y&quot;: -0.15384615384615338, &quot;z&quot;: 0.9323157461046155}, {&quot;x&quot;: -1.3846153846153841, &quot;y&quot;: -0.05128205128205082, &quot;z&quot;: 0.9397174370365116}, {&quot;x&quot;: -1.3846153846153841, &quot;y&quot;: 0.05128205128205174, &quot;z&quot;: 0.9397174370365116}, {&quot;x&quot;: -1.3846153846153841, &quot;y&quot;: 0.1538461538461543, &quot;z&quot;: 0.9323157461046154}, {&quot;x&quot;: -1.3846153846153841, &quot;y&quot;: 0.25641025641025683, &quot;z&quot;: 0.9162778539450298}, {&quot;x&quot;: -1.3846153846153841, &quot;y&quot;: 0.35897435897435936, &quot;z&quot;: 0.8891893281073748}, {&quot;x&quot;: -1.3846153846153841, &quot;y&quot;: 0.4615384615384619, &quot;z&quot;: 0.8475836531680352}, {&quot;x&quot;: -1.3846153846153841, &quot;y&quot;: 0.5641025641025644, &quot;z&quot;: 0.7871788782455269}, {&quot;x&quot;: -1.3846153846153841, &quot;y&quot;: 0.666666666666667, &quot;z&quot;: 0.7032712051388303}, {&quot;x&quot;: -1.3846153846153841, &quot;y&quot;: 0.7692307692307695, &quot;z&quot;: 0.591337922026108}, {&quot;x&quot;: -1.3846153846153841, &quot;y&quot;: 0.871794871794872, &quot;z&quot;: 0.4478923214676807}, {&quot;x&quot;: -1.3846153846153841, &quot;y&quot;: 0.9743589743589746, &quot;z&quot;: 0.2716022560941363}, {&quot;x&quot;: -1.3846153846153841, &quot;y&quot;: 1.076923076923077, &quot;z&quot;: 0.06462450973522697}, {&quot;x&quot;: -1.3846153846153841, &quot;y&quot;: 1.1794871794871797, &quot;z&quot;: -0.16598532830685214}, {&quot;x&quot;: -1.3846153846153841, &quot;y&quot;: 1.2820512820512824, &quot;z&quot;: -0.4070504941472839}, {&quot;x&quot;: -1.3846153846153841, &quot;y&quot;: 1.384615384615385, &quot;z&quot;: -0.6386379029873545}, {&quot;x&quot;: -1.3846153846153841, &quot;y&quot;: 1.4871794871794877, &quot;z&quot;: -0.8345249069195919}, {&quot;x&quot;: -1.3846153846153841, &quot;y&quot;: 1.5897435897435903, &quot;z&quot;: -0.9643171169287782}, {&quot;x&quot;: -1.3846153846153841, &quot;y&quot;: 1.692307692307693, &quot;z&quot;: -0.9976427227779846}, {&quot;x&quot;: -1.3846153846153841, &quot;y&quot;: 1.7948717948717956, &quot;z&quot;: -0.9104872485040102}, {&quot;x&quot;: -1.3846153846153841, &quot;y&quot;: 1.8974358974358982, &quot;z&quot;: -0.6930868937564413}, {&quot;x&quot;: -1.3846153846153841, &quot;y&quot;: 2.0, &quot;z&quot;: -0.35790709149336514}, {&quot;x&quot;: -1.2820512820512815, &quot;y&quot;: -1.8974358974358974, &quot;z&quot;: -0.8620328512459917}, {&quot;x&quot;: -1.2820512820512815, &quot;y&quot;: -2.0, &quot;z&quot;: -0.5968182438720299}, {&quot;x&quot;: -1.2820512820512815, &quot;y&quot;: -1.7948717948717947, &quot;z&quot;: -0.9883440158473328}, {&quot;x&quot;: -1.2820512820512815, &quot;y&quot;: -1.692307692307692, &quot;z&quot;: -0.9790959500009966}, {&quot;x&quot;: -1.2820512820512815, &quot;y&quot;: -1.5897435897435894, &quot;z&quot;: -0.8569628963579059}, {&quot;x&quot;: -1.2820512820512815, &quot;y&quot;: -1.4871794871794868, &quot;z&quot;: -0.654684878194491}, {&quot;x&quot;: -1.2820512820512815, &quot;y&quot;: -1.3846153846153841, &quot;z&quot;: -0.4070504941472823}, {&quot;x&quot;: -1.2820512820512815, &quot;y&quot;: -1.2820512820512815, &quot;z&quot;: -0.14520318021882625}, {&quot;x&quot;: -1.2820512820512815, &quot;y&quot;: -1.1794871794871788, &quot;z&quot;: 0.10654454282709744}, {&quot;x&quot;: -1.2820512820512815, &quot;y&quot;: -1.0769230769230762, &quot;z&quot;: 0.33176492576635097}, {&quot;x&quot;: -1.2820512820512815, &quot;y&quot;: -0.9743589743589737, &quot;z&quot;: 0.5214605477998673}, {&quot;x&quot;: -1.2820512820512815, &quot;y&quot;: -0.8717948717948711, &quot;z&quot;: 0.6727436809952146}, {&quot;x&quot;: -1.2820512820512815, &quot;y&quot;: -0.7692307692307686, &quot;z&quot;: 0.7871788782455278}, {&quot;x&quot;: -1.2820512820512815, &quot;y&quot;: -0.6666666666666661, &quot;z&quot;: 0.869155807199706}, {&quot;x&quot;: -1.2820512820512815, &quot;y&quot;: -0.5641025641025635, &quot;z&quot;: 0.9245013988266576}, {&quot;x&quot;: -1.2820512820512815, &quot;y&quot;: -0.461538461538461, &quot;z&quot;: 0.9594147326651201}, {&quot;x&quot;: -1.2820512820512815, &quot;y&quot;: -0.3589743589743585, &quot;z&quot;: 0.9797230657400068}, {&quot;x&quot;: -1.2820512820512815, &quot;y&quot;: -0.25641025641025594, &quot;z&quot;: 0.9904096424403913}, {&quot;x&quot;: -1.2820512820512815, &quot;y&quot;: -0.15384615384615338, &quot;z&quot;: 0.9953448080064283}, {&quot;x&quot;: -1.2820512820512815, &quot;y&quot;: -0.05128205128205082, &quot;z&quot;: 0.9971520573726363}, {&quot;x&quot;: -1.2820512820512815, &quot;y&quot;: 0.05128205128205174, &quot;z&quot;: 0.9971520573726363}, {&quot;x&quot;: -1.2820512820512815, &quot;y&quot;: 0.1538461538461543, &quot;z&quot;: 0.9953448080064283}, {&quot;x&quot;: -1.2820512820512815, &quot;y&quot;: 0.25641025641025683, &quot;z&quot;: 0.9904096424403913}, {&quot;x&quot;: -1.2820512820512815, &quot;y&quot;: 0.35897435897435936, &quot;z&quot;: 0.9797230657400067}, {&quot;x&quot;: -1.2820512820512815, &quot;y&quot;: 0.4615384615384619, &quot;z&quot;: 0.9594147326651199}, {&quot;x&quot;: -1.2820512820512815, &quot;y&quot;: 0.5641025641025644, &quot;z&quot;: 0.9245013988266572}, {&quot;x&quot;: -1.2820512820512815, &quot;y&quot;: 0.666666666666667, &quot;z&quot;: 0.8691558071997053}, {&quot;x&quot;: -1.2820512820512815, &quot;y&quot;: 0.7692307692307695, &quot;z&quot;: 0.7871788782455272}, {&quot;x&quot;: -1.2820512820512815, &quot;y&quot;: 0.871794871794872, &quot;z&quot;: 0.6727436809952136}, {&quot;x&quot;: -1.2820512820512815, &quot;y&quot;: 0.9743589743589746, &quot;z&quot;: 0.5214605477998658}, {&quot;x&quot;: -1.2820512820512815, &quot;y&quot;: 1.076923076923077, &quot;z&quot;: 0.3317649257663493}, {&quot;x&quot;: -1.2820512820512815, &quot;y&quot;: 1.1794871794871797, &quot;z&quot;: 0.10654454282709566}, {&quot;x&quot;: -1.2820512820512815, &quot;y&quot;: 1.2820512820512824, &quot;z&quot;: -0.14520318021882844}, {&quot;x&quot;: -1.2820512820512815, &quot;y&quot;: 1.384615384615385, &quot;z&quot;: -0.4070504941472843}, {&quot;x&quot;: -1.2820512820512815, &quot;y&quot;: 1.4871794871794877, &quot;z&quot;: -0.654684878194493}, {&quot;x&quot;: -1.2820512820512815, &quot;y&quot;: 1.5897435897435903, &quot;z&quot;: -0.8569628963579073}, {&quot;x&quot;: -1.2820512820512815, &quot;y&quot;: 1.692307692307693, &quot;z&quot;: -0.979095950000997}, {&quot;x&quot;: -1.2820512820512815, &quot;y&quot;: 1.7948717948717956, &quot;z&quot;: -0.9883440158473322}, {&quot;x&quot;: -1.2820512820512815, &quot;y&quot;: 1.8974358974358982, &quot;z&quot;: -0.8620328512459904}, {&quot;x&quot;: -1.2820512820512815, &quot;y&quot;: 2.0, &quot;z&quot;: -0.5968182438720299}, {&quot;x&quot;: -1.1794871794871788, &quot;y&quot;: -1.8974358974358974, &quot;z&quot;: -0.9613136831228458}, {&quot;x&quot;: -1.1794871794871788, &quot;y&quot;: -2.0, &quot;z&quot;: -0.7783260660428768}, {&quot;x&quot;: -1.1794871794871788, &quot;y&quot;: -1.7948717948717947, &quot;z&quot;: -0.9950406163993828}, {&quot;x&quot;: -1.1794871794871788, &quot;y&quot;: -1.692307692307692, &quot;z&quot;: -0.8972506942492251}, {&quot;x&quot;: -1.1794871794871788, &quot;y&quot;: -1.5897435897435894, &quot;z&quot;: -0.7010594000967489}, {&quot;x&quot;: -1.1794871794871788, &quot;y&quot;: -1.4871794871794868, &quot;z&quot;: -0.44511276099823777}, {&quot;x&quot;: -1.1794871794871788, &quot;y&quot;: -1.3846153846153841, &quot;z&quot;: -0.16598532830684995}, {&quot;x&quot;: -1.1794871794871788, &quot;y&quot;: -1.2820512820512815, &quot;z&quot;: 0.10654454282709744}, {&quot;x&quot;: -1.1794871794871788, &quot;y&quot;: -1.1794871794871788, &quot;z&quot;: 0.3515372368468762}, {&quot;x&quot;: -1.1794871794871788, &quot;y&quot;: -1.0769230769230762, &quot;z&quot;: 0.5568921573054001}, {&quot;x&quot;: -1.1794871794871788, &quot;y&quot;: -0.9743589743589737, &quot;z&quot;: 0.7180713945754523}, {&quot;x&quot;: -1.1794871794871788, &quot;y&quot;: -0.8717948717948711, &quot;z&quot;: 0.8362324180100278}, {&quot;x&quot;: -1.1794871794871788, &quot;y&quot;: -0.7692307692307686, &quot;z&quot;: 0.9162778539450304}, {&quot;x&quot;: -1.1794871794871788, &quot;y&quot;: -0.6666666666666661, &quot;z&quot;: 0.9651348850025951}, {&quot;x&quot;: -1.1794871794871788, &quot;y&quot;: -0.5641025641025635, &quot;z&quot;: 0.9904096424403914}, {&quot;x&quot;: -1.1794871794871788, &quot;y&quot;: -0.461538461538461, &quot;z&quot;: 0.999441890052792}, {&quot;x&quot;: -1.1794871794871788, &quot;y&quot;: -0.3589743589743585, &quot;z&quot;: 0.9987128131784938}, {&quot;x&quot;: -1.1794871794871788, &quot;y&quot;: -0.25641025641025594, &quot;z&quot;: 0.9935249385700319}, {&quot;x&quot;: -1.1794871794871788, &quot;y&quot;: -0.15384615384615338, &quot;z&quot;: 0.9878663371312377}, {&quot;x&quot;: -1.1794871794871788, &quot;y&quot;: -0.05128205128205082, &quot;z&quot;: 0.9843804959815314}, {&quot;x&quot;: -1.1794871794871788, &quot;y&quot;: 0.05128205128205174, &quot;z&quot;: 0.9843804959815314}, {&quot;x&quot;: -1.1794871794871788, &quot;y&quot;: 0.1538461538461543, &quot;z&quot;: 0.9878663371312377}, {&quot;x&quot;: -1.1794871794871788, &quot;y&quot;: 0.25641025641025683, &quot;z&quot;: 0.993524938570032}, {&quot;x&quot;: -1.1794871794871788, &quot;y&quot;: 0.35897435897435936, &quot;z&quot;: 0.9987128131784938}, {&quot;x&quot;: -1.1794871794871788, &quot;y&quot;: 0.4615384615384619, &quot;z&quot;: 0.999441890052792}, {&quot;x&quot;: -1.1794871794871788, &quot;y&quot;: 0.5641025641025644, &quot;z&quot;: 0.9904096424403912}, {&quot;x&quot;: -1.1794871794871788, &quot;y&quot;: 0.666666666666667, &quot;z&quot;: 0.9651348850025948}, {&quot;x&quot;: -1.1794871794871788, &quot;y&quot;: 0.7692307692307695, &quot;z&quot;: 0.9162778539450298}, {&quot;x&quot;: -1.1794871794871788, &quot;y&quot;: 0.871794871794872, &quot;z&quot;: 0.8362324180100271}, {&quot;x&quot;: -1.1794871794871788, &quot;y&quot;: 0.9743589743589746, &quot;z&quot;: 0.7180713945754511}, {&quot;x&quot;: -1.1794871794871788, &quot;y&quot;: 1.076923076923077, &quot;z&quot;: 0.5568921573053983}, {&quot;x&quot;: -1.1794871794871788, &quot;y&quot;: 1.1794871794871797, &quot;z&quot;: 0.3515372368468741}, {&quot;x&quot;: -1.1794871794871788, &quot;y&quot;: 1.2820512820512824, &quot;z&quot;: 0.10654454282709523}, {&quot;x&quot;: -1.1794871794871788, &quot;y&quot;: 1.384615384615385, &quot;z&quot;: -0.1659853283068526}, {&quot;x&quot;: -1.1794871794871788, &quot;y&quot;: 1.4871794871794877, &quot;z&quot;: -0.44511276099824015}, {&quot;x&quot;: -1.1794871794871788, &quot;y&quot;: 1.5897435897435903, &quot;z&quot;: -0.7010594000967515}, {&quot;x&quot;: -1.1794871794871788, &quot;y&quot;: 1.692307692307693, &quot;z&quot;: -0.8972506942492268}, {&quot;x&quot;: -1.1794871794871788, &quot;y&quot;: 1.7948717948717956, &quot;z&quot;: -0.9950406163993832}, {&quot;x&quot;: -1.1794871794871788, &quot;y&quot;: 1.8974358974358982, &quot;z&quot;: -0.9613136831228448}, {&quot;x&quot;: -1.1794871794871788, &quot;y&quot;: 2.0, &quot;z&quot;: -0.7783260660428768}, {&quot;x&quot;: -1.0769230769230762, &quot;y&quot;: -1.8974358974358974, &quot;z&quot;: -0.9988655575201716}, {&quot;x&quot;: -1.0769230769230762, &quot;y&quot;: -2.0, &quot;z&quot;: -0.90158607169558}, {&quot;x&quot;: -1.0769230769230762, &quot;y&quot;: -1.7948717948717947, &quot;z&quot;: -0.9456980317608893}, {&quot;x&quot;: -1.0769230769230762, &quot;y&quot;: -1.692307692307692, &quot;z&quot;: -0.7720599336301575}, {&quot;x&quot;: -1.0769230769230762, &quot;y&quot;: -1.5897435897435894, &quot;z&quot;: -0.5188074113922228}, {&quot;x&quot;: -1.0769230769230762, &quot;y&quot;: -1.4871794871794868, &quot;z&quot;: -0.22785434035873056}, {&quot;x&quot;: -1.0769230769230762, &quot;y&quot;: -1.3846153846153841, &quot;z&quot;: 0.06462450973522875}, {&quot;x&quot;: -1.0769230769230762, &quot;y&quot;: -1.2820512820512815, &quot;z&quot;: 0.33176492576635097}, {&quot;x&quot;: -1.0769230769230762, &quot;y&quot;: -1.1794871794871788, &quot;z&quot;: 0.5568921573054001}, {&quot;x&quot;: -1.0769230769230762, &quot;y&quot;: -1.0769230769230762, &quot;z&quot;: 0.7325537552945648}, {&quot;x&quot;: -1.0769230769230762, &quot;y&quot;: -0.9743589743589737, &quot;z&quot;: 0.8585597356218668}, {&quot;x&quot;: -1.0769230769230762, &quot;y&quot;: -0.8717948717948711, &quot;z&quot;: 0.9397174370365121}, {&quot;x&quot;: -1.0769230769230762, &quot;y&quot;: -0.7692307692307686, &quot;z&quot;: 0.9837211927455881}, {&quot;x&quot;: -1.0769230769230762, &quot;y&quot;: -0.6666666666666661, &quot;z&quot;: 0.999441890052792}, {&quot;x&quot;: -1.0769230769230762, &quot;y&quot;: -0.5641025641025635, &quot;z&quot;: 0.9956951942808121}, {&quot;x&quot;: -1.0769230769230762, &quot;y&quot;: -0.461538461538461, &quot;z&quot;: 0.9804589538793272}, {&quot;x&quot;: -1.0769230769230762, &quot;y&quot;: -0.3589743589743585, &quot;z&quot;: 0.960453366547572}, {&quot;x&quot;: -1.0769230769230762, &quot;y&quot;: -0.25641025641025594, &quot;z&quot;: 0.940978421265621}, {&quot;x&quot;: -1.0769230769230762, &quot;y&quot;: -0.15384615384615338, &quot;z&quot;: 0.9259078806692499}, {&quot;x&quot;: -1.0769230769230762, &quot;y&quot;: -0.05128205128205082, &quot;z&quot;: 0.9177561668352503}, {&quot;x&quot;: -1.0769230769230762, &quot;y&quot;: 0.05128205128205174, &quot;z&quot;: 0.9177561668352503}, {&quot;x&quot;: -1.0769230769230762, &quot;y&quot;: 0.1538461538461543, &quot;z&quot;: 0.9259078806692499}, {&quot;x&quot;: -1.0769230769230762, &quot;y&quot;: 0.25641025641025683, &quot;z&quot;: 0.9409784212656211}, {&quot;x&quot;: -1.0769230769230762, &quot;y&quot;: 0.35897435897435936, &quot;z&quot;: 0.9604533665475721}, {&quot;x&quot;: -1.0769230769230762, &quot;y&quot;: 0.4615384615384619, &quot;z&quot;: 0.9804589538793274}, {&quot;x&quot;: -1.0769230769230762, &quot;y&quot;: 0.5641025641025644, &quot;z&quot;: 0.9956951942808122}, {&quot;x&quot;: -1.0769230769230762, &quot;y&quot;: 0.666666666666667, &quot;z&quot;: 0.999441890052792}, {&quot;x&quot;: -1.0769230769230762, &quot;y&quot;: 0.7692307692307695, &quot;z&quot;: 0.9837211927455879}, {&quot;x&quot;: -1.0769230769230762, &quot;y&quot;: 0.871794871794872, &quot;z&quot;: 0.9397174370365116}, {&quot;x&quot;: -1.0769230769230762, &quot;y&quot;: 0.9743589743589746, &quot;z&quot;: 0.8585597356218659}, {&quot;x&quot;: -1.0769230769230762, &quot;y&quot;: 1.076923076923077, &quot;z&quot;: 0.7325537552945636}, {&quot;x&quot;: -1.0769230769230762, &quot;y&quot;: 1.1794871794871797, &quot;z&quot;: 0.5568921573053983}, {&quot;x&quot;: -1.0769230769230762, &quot;y&quot;: 1.2820512820512824, &quot;z&quot;: 0.3317649257663493}, {&quot;x&quot;: -1.0769230769230762, &quot;y&quot;: 1.384615384615385, &quot;z&quot;: 0.06462450973522608}, {&quot;x&quot;: -1.0769230769230762, &quot;y&quot;: 1.4871794871794877, &quot;z&quot;: -0.22785434035873314}, {&quot;x&quot;: -1.0769230769230762, &quot;y&quot;: 1.5897435897435903, &quot;z&quot;: -0.5188074113922254}, {&quot;x&quot;: -1.0769230769230762, &quot;y&quot;: 1.692307692307693, &quot;z&quot;: -0.7720599336301598}, {&quot;x&quot;: -1.0769230769230762, &quot;y&quot;: 1.7948717948717956, &quot;z&quot;: -0.9456980317608904}, {&quot;x&quot;: -1.0769230769230762, &quot;y&quot;: 1.8974358974358982, &quot;z&quot;: -0.9988655575201715}, {&quot;x&quot;: -1.0769230769230762, &quot;y&quot;: 2.0, &quot;z&quot;: -0.90158607169558}, {&quot;x&quot;: -0.9743589743589737, &quot;y&quot;: -1.8974358974358974, &quot;z&quot;: -0.9867853311857144}, {&quot;x&quot;: -0.9743589743589737, &quot;y&quot;: -2.0, &quot;z&quot;: -0.9720498964973199}, {&quot;x&quot;: -0.9743589743589737, &quot;y&quot;: -1.7948717948717947, &quot;z&quot;: -0.8569628963579059}, {&quot;x&quot;: -0.9743589743589737, &quot;y&quot;: -1.692307692307692, &quot;z&quot;: -0.6223082574674963}, {&quot;x&quot;: -0.9743589743589737, &quot;y&quot;: -1.5897435897435894, &quot;z&quot;: -0.3288328586983272}, {&quot;x&quot;: -0.9743589743589737, &quot;y&quot;: -1.4871794871794868, &quot;z&quot;: -0.01948435136116655}, {&quot;x&quot;: -0.9743589743589737, &quot;y&quot;: -1.3846153846153841, &quot;z&quot;: 0.271602256094138}, {&quot;x&quot;: -0.9743589743589737, &quot;y&quot;: -1.2820512820512815, &quot;z&quot;: 0.5214605477998673}, {&quot;x&quot;: -0.9743589743589737, &quot;y&quot;: -1.1794871794871788, &quot;z&quot;: 0.7180713945754523}, {&quot;x&quot;: -0.9743589743589737, &quot;y&quot;: -1.0769230769230762, &quot;z&quot;: 0.8585597356218668}, {&quot;x&quot;: -0.9743589743589737, &quot;y&quot;: -0.9743589743589737, &quot;z&quot;: 0.9467031955275815}, {&quot;x&quot;: -0.9743589743589737, &quot;y&quot;: -0.8717948717948711, &quot;z&quot;: 0.9904096424403914}, {&quot;x&quot;: -0.9743589743589737, &quot;y&quot;: -0.7692307692307686, &quot;z&quot;: 0.9995588407239097}, {&quot;x&quot;: -0.9743589743589737, &quot;y&quot;: -0.6666666666666661, &quot;z&quot;: 0.9843804959815313}, {&quot;x&quot;: -0.9743589743589737, &quot;y&quot;: -0.5641025641025635, &quot;z&quot;: 0.9543831839244395}, {&quot;x&quot;: -0.9743589743589737, &quot;y&quot;: -0.461538461538461, &quot;z&quot;: 0.9177561668352502}, {&quot;x&quot;: -0.9743589743589737, &quot;y&quot;: -0.3589743589743585, &quot;z&quot;: 0.881125958276648}, {&quot;x&quot;: -0.9743589743589737, &quot;y&quot;: -0.25641025641025594, &quot;z&quot;: 0.8495447201640857}, {&quot;x&quot;: -0.9743589743589737, &quot;y&quot;: -0.15384615384615338, &quot;z&quot;: 0.8266026889085097}, {&quot;x&quot;: -0.9743589743589737, &quot;y&quot;: -0.05128205128205082, &quot;z&quot;: 0.8145802942653669}, {&quot;x&quot;: -0.9743589743589737, &quot;y&quot;: 0.05128205128205174, &quot;z&quot;: 0.814580294265367}, {&quot;x&quot;: -0.9743589743589737, &quot;y&quot;: 0.1538461538461543, &quot;z&quot;: 0.8266026889085099}, {&quot;x&quot;: -0.9743589743589737, &quot;y&quot;: 0.25641025641025683, &quot;z&quot;: 0.8495447201640859}, {&quot;x&quot;: -0.9743589743589737, &quot;y&quot;: 0.35897435897435936, &quot;z&quot;: 0.8811259582766483}, {&quot;x&quot;: -0.9743589743589737, &quot;y&quot;: 0.4615384615384619, &quot;z&quot;: 0.9177561668352505}, {&quot;x&quot;: -0.9743589743589737, &quot;y&quot;: 0.5641025641025644, &quot;z&quot;: 0.9543831839244398}, {&quot;x&quot;: -0.9743589743589737, &quot;y&quot;: 0.666666666666667, &quot;z&quot;: 0.9843804959815315}, {&quot;x&quot;: -0.9743589743589737, &quot;y&quot;: 0.7692307692307695, &quot;z&quot;: 0.9995588407239098}, {&quot;x&quot;: -0.9743589743589737, &quot;y&quot;: 0.871794871794872, &quot;z&quot;: 0.9904096424403912}, {&quot;x&quot;: -0.9743589743589737, &quot;y&quot;: 0.9743589743589746, &quot;z&quot;: 0.946703195527581}, {&quot;x&quot;: -0.9743589743589737, &quot;y&quot;: 1.076923076923077, &quot;z&quot;: 0.8585597356218659}, {&quot;x&quot;: -0.9743589743589737, &quot;y&quot;: 1.1794871794871797, &quot;z&quot;: 0.7180713945754508}, {&quot;x&quot;: -0.9743589743589737, &quot;y&quot;: 1.2820512820512824, &quot;z&quot;: 0.5214605477998654}, {&quot;x&quot;: -0.9743589743589737, &quot;y&quot;: 1.384615384615385, &quot;z&quot;: 0.27160225609413585}, {&quot;x&quot;: -0.9743589743589737, &quot;y&quot;: 1.4871794871794877, &quot;z&quot;: -0.019484351361169213}, {&quot;x&quot;: -0.9743589743589737, &quot;y&quot;: 1.5897435897435903, &quot;z&quot;: -0.3288328586983301}, {&quot;x&quot;: -0.9743589743589737, &quot;y&quot;: 1.692307692307693, &quot;z&quot;: -0.6223082574674987}, {&quot;x&quot;: -0.9743589743589737, &quot;y&quot;: 1.7948717948717956, &quot;z&quot;: -0.8569628963579078}, {&quot;x&quot;: -0.9743589743589737, &quot;y&quot;: 1.8974358974358982, &quot;z&quot;: -0.9867853311857149}, {&quot;x&quot;: -0.9743589743589737, &quot;y&quot;: 2.0, &quot;z&quot;: -0.9720498964973199}, {&quot;x&quot;: -0.8717948717948711, &quot;y&quot;: -1.8974358974358974, &quot;z&quot;: -0.9386506611540255}, {&quot;x&quot;: -0.8717948717948711, &quot;y&quot;: -2.0, &quot;z&quot;: -0.9988655575201716}, {&quot;x&quot;: -0.8717948717948711, &quot;y&quot;: -1.7948717948717947, &quot;z&quot;: -0.7446420553162048}, {&quot;x&quot;: -0.8717948717948711, &quot;y&quot;: -1.692307692307692, &quot;z&quot;: -0.46385256532146757}, {&quot;x&quot;: -0.8717948717948711, &quot;y&quot;: -1.5897435897435894, &quot;z&quot;: -0.14520318021882667}, {&quot;x&quot;: -0.8717948717948711, &quot;y&quot;: -1.4871794871794868, &quot;z&quot;: 0.16904784278193366}, {&quot;x&quot;: -0.8717948717948711, &quot;y&quot;: -1.3846153846153841, &quot;z&quot;: 0.4478923214676823}, {&quot;x&quot;: -0.8717948717948711, &quot;y&quot;: -1.2820512820512815, &quot;z&quot;: 0.6727436809952146}, {&quot;x&quot;: -0.8717948717948711, &quot;y&quot;: -1.1794871794871788, &quot;z&quot;: 0.8362324180100278}, {&quot;x&quot;: -0.8717948717948711, &quot;y&quot;: -1.0769230769230762, &quot;z&quot;: 0.9397174370365121}, {&quot;x&quot;: -0.8717948717948711, &quot;y&quot;: -0.9743589743589737, &quot;z&quot;: 0.9904096424403914}, {&quot;x&quot;: -0.8717948717948711, &quot;y&quot;: -0.8717948717948711, &quot;z&quot;: 0.9987128131784938}, {&quot;x&quot;: -0.8717948717948711, &quot;y&quot;: -0.7692307692307686, &quot;z&quot;: 0.9761034465555098}, {&quot;x&quot;: -0.8717948717948711, &quot;y&quot;: -0.6666666666666661, &quot;z&quot;: 0.9336497743705062}, {&quot;x&quot;: -0.8717948717948711, &quot;y&quot;: -0.5641025641025635, &quot;z&quot;: 0.881125958276648}, {&quot;x&quot;: -0.8717948717948711, &quot;y&quot;: -0.461538461538461, &quot;z&quot;: 0.8266026889085096}, {&quot;x&quot;: -0.8717948717948711, &quot;y&quot;: -0.3589743589743585, &quot;z&quot;: 0.7763719213006595}, {&quot;x&quot;: -0.8717948717948711, &quot;y&quot;: -0.25641025641025594, &quot;z&quot;: 0.7350717605355972}, {&quot;x&quot;: -0.8717948717948711, &quot;y&quot;: -0.15384615384615338, &quot;z&quot;: 0.7059013935654569}, {&quot;x&quot;: -0.8717948717948711, &quot;y&quot;: -0.05128205128205082, &quot;z&quot;: 0.6908442838292245}, {&quot;x&quot;: -0.8717948717948711, &quot;y&quot;: 0.05128205128205174, &quot;z&quot;: 0.6908442838292246}, {&quot;x&quot;: -0.8717948717948711, &quot;y&quot;: 0.1538461538461543, &quot;z&quot;: 0.705901393565457}, {&quot;x&quot;: -0.8717948717948711, &quot;y&quot;: 0.25641025641025683, &quot;z&quot;: 0.7350717605355976}, {&quot;x&quot;: -0.8717948717948711, &quot;y&quot;: 0.35897435897435936, &quot;z&quot;: 0.7763719213006599}, {&quot;x&quot;: -0.8717948717948711, &quot;y&quot;: 0.4615384615384619, &quot;z&quot;: 0.8266026889085101}, {&quot;x&quot;: -0.8717948717948711, &quot;y&quot;: 0.5641025641025644, &quot;z&quot;: 0.8811259582766484}, {&quot;x&quot;: -0.8717948717948711, &quot;y&quot;: 0.666666666666667, &quot;z&quot;: 0.9336497743705068}, {&quot;x&quot;: -0.8717948717948711, &quot;y&quot;: 0.7692307692307695, &quot;z&quot;: 0.9761034465555102}, {&quot;x&quot;: -0.8717948717948711, &quot;y&quot;: 0.871794871794872, &quot;z&quot;: 0.9987128131784939}, {&quot;x&quot;: -0.8717948717948711, &quot;y&quot;: 0.9743589743589746, &quot;z&quot;: 0.9904096424403912}, {&quot;x&quot;: -0.8717948717948711, &quot;y&quot;: 1.076923076923077, &quot;z&quot;: 0.9397174370365113}, {&quot;x&quot;: -0.8717948717948711, &quot;y&quot;: 1.1794871794871797, &quot;z&quot;: 0.8362324180100268}, {&quot;x&quot;: -0.8717948717948711, &quot;y&quot;: 1.2820512820512824, &quot;z&quot;: 0.672743680995213}, {&quot;x&quot;: -0.8717948717948711, &quot;y&quot;: 1.384615384615385, &quot;z&quot;: 0.44789232146767993}, {&quot;x&quot;: -0.8717948717948711, &quot;y&quot;: 1.4871794871794877, &quot;z&quot;: 0.16904784278193105}, {&quot;x&quot;: -0.8717948717948711, &quot;y&quot;: 1.5897435897435903, &quot;z&quot;: -0.14520318021882975}, {&quot;x&quot;: -0.8717948717948711, &quot;y&quot;: 1.692307692307693, &quot;z&quot;: -0.4638525653214703}, {&quot;x&quot;: -0.8717948717948711, &quot;y&quot;: 1.7948717948717956, &quot;z&quot;: -0.7446420553162071}, {&quot;x&quot;: -0.8717948717948711, &quot;y&quot;: 1.8974358974358982, &quot;z&quot;: -0.9386506611540267}, {&quot;x&quot;: -0.8717948717948711, &quot;y&quot;: 2.0, &quot;z&quot;: -0.9988655575201716}, {&quot;x&quot;: -0.7692307692307686, &quot;y&quot;: -1.8974358974358974, &quot;z&quot;: -0.8676153763521616}, {&quot;x&quot;: -0.7692307692307686, &quot;y&quot;: -2.0, &quot;z&quot;: -0.9927278442205985}, {&quot;x&quot;: -0.7692307692307686, &quot;y&quot;: -1.7948717948717947, &quot;z&quot;: -0.6223082574674966}, {&quot;x&quot;: -0.7692307692307686, &quot;y&quot;: -1.692307692307692, &quot;z&quot;: -0.30889276742513744}, {&quot;x&quot;: -0.7692307692307686, &quot;y&quot;: -1.5897435897435894, &quot;z&quot;: 0.022590074357281966}, {&quot;x&quot;: -0.7692307692307686, &quot;y&quot;: -1.4871794871794868, &quot;z&quot;: 0.33176492576635014}, {&quot;x&quot;: -0.7692307692307686, &quot;y&quot;: -1.3846153846153841, &quot;z&quot;: 0.5913379220261091}, {&quot;x&quot;: -0.7692307692307686, &quot;y&quot;: -1.2820512820512815, &quot;z&quot;: 0.7871788782455278}, {&quot;x&quot;: -0.7692307692307686, &quot;y&quot;: -1.1794871794871788, &quot;z&quot;: 0.9162778539450304}, {&quot;x&quot;: -0.7692307692307686, &quot;y&quot;: -1.0769230769230762, &quot;z&quot;: 0.9837211927455881}, {&quot;x&quot;: -0.7692307692307686, &quot;y&quot;: -0.9743589743589737, &quot;z&quot;: 0.9995588407239097}, {&quot;x&quot;: -0.7692307692307686, &quot;y&quot;: -0.8717948717948711, &quot;z&quot;: 0.9761034465555098}, {&quot;x&quot;: -0.7692307692307686, &quot;y&quot;: -0.7692307692307686, &quot;z&quot;: 0.9259078806692498}, {&quot;x&quot;: -0.7692307692307686, &quot;y&quot;: -0.6666666666666661, &quot;z&quot;: 0.8604542023038215}, {&quot;x&quot;: -0.7692307692307686, &quot;y&quot;: -0.5641025641025635, &quot;z&quot;: 0.789459351016214}, {&quot;x&quot;: -0.7692307692307686, &quot;y&quot;: -0.461538461538461, &quot;z&quot;: 0.7206460612015038}, {&quot;x&quot;: -0.7692307692307686, &quot;y&quot;: -0.3589743589743585, &quot;z&quot;: 0.6598195313702909}, {&quot;x&quot;: -0.7692307692307686, &quot;y&quot;: -0.25641025641025594, &quot;z&quot;: 0.611110034247127}, {&quot;x&quot;: -0.7692307692307686, &quot;y&quot;: -0.15384615384615338, &quot;z&quot;: 0.5772726232366278}, {&quot;x&quot;: -0.7692307692307686, &quot;y&quot;: -0.05128205128205082, &quot;z&quot;: 0.5599668806550449}, {&quot;x&quot;: -0.7692307692307686, &quot;y&quot;: 0.05128205128205174, &quot;z&quot;: 0.559966880655045}, {&quot;x&quot;: -0.7692307692307686, &quot;y&quot;: 0.1538461538461543, &quot;z&quot;: 0.577272623236628}, {&quot;x&quot;: -0.7692307692307686, &quot;y&quot;: 0.25641025641025683, &quot;z&quot;: 0.6111100342471273}, {&quot;x&quot;: -0.7692307692307686, &quot;y&quot;: 0.35897435897435936, &quot;z&quot;: 0.6598195313702914}, {&quot;x&quot;: -0.7692307692307686, &quot;y&quot;: 0.4615384615384619, &quot;z&quot;: 0.7206460612015043}, {&quot;x&quot;: -0.7692307692307686, &quot;y&quot;: 0.5641025641025644, &quot;z&quot;: 0.7894593510162147}, {&quot;x&quot;: -0.7692307692307686, &quot;y&quot;: 0.666666666666667, &quot;z&quot;: 0.8604542023038221}, {&quot;x&quot;: -0.7692307692307686, &quot;y&quot;: 0.7692307692307695, &quot;z&quot;: 0.9259078806692502}, {&quot;x&quot;: -0.7692307692307686, &quot;y&quot;: 0.871794871794872, &quot;z&quot;: 0.9761034465555102}, {&quot;x&quot;: -0.7692307692307686, &quot;y&quot;: 0.9743589743589746, &quot;z&quot;: 0.9995588407239098}, {&quot;x&quot;: -0.7692307692307686, &quot;y&quot;: 1.076923076923077, &quot;z&quot;: 0.9837211927455878}, {&quot;x&quot;: -0.7692307692307686, &quot;y&quot;: 1.1794871794871797, &quot;z&quot;: 0.9162778539450296}, {&quot;x&quot;: -0.7692307692307686, &quot;y&quot;: 1.2820512820512824, &quot;z&quot;: 0.7871788782455267}, {&quot;x&quot;: -0.7692307692307686, &quot;y&quot;: 1.384615384615385, &quot;z&quot;: 0.5913379220261069}, {&quot;x&quot;: -0.7692307692307686, &quot;y&quot;: 1.4871794871794877, &quot;z&quot;: 0.33176492576634764}, {&quot;x&quot;: -0.7692307692307686, &quot;y&quot;: 1.5897435897435903, &quot;z&quot;: 0.02259007435727886}, {&quot;x&quot;: -0.7692307692307686, &quot;y&quot;: 1.692307692307693, &quot;z&quot;: -0.3088927674251404}, {&quot;x&quot;: -0.7692307692307686, &quot;y&quot;: 1.7948717948717956, &quot;z&quot;: -0.6223082574674994}, {&quot;x&quot;: -0.7692307692307686, &quot;y&quot;: 1.8974358974358982, &quot;z&quot;: -0.8676153763521633}, {&quot;x&quot;: -0.7692307692307686, &quot;y&quot;: 2.0, &quot;z&quot;: -0.9927278442205985}, {&quot;x&quot;: -0.6666666666666661, &quot;y&quot;: -1.8974358974358974, &quot;z&quot;: -0.7852592822929686}, {&quot;x&quot;: -0.6666666666666661, &quot;y&quot;: -2.0, &quot;z&quot;: -0.964317116928778}, {&quot;x&quot;: -0.6666666666666661, &quot;y&quot;: -1.7948717948717947, &quot;z&quot;: -0.5007080469013303}, {&quot;x&quot;: -0.6666666666666661, &quot;y&quot;: -1.692307692307692, &quot;z&quot;: -0.16598532830685125}, {&quot;x&quot;: -0.6666666666666661, &quot;y&quot;: -1.5897435897435894, &quot;z&quot;: 0.16904784278193324}, {&quot;x&quot;: -0.6666666666666661, &quot;y&quot;: -1.4871794871794868, &quot;z&quot;: 0.46660233154530856}, {&quot;x&quot;: -0.6666666666666661, &quot;y&quot;: -1.3846153846153841, &quot;z&quot;: 0.7032712051388313}, {&quot;x&quot;: -0.6666666666666661, &quot;y&quot;: -1.2820512820512815, &quot;z&quot;: 0.869155807199706}, {&quot;x&quot;: -0.6666666666666661, &quot;y&quot;: -1.1794871794871788, &quot;z&quot;: 0.9651348850025951}, {&quot;x&quot;: -0.6666666666666661, &quot;y&quot;: -1.0769230769230762, &quot;z&quot;: 0.999441890052792}, {&quot;x&quot;: -0.6666666666666661, &quot;y&quot;: -0.9743589743589737, &quot;z&quot;: 0.9843804959815313}, {&quot;x&quot;: -0.6666666666666661, &quot;y&quot;: -0.8717948717948711, &quot;z&quot;: 0.9336497743705062}, {&quot;x&quot;: -0.6666666666666661, &quot;y&quot;: -0.7692307692307686, &quot;z&quot;: 0.8604542023038215}, {&quot;x&quot;: -0.6666666666666661, &quot;y&quot;: -0.6666666666666661, &quot;z&quot;: 0.7763719213006595}, {&quot;x&quot;: -0.6666666666666661, &quot;y&quot;: -0.5641025641025635, &quot;z&quot;: 0.6908442838292245}, {&quot;x&quot;: -0.6666666666666661, &quot;y&quot;: -0.461538461538461, &quot;z&quot;: 0.6111100342471268}, {&quot;x&quot;: -0.6666666666666661, &quot;y&quot;: -0.3589743589743585, &quot;z&quot;: 0.5424132886856848}, {&quot;x&quot;: -0.6666666666666661, &quot;y&quot;: -0.25641025641025594, &quot;z&quot;: 0.488343638999538}, {&quot;x&quot;: -0.6666666666666661, &quot;y&quot;: -0.15384615384615338, &quot;z&quot;: 0.45120316522131565}, {&quot;x&quot;: -0.6666666666666661, &quot;y&quot;: -0.05128205128205082, &quot;z&quot;: 0.43232923208555346}, {&quot;x&quot;: -0.6666666666666661, &quot;y&quot;: 0.05128205128205174, &quot;z&quot;: 0.43232923208555357}, {&quot;x&quot;: -0.6666666666666661, &quot;y&quot;: 0.1538461538461543, &quot;z&quot;: 0.45120316522131587}, {&quot;x&quot;: -0.6666666666666661, &quot;y&quot;: 0.25641025641025683, &quot;z&quot;: 0.4883436389995384}, {&quot;x&quot;: -0.6666666666666661, &quot;y&quot;: 0.35897435897435936, &quot;z&quot;: 0.5424132886856854}, {&quot;x&quot;: -0.6666666666666661, &quot;y&quot;: 0.4615384615384619, &quot;z&quot;: 0.6111100342471275}, {&quot;x&quot;: -0.6666666666666661, &quot;y&quot;: 0.5641025641025644, &quot;z&quot;: 0.6908442838292251}, {&quot;x&quot;: -0.6666666666666661, &quot;y&quot;: 0.666666666666667, &quot;z&quot;: 0.7763719213006602}, {&quot;x&quot;: -0.6666666666666661, &quot;y&quot;: 0.7692307692307695, &quot;z&quot;: 0.8604542023038222}, {&quot;x&quot;: -0.6666666666666661, &quot;y&quot;: 0.871794871794872, &quot;z&quot;: 0.9336497743705068}, {&quot;x&quot;: -0.6666666666666661, &quot;y&quot;: 0.9743589743589746, &quot;z&quot;: 0.9843804959815317}, {&quot;x&quot;: -0.6666666666666661, &quot;y&quot;: 1.076923076923077, &quot;z&quot;: 0.999441890052792}, {&quot;x&quot;: -0.6666666666666661, &quot;y&quot;: 1.1794871794871797, &quot;z&quot;: 0.9651348850025946}, {&quot;x&quot;: -0.6666666666666661, &quot;y&quot;: 1.2820512820512824, &quot;z&quot;: 0.8691558071997049}, {&quot;x&quot;: -0.6666666666666661, &quot;y&quot;: 1.384615384615385, &quot;z&quot;: 0.7032712051388298}, {&quot;x&quot;: -0.6666666666666661, &quot;y&quot;: 1.4871794871794877, &quot;z&quot;: 0.46660233154530617}, {&quot;x&quot;: -0.6666666666666661, &quot;y&quot;: 1.5897435897435903, &quot;z&quot;: 0.16904784278193016}, {&quot;x&quot;: -0.6666666666666661, &quot;y&quot;: 1.692307692307693, &quot;z&quot;: -0.16598532830685434}, {&quot;x&quot;: -0.6666666666666661, &quot;y&quot;: 1.7948717948717956, &quot;z&quot;: -0.5007080469013334}, {&quot;x&quot;: -0.6666666666666661, &quot;y&quot;: 1.8974358974358982, &quot;z&quot;: -0.7852592822929708}, {&quot;x&quot;: -0.6666666666666661, &quot;y&quot;: 2.0, &quot;z&quot;: -0.964317116928778}, {&quot;x&quot;: -0.5641025641025635, &quot;y&quot;: -1.8974358974358974, &quot;z&quot;: -0.7010594000967505}, {&quot;x&quot;: -0.5641025641025635, &quot;y&quot;: -2.0, &quot;z&quot;: -0.9233128422850049}, {&quot;x&quot;: -0.5641025641025635, &quot;y&quot;: -1.7948717948717947, &quot;z&quot;: -0.3877448785257983}, {&quot;x&quot;: -0.5641025641025635, &quot;y&quot;: -1.692307692307692, &quot;z&quot;: -0.04051328390197793}, {&quot;x&quot;: -0.5641025641025635, &quot;y&quot;: -1.5897435897435894, &quot;z&quot;: 0.29178858833928983}, {&quot;x&quot;: -0.5641025641025635, &quot;y&quot;: -1.4871794871794868, &quot;z&quot;: 0.5742421235734634}, {&quot;x&quot;: -0.5641025641025635, &quot;y&quot;: -1.3846153846153841, &quot;z&quot;: 0.7871788782455275}, {&quot;x&quot;: -0.5641025641025635, &quot;y&quot;: -1.2820512820512815, &quot;z&quot;: 0.9245013988266576}, {&quot;x&quot;: -0.5641025641025635, &quot;y&quot;: -1.1794871794871788, &quot;z&quot;: 0.9904096424403914}, {&quot;x&quot;: -0.5641025641025635, &quot;y&quot;: -1.0769230769230762, &quot;z&quot;: 0.9956951942808121}, {&quot;x&quot;: -0.5641025641025635, &quot;y&quot;: -0.9743589743589737, &quot;z&quot;: 0.9543831839244395}, {&quot;x&quot;: -0.5641025641025635, &quot;y&quot;: -0.8717948717948711, &quot;z&quot;: 0.881125958276648}, {&quot;x&quot;: -0.5641025641025635, &quot;y&quot;: -0.7692307692307686, &quot;z&quot;: 0.789459351016214}, {&quot;x&quot;: -0.5641025641025635, &quot;y&quot;: -0.6666666666666661, &quot;z&quot;: 0.6908442838292245}, {&quot;x&quot;: -0.5641025641025635, &quot;y&quot;: -0.5641025641025635, &quot;z&quot;: 0.5943228566600934}, {&quot;x&quot;: -0.5641025641025635, &quot;y&quot;: -0.461538461538461, &quot;z&quot;: 0.5065937407346168}, {&quot;x&quot;: -0.5641025641025635, &quot;y&quot;: -0.3589743589743585, &quot;z&quot;: 0.4323292320855534}, {&quot;x&quot;: -0.5641025641025635, &quot;y&quot;: -0.25641025641025594, &quot;z&quot;: 0.37459313713929226}, {&quot;x&quot;: -0.5641025641025635, &quot;y&quot;: -0.15384615384615338, &quot;z&quot;: 0.3352592026240967}, {&quot;x&quot;: -0.5641025641025635, &quot;y&quot;: -0.05128205128205082, &quot;z&quot;: 0.3153652797274803}, {&quot;x&quot;: -0.5641025641025635, &quot;y&quot;: 0.05128205128205174, &quot;z&quot;: 0.3153652797274804}, {&quot;x&quot;: -0.5641025641025635, &quot;y&quot;: 0.1538461538461543, &quot;z&quot;: 0.335259202624097}, {&quot;x&quot;: -0.5641025641025635, &quot;y&quot;: 0.25641025641025683, &quot;z&quot;: 0.37459313713929265}, {&quot;x&quot;: -0.5641025641025635, &quot;y&quot;: 0.35897435897435936, &quot;z&quot;: 0.43232923208555396}, {&quot;x&quot;: -0.5641025641025635, &quot;y&quot;: 0.4615384615384619, &quot;z&quot;: 0.5065937407346176}, {&quot;x&quot;: -0.5641025641025635, &quot;y&quot;: 0.5641025641025644, &quot;z&quot;: 0.5943228566600942}, {&quot;x&quot;: -0.5641025641025635, &quot;y&quot;: 0.666666666666667, &quot;z&quot;: 0.6908442838292252}, {&quot;x&quot;: -0.5641025641025635, &quot;y&quot;: 0.7692307692307695, &quot;z&quot;: 0.7894593510162148}, {&quot;x&quot;: -0.5641025641025635, &quot;y&quot;: 0.871794871794872, &quot;z&quot;: 0.8811259582766487}, {&quot;x&quot;: -0.5641025641025635, &quot;y&quot;: 0.9743589743589746, &quot;z&quot;: 0.9543831839244401}, {&quot;x&quot;: -0.5641025641025635, &quot;y&quot;: 1.076923076923077, &quot;z&quot;: 0.9956951942808123}, {&quot;x&quot;: -0.5641025641025635, &quot;y&quot;: 1.1794871794871797, &quot;z&quot;: 0.9904096424403911}, {&quot;x&quot;: -0.5641025641025635, &quot;y&quot;: 1.2820512820512824, &quot;z&quot;: 0.9245013988266568}, {&quot;x&quot;: -0.5641025641025635, &quot;y&quot;: 1.384615384615385, &quot;z&quot;: 0.7871788782455261}, {&quot;x&quot;: -0.5641025641025635, &quot;y&quot;: 1.4871794871794877, &quot;z&quot;: 0.5742421235734612}, {&quot;x&quot;: -0.5641025641025635, &quot;y&quot;: 1.5897435897435903, &quot;z&quot;: 0.29178858833928684}, {&quot;x&quot;: -0.5641025641025635, &quot;y&quot;: 1.692307692307693, &quot;z&quot;: -0.040513283901981036}, {&quot;x&quot;: -0.5641025641025635, &quot;y&quot;: 1.7948717948717956, &quot;z&quot;: -0.3877448785258016}, {&quot;x&quot;: -0.5641025641025635, &quot;y&quot;: 1.8974358974358982, &quot;z&quot;: -0.7010594000967527}, {&quot;x&quot;: -0.5641025641025635, &quot;y&quot;: 2.0, &quot;z&quot;: -0.9233128422850049}, {&quot;x&quot;: -0.461538461538461, &quot;y&quot;: -1.8974358974358974, &quot;z&quot;: -0.6223082574674974}, {&quot;x&quot;: -0.461538461538461, &quot;y&quot;: -2.0, &quot;z&quot;: -0.8778838373137139}, {&quot;x&quot;: -0.461538461538461, &quot;y&quot;: -1.7948717948717947, &quot;z&quot;: -0.2888159557744755}, {&quot;x&quot;: -0.461538461538461, &quot;y&quot;: -1.692307692307692, &quot;z&quot;: 0.06462450973522742}, {&quot;x&quot;: -0.461538461538461, &quot;y&quot;: -1.5897435897435894, &quot;z&quot;: 0.3906063900704556}, {&quot;x&quot;: -0.461538461538461, &quot;y&quot;: -1.4871794871794868, &quot;z&quot;: 0.6570298582090661}, {&quot;x&quot;: -0.461538461538461, &quot;y&quot;: -1.3846153846153841, &quot;z&quot;: 0.8475836531680356}, {&quot;x&quot;: -0.461538461538461, &quot;y&quot;: -1.2820512820512815, &quot;z&quot;: 0.9594147326651201}, {&quot;x&quot;: -0.461538461538461, &quot;y&quot;: -1.1794871794871788, &quot;z&quot;: 0.999441890052792}, {&quot;x&quot;: -0.461538461538461, &quot;y&quot;: -1.0769230769230762, &quot;z&quot;: 0.9804589538793272}, {&quot;x&quot;: -0.461538461538461, &quot;y&quot;: -0.9743589743589737, &quot;z&quot;: 0.9177561668352502}, {&quot;x&quot;: -0.461538461538461, &quot;y&quot;: -0.8717948717948711, &quot;z&quot;: 0.8266026889085096}, {&quot;x&quot;: -0.461538461538461, &quot;y&quot;: -0.7692307692307686, &quot;z&quot;: 0.7206460612015038}, {&quot;x&quot;: -0.461538461538461, &quot;y&quot;: -0.6666666666666661, &quot;z&quot;: 0.6111100342471268}, {&quot;x&quot;: -0.461538461538461, &quot;y&quot;: -0.5641025641025635, &quot;z&quot;: 0.5065937407346168}, {&quot;x&quot;: -0.461538461538461, &quot;y&quot;: -0.461538461538461, &quot;z&quot;: 0.4132639438193499}, {&quot;x&quot;: -0.461538461538461, &quot;y&quot;: -0.3589743589743585, &quot;z&quot;: 0.3352592026240966}, {&quot;x&quot;: -0.461538461538461, &quot;y&quot;: -0.25641025641025594, &quot;z&quot;: 0.2751675454395323}, {&quot;x&quot;: -0.461538461538461, &quot;y&quot;: -0.15384615384615338, &quot;z&quot;: 0.23448269262052704}, {&quot;x&quot;: -0.461538461538461, &quot;y&quot;: -0.05128205128205082, &quot;z&quot;: 0.2139800736889051}, {&quot;x&quot;: -0.461538461538461, &quot;y&quot;: 0.05128205128205174, &quot;z&quot;: 0.2139800736889052}, {&quot;x&quot;: -0.461538461538461, &quot;y&quot;: 0.1538461538461543, &quot;z&quot;: 0.23448269262052732}, {&quot;x&quot;: -0.461538461538461, &quot;y&quot;: 0.25641025641025683, &quot;z&quot;: 0.27516754543953276}, {&quot;x&quot;: -0.461538461538461, &quot;y&quot;: 0.35897435897435936, &quot;z&quot;: 0.33525920262409725}, {&quot;x&quot;: -0.461538461538461, &quot;y&quot;: 0.4615384615384619, &quot;z&quot;: 0.41326394381935067}, {&quot;x&quot;: -0.461538461538461, &quot;y&quot;: 0.5641025641025644, &quot;z&quot;: 0.5065937407346177}, {&quot;x&quot;: -0.461538461538461, &quot;y&quot;: 0.666666666666667, &quot;z&quot;: 0.6111100342471278}, {&quot;x&quot;: -0.461538461538461, &quot;y&quot;: 0.7692307692307695, &quot;z&quot;: 0.7206460612015047}, {&quot;x&quot;: -0.461538461538461, &quot;y&quot;: 0.871794871794872, &quot;z&quot;: 0.8266026889085105}, {&quot;x&quot;: -0.461538461538461, &quot;y&quot;: 0.9743589743589746, &quot;z&quot;: 0.9177561668352509}, {&quot;x&quot;: -0.461538461538461, &quot;y&quot;: 1.076923076923077, &quot;z&quot;: 0.9804589538793276}, {&quot;x&quot;: -0.461538461538461, &quot;y&quot;: 1.1794871794871797, &quot;z&quot;: 0.999441890052792}, {&quot;x&quot;: -0.461538461538461, &quot;y&quot;: 1.2820512820512824, &quot;z&quot;: 0.9594147326651196}, {&quot;x&quot;: -0.461538461538461, &quot;y&quot;: 1.384615384615385, &quot;z&quot;: 0.8475836531680343}, {&quot;x&quot;: -0.461538461538461, &quot;y&quot;: 1.4871794871794877, &quot;z&quot;: 0.657029858209064}, {&quot;x&quot;: -0.461538461538461, &quot;y&quot;: 1.5897435897435903, &quot;z&quot;: 0.3906063900704527}, {&quot;x&quot;: -0.461538461538461, &quot;y&quot;: 1.692307692307693, &quot;z&quot;: 0.06462450973522431}, {&quot;x&quot;: -0.461538461538461, &quot;y&quot;: 1.7948717948717956, &quot;z&quot;: -0.2888159557744789}, {&quot;x&quot;: -0.461538461538461, &quot;y&quot;: 1.8974358974358982, &quot;z&quot;: -0.6223082574674997}, {&quot;x&quot;: -0.461538461538461, &quot;y&quot;: 2.0, &quot;z&quot;: -0.8778838373137139}, {&quot;x&quot;: -0.3589743589743585, &quot;y&quot;: -1.8974358974358974, &quot;z&quot;: -0.5543093361277324}, {&quot;x&quot;: -0.3589743589743585, &quot;y&quot;: -2.0, &quot;z&quot;: -0.8345249069195914}, {&quot;x&quot;: -0.3589743589743585, &quot;y&quot;: -1.7948717948717947, &quot;z&quot;: -0.207320056049031}, {&quot;x&quot;: -0.3589743589743585, &quot;y&quot;: -1.692307692307692, &quot;z&quot;: 0.14827596420928363}, {&quot;x&quot;: -0.3589743589743585, &quot;y&quot;: -1.5897435897435894, &quot;z&quot;: 0.46660233154530856}, {&quot;x&quot;: -0.3589743589743585, &quot;y&quot;: -1.4871794871794868, &quot;z&quot;: 0.7180713945754514}, {&quot;x&quot;: -0.3589743589743585, &quot;y&quot;: -1.3846153846153841, &quot;z&quot;: 0.8891893281073753}, {&quot;x&quot;: -0.3589743589743585, &quot;y&quot;: -1.2820512820512815, &quot;z&quot;: 0.9797230657400068}, {&quot;x&quot;: -0.3589743589743585, &quot;y&quot;: -1.1794871794871788, &quot;z&quot;: 0.9987128131784938}, {&quot;x&quot;: -0.3589743589743585, &quot;y&quot;: -1.0769230769230762, &quot;z&quot;: 0.960453366547572}, {&quot;x&quot;: -0.3589743589743585, &quot;y&quot;: -0.9743589743589737, &quot;z&quot;: 0.881125958276648}, {&quot;x&quot;: -0.3589743589743585, &quot;y&quot;: -0.8717948717948711, &quot;z&quot;: 0.7763719213006595}, {&quot;x&quot;: -0.3589743589743585, &quot;y&quot;: -0.7692307692307686, &quot;z&quot;: 0.6598195313702909}, {&quot;x&quot;: -0.3589743589743585, &quot;y&quot;: -0.6666666666666661, &quot;z&quot;: 0.5424132886856848}, {&quot;x&quot;: -0.3589743589743585, &quot;y&quot;: -0.5641025641025635, &quot;z&quot;: 0.4323292320855534}, {&quot;x&quot;: -0.3589743589743585, &quot;y&quot;: -0.461538461538461, &quot;z&quot;: 0.3352592026240966}, {&quot;x&quot;: -0.3589743589743585, &quot;y&quot;: -0.3589743589743585, &quot;z&quot;: 0.2548815261430149}, {&quot;x&quot;: -0.3589743589743585, &quot;y&quot;: -0.25641025641025594, &quot;z&quot;: 0.19338274410189887}, {&quot;x&quot;: -0.3589743589743585, &quot;y&quot;: -0.15384615384615338, &quot;z&quot;: 0.15194045754304764}, {&quot;x&quot;: -0.3589743589743585, &quot;y&quot;: -0.05128205128205082, &quot;z&quot;: 0.13111384352273514}, {&quot;x&quot;: -0.3589743589743585, &quot;y&quot;: 0.05128205128205174, &quot;z&quot;: 0.13111384352273525}, {&quot;x&quot;: -0.3589743589743585, &quot;y&quot;: 0.1538461538461543, &quot;z&quot;: 0.1519404575430479}, {&quot;x&quot;: -0.3589743589743585, &quot;y&quot;: 0.25641025641025683, &quot;z&quot;: 0.19338274410189932}, {&quot;x&quot;: -0.3589743589743585, &quot;y&quot;: 0.35897435897435936, &quot;z&quot;: 0.2548815261430155}, {&quot;x&quot;: -0.3589743589743585, &quot;y&quot;: 0.4615384615384619, &quot;z&quot;: 0.3352592026240974}, {&quot;x&quot;: -0.3589743589743585, &quot;y&quot;: 0.5641025641025644, &quot;z&quot;: 0.4323292320855543}, {&quot;x&quot;: -0.3589743589743585, &quot;y&quot;: 0.666666666666667, &quot;z&quot;: 0.542413288685686}, {&quot;x&quot;: -0.3589743589743585, &quot;y&quot;: 0.7692307692307695, &quot;z&quot;: 0.6598195313702919}, {&quot;x&quot;: -0.3589743589743585, &quot;y&quot;: 0.871794871794872, &quot;z&quot;: 0.7763719213006605}, {&quot;x&quot;: -0.3589743589743585, &quot;y&quot;: 0.9743589743589746, &quot;z&quot;: 0.8811259582766489}, {&quot;x&quot;: -0.3589743589743585, &quot;y&quot;: 1.076923076923077, &quot;z&quot;: 0.9604533665475725}, {&quot;x&quot;: -0.3589743589743585, &quot;y&quot;: 1.1794871794871797, &quot;z&quot;: 0.9987128131784939}, {&quot;x&quot;: -0.3589743589743585, &quot;y&quot;: 1.2820512820512824, &quot;z&quot;: 0.9797230657400063}, {&quot;x&quot;: -0.3589743589743585, &quot;y&quot;: 1.384615384615385, &quot;z&quot;: 0.889189328107374}, {&quot;x&quot;: -0.3589743589743585, &quot;y&quot;: 1.4871794871794877, &quot;z&quot;: 0.7180713945754496}, {&quot;x&quot;: -0.3589743589743585, &quot;y&quot;: 1.5897435897435903, &quot;z&quot;: 0.4666023315453058}, {&quot;x&quot;: -0.3589743589743585, &quot;y&quot;: 1.692307692307693, &quot;z&quot;: 0.14827596420928055}, {&quot;x&quot;: -0.3589743589743585, &quot;y&quot;: 1.7948717948717956, &quot;z&quot;: -0.20732005604903447}, {&quot;x&quot;: -0.3589743589743585, &quot;y&quot;: 1.8974358974358982, &quot;z&quot;: -0.5543093361277349}, {&quot;x&quot;: -0.3589743589743585, &quot;y&quot;: 2.0, &quot;z&quot;: -0.8345249069195914}, {&quot;x&quot;: -0.25641025641025594, &quot;y&quot;: -1.8974358974358974, &quot;z&quot;: -0.5007080469013311}, {&quot;x&quot;: -0.25641025641025594, &quot;y&quot;: -2.0, &quot;z&quot;: -0.7981110639137167}, {&quot;x&quot;: -0.25641025641025594, &quot;y&quot;: -1.7948717948717947, &quot;z&quot;: -0.145203180218828}, {&quot;x&quot;: -0.25641025641025594, &quot;y&quot;: -1.692307692307692, &quot;z&quot;: 0.2103579701000279}, {&quot;x&quot;: -0.25641025641025594, &quot;y&quot;: -1.5897435897435894, &quot;z&quot;: 0.5214605477998662}, {&quot;x&quot;: -0.25641025641025594, &quot;y&quot;: -1.4871794871794868, &quot;z&quot;: 0.7605394936891935}, {&quot;x&quot;: -0.25641025641025594, &quot;y&quot;: -1.3846153846153841, &quot;z&quot;: 0.91627785394503}, {&quot;x&quot;: -0.25641025641025594, &quot;y&quot;: -1.2820512820512815, &quot;z&quot;: 0.9904096424403913}, {&quot;x&quot;: -0.25641025641025594, &quot;y&quot;: -1.1794871794871788, &quot;z&quot;: 0.9935249385700319}, {&quot;x&quot;: -0.25641025641025594, &quot;y&quot;: -1.0769230769230762, &quot;z&quot;: 0.940978421265621}, {&quot;x&quot;: -0.25641025641025594, &quot;y&quot;: -0.9743589743589737, &quot;z&quot;: 0.8495447201640857}, {&quot;x&quot;: -0.25641025641025594, &quot;y&quot;: -0.8717948717948711, &quot;z&quot;: 0.7350717605355972}, {&quot;x&quot;: -0.25641025641025594, &quot;y&quot;: -0.7692307692307686, &quot;z&quot;: 0.611110034247127}, {&quot;x&quot;: -0.25641025641025594, &quot;y&quot;: -0.6666666666666661, &quot;z&quot;: 0.488343638999538}, {&quot;x&quot;: -0.25641025641025594, &quot;y&quot;: -0.5641025641025635, &quot;z&quot;: 0.37459313713929226}, {&quot;x&quot;: -0.25641025641025594, &quot;y&quot;: -0.461538461538461, &quot;z&quot;: 0.2751675454395323}, {&quot;x&quot;: -0.25641025641025594, &quot;y&quot;: -0.3589743589743585, &quot;z&quot;: 0.19338274410189887}, {&quot;x&quot;: -0.25641025641025594, &quot;y&quot;: -0.25641025641025594, &quot;z&quot;: 0.13111384352273509}, {&quot;x&quot;: -0.25641025641025594, &quot;y&quot;: -0.15384615384615338, &quot;z&quot;: 0.08929576071340543}, {&quot;x&quot;: -0.25641025641025594, &quot;y&quot;: -0.05128205128205082, &quot;z&quot;: 0.06832280120874135}, {&quot;x&quot;: -0.25641025641025594, &quot;y&quot;: 0.05128205128205174, &quot;z&quot;: 0.06832280120874144}, {&quot;x&quot;: -0.25641025641025594, &quot;y&quot;: 0.1538461538461543, &quot;z&quot;: 0.08929576071340571}, {&quot;x&quot;: -0.25641025641025594, &quot;y&quot;: 0.25641025641025683, &quot;z&quot;: 0.13111384352273553}, {&quot;x&quot;: -0.25641025641025594, &quot;y&quot;: 0.35897435897435936, &quot;z&quot;: 0.19338274410189948}, {&quot;x&quot;: -0.25641025641025594, &quot;y&quot;: 0.4615384615384619, &quot;z&quot;: 0.27516754543953315}, {&quot;x&quot;: -0.25641025641025594, &quot;y&quot;: 0.5641025641025644, &quot;z&quot;: 0.37459313713929315}, {&quot;x&quot;: -0.25641025641025594, &quot;y&quot;: 0.666666666666667, &quot;z&quot;: 0.48834363899953914}, {&quot;x&quot;: -0.25641025641025594, &quot;y&quot;: 0.7692307692307695, &quot;z&quot;: 0.611110034247128}, {&quot;x&quot;: -0.25641025641025594, &quot;y&quot;: 0.871794871794872, &quot;z&quot;: 0.7350717605355983}, {&quot;x&quot;: -0.25641025641025594, &quot;y&quot;: 0.9743589743589746, &quot;z&quot;: 0.8495447201640867}, {&quot;x&quot;: -0.25641025641025594, &quot;y&quot;: 1.076923076923077, &quot;z&quot;: 0.9409784212656217}, {&quot;x&quot;: -0.25641025641025594, &quot;y&quot;: 1.1794871794871797, &quot;z&quot;: 0.9935249385700321}, {&quot;x&quot;: -0.25641025641025594, &quot;y&quot;: 1.2820512820512824, &quot;z&quot;: 0.990409642440391}, {&quot;x&quot;: -0.25641025641025594, &quot;y&quot;: 1.384615384615385, &quot;z&quot;: 0.916277853945029}, {&quot;x&quot;: -0.25641025641025594, &quot;y&quot;: 1.4871794871794877, &quot;z&quot;: 0.7605394936891918}, {&quot;x&quot;: -0.25641025641025594, &quot;y&quot;: 1.5897435897435903, &quot;z&quot;: 0.5214605477998635}, {&quot;x&quot;: -0.25641025641025594, &quot;y&quot;: 1.692307692307693, &quot;z&quot;: 0.21035797010002488}, {&quot;x&quot;: -0.25641025641025594, &quot;y&quot;: 1.7948717948717956, &quot;z&quot;: -0.1452031802188315}, {&quot;x&quot;: -0.25641025641025594, &quot;y&quot;: 1.8974358974358982, &quot;z&quot;: -0.5007080469013339}, {&quot;x&quot;: -0.25641025641025594, &quot;y&quot;: 2.0, &quot;z&quot;: -0.7981110639137167}, {&quot;x&quot;: -0.15384615384615338, &quot;y&quot;: -1.8974358974358974, &quot;z&quot;: -0.4638525653214691}, {&quot;x&quot;: -0.15384615384615338, &quot;y&quot;: -2.0, &quot;z&quot;: -0.7720599336301592}, {&quot;x&quot;: -0.15384615384615338, &quot;y&quot;: -1.7948717948717947, &quot;z&quot;: -0.10345530392439001}, {&quot;x&quot;: -0.15384615384615338, &quot;y&quot;: -1.692307692307692, &quot;z&quot;: 0.25129570878767}, {&quot;x&quot;: -0.15384615384615338, &quot;y&quot;: -1.5897435897435894, &quot;z&quot;: 0.5568921573053986}, {&quot;x&quot;: -0.15384615384615338, &quot;y&quot;: -1.4871794871794868, &quot;z&quot;: 0.7871788782455272}, {&quot;x&quot;: -0.15384615384615338, &quot;y&quot;: -1.3846153846153841, &quot;z&quot;: 0.9323157461046155}, {&quot;x&quot;: -0.15384615384615338, &quot;y&quot;: -1.2820512820512815, &quot;z&quot;: 0.9953448080064283}, {&quot;x&quot;: -0.15384615384615338, &quot;y&quot;: -1.1794871794871788, &quot;z&quot;: 0.9878663371312377}, {&quot;x&quot;: -0.15384615384615338, &quot;y&quot;: -1.0769230769230762, &quot;z&quot;: 0.9259078806692499}, {&quot;x&quot;: -0.15384615384615338, &quot;y&quot;: -0.9743589743589737, &quot;z&quot;: 0.8266026889085097}, {&quot;x&quot;: -0.15384615384615338, &quot;y&quot;: -0.8717948717948711, &quot;z&quot;: 0.7059013935654569}, {&quot;x&quot;: -0.15384615384615338, &quot;y&quot;: -0.7692307692307686, &quot;z&quot;: 0.5772726232366278}, {&quot;x&quot;: -0.15384615384615338, &quot;y&quot;: -0.6666666666666661, &quot;z&quot;: 0.45120316522131565}, {&quot;x&quot;: -0.15384615384615338, &quot;y&quot;: -0.5641025641025635, &quot;z&quot;: 0.3352592026240967}, {&quot;x&quot;: -0.15384615384615338, &quot;y&quot;: -0.461538461538461, &quot;z&quot;: 0.23448269262052704}, {&quot;x&quot;: -0.15384615384615338, &quot;y&quot;: -0.3589743589743585, &quot;z&quot;: 0.15194045754304764}, {&quot;x&quot;: -0.15384615384615338, &quot;y&quot;: -0.25641025641025594, &quot;z&quot;: 0.08929576071340543}, {&quot;x&quot;: -0.15384615384615338, &quot;y&quot;: -0.15384615384615338, &quot;z&quot;: 0.04731960105050319}, {&quot;x&quot;: -0.15384615384615338, &quot;y&quot;: -0.05128205128205082, &quot;z&quot;: 0.026295456556884964}, {&quot;x&quot;: -0.15384615384615338, &quot;y&quot;: 0.05128205128205174, &quot;z&quot;: 0.026295456556885057}, {&quot;x&quot;: -0.15384615384615338, &quot;y&quot;: 0.1538461538461543, &quot;z&quot;: 0.047319601050503465}, {&quot;x&quot;: -0.15384615384615338, &quot;y&quot;: 0.25641025641025683, &quot;z&quot;: 0.08929576071340588}, {&quot;x&quot;: -0.15384615384615338, &quot;y&quot;: 0.35897435897435936, &quot;z&quot;: 0.15194045754304827}, {&quot;x&quot;: -0.15384615384615338, &quot;y&quot;: 0.4615384615384619, &quot;z&quot;: 0.23448269262052784}, {&quot;x&quot;: -0.15384615384615338, &quot;y&quot;: 0.5641025641025644, &quot;z&quot;: 0.33525920262409764}, {&quot;x&quot;: -0.15384615384615338, &quot;y&quot;: 0.666666666666667, &quot;z&quot;: 0.4512031652213167}, {&quot;x&quot;: -0.15384615384615338, &quot;y&quot;: 0.7692307692307695, &quot;z&quot;: 0.5772726232366289}, {&quot;x&quot;: -0.15384615384615338, &quot;y&quot;: 0.871794871794872, &quot;z&quot;: 0.705901393565458}, {&quot;x&quot;: -0.15384615384615338, &quot;y&quot;: 0.9743589743589746, &quot;z&quot;: 0.8266026889085107}, {&quot;x&quot;: -0.15384615384615338, &quot;y&quot;: 1.076923076923077, &quot;z&quot;: 0.9259078806692507}, {&quot;x&quot;: -0.15384615384615338, &quot;y&quot;: 1.1794871794871797, &quot;z&quot;: 0.9878663371312381}, {&quot;x&quot;: -0.15384615384615338, &quot;y&quot;: 1.2820512820512824, &quot;z&quot;: 0.9953448080064281}, {&quot;x&quot;: -0.15384615384615338, &quot;y&quot;: 1.384615384615385, &quot;z&quot;: 0.9323157461046147}, {&quot;x&quot;: -0.15384615384615338, &quot;y&quot;: 1.4871794871794877, &quot;z&quot;: 0.7871788782455256}, {&quot;x&quot;: -0.15384615384615338, &quot;y&quot;: 1.5897435897435903, &quot;z&quot;: 0.5568921573053961}, {&quot;x&quot;: -0.15384615384615338, &quot;y&quot;: 1.692307692307693, &quot;z&quot;: 0.25129570878766694}, {&quot;x&quot;: -0.15384615384615338, &quot;y&quot;: 1.7948717948717956, &quot;z&quot;: -0.10345530392439355}, {&quot;x&quot;: -0.15384615384615338, &quot;y&quot;: 1.8974358974358982, &quot;z&quot;: -0.4638525653214719}, {&quot;x&quot;: -0.15384615384615338, &quot;y&quot;: 2.0, &quot;z&quot;: -0.7720599336301592}, {&quot;x&quot;: -0.05128205128205082, &quot;y&quot;: -1.8974358974358974, &quot;z&quot;: -0.44511276099824015}, {&quot;x&quot;: -0.05128205128205082, &quot;y&quot;: -2.0, &quot;z&quot;: -0.7585188601466708}, {&quot;x&quot;: -0.05128205128205082, &quot;y&quot;: -1.7948717948717947, &quot;z&quot;: -0.08250805392791685}, {&quot;x&quot;: -0.05128205128205082, &quot;y&quot;: -1.692307692307692, &quot;z&quot;: 0.2716022560941363}, {&quot;x&quot;: -0.05128205128205082, &quot;y&quot;: -1.5897435897435894, &quot;z&quot;: 0.5742421235734629}, {&quot;x&quot;: -0.05128205128205082, &quot;y&quot;: -1.4871794871794868, &quot;z&quot;: 0.79997885533348}, {&quot;x&quot;: -0.05128205128205082, &quot;y&quot;: -1.3846153846153841, &quot;z&quot;: 0.9397174370365116}, {&quot;x&quot;: -0.05128205128205082, &quot;y&quot;: -1.2820512820512815, &quot;z&quot;: 0.9971520573726363}, {&quot;x&quot;: -0.05128205128205082, &quot;y&quot;: -1.1794871794871788, &quot;z&quot;: 0.9843804959815314}, {&quot;x&quot;: -0.05128205128205082, &quot;y&quot;: -1.0769230769230762, &quot;z&quot;: 0.9177561668352503}, {&quot;x&quot;: -0.05128205128205082, &quot;y&quot;: -0.9743589743589737, &quot;z&quot;: 0.8145802942653669}, {&quot;x&quot;: -0.05128205128205082, &quot;y&quot;: -0.8717948717948711, &quot;z&quot;: 0.6908442838292245}, {&quot;x&quot;: -0.05128205128205082, &quot;y&quot;: -0.7692307692307686, &quot;z&quot;: 0.5599668806550449}, {&quot;x&quot;: -0.05128205128205082, &quot;y&quot;: -0.6666666666666661, &quot;z&quot;: 0.43232923208555346}, {&quot;x&quot;: -0.05128205128205082, &quot;y&quot;: -0.5641025641025635, &quot;z&quot;: 0.3153652797274803}, {&quot;x&quot;: -0.05128205128205082, &quot;y&quot;: -0.461538461538461, &quot;z&quot;: 0.2139800736889051}, {&quot;x&quot;: -0.05128205128205082, &quot;y&quot;: -0.3589743589743585, &quot;z&quot;: 0.13111384352273514}, {&quot;x&quot;: -0.05128205128205082, &quot;y&quot;: -0.25641025641025594, &quot;z&quot;: 0.06832280120874135}, {&quot;x&quot;: -0.05128205128205082, &quot;y&quot;: -0.15384615384615338, &quot;z&quot;: 0.026295456556884964}, {&quot;x&quot;: -0.05128205128205082, &quot;y&quot;: -0.05128205128205082, &quot;z&quot;: 0.005259673316344211}, {&quot;x&quot;: -0.05128205128205082, &quot;y&quot;: 0.05128205128205174, &quot;z&quot;: 0.005259673316344305}, {&quot;x&quot;: -0.05128205128205082, &quot;y&quot;: 0.1538461538461543, &quot;z&quot;: 0.026295456556885245}, {&quot;x&quot;: -0.05128205128205082, &quot;y&quot;: 0.25641025641025683, &quot;z&quot;: 0.0683228012087418}, {&quot;x&quot;: -0.05128205128205082, &quot;y&quot;: 0.35897435897435936, &quot;z&quot;: 0.13111384352273578}, {&quot;x&quot;: -0.05128205128205082, &quot;y&quot;: 0.4615384615384619, &quot;z&quot;: 0.21398007368890593}, {&quot;x&quot;: -0.05128205128205082, &quot;y&quot;: 0.5641025641025644, &quot;z&quot;: 0.31536527972748124}, {&quot;x&quot;: -0.05128205128205082, &quot;y&quot;: 0.666666666666667, &quot;z&quot;: 0.43232923208555457}, {&quot;x&quot;: -0.05128205128205082, &quot;y&quot;: 0.7692307692307695, &quot;z&quot;: 0.559966880655046}, {&quot;x&quot;: -0.05128205128205082, &quot;y&quot;: 0.871794871794872, &quot;z&quot;: 0.6908442838292257}, {&quot;x&quot;: -0.05128205128205082, &quot;y&quot;: 0.9743589743589746, &quot;z&quot;: 0.814580294265368}, {&quot;x&quot;: -0.05128205128205082, &quot;y&quot;: 1.076923076923077, &quot;z&quot;: 0.9177561668352511}, {&quot;x&quot;: -0.05128205128205082, &quot;y&quot;: 1.1794871794871797, &quot;z&quot;: 0.9843804959815318}, {&quot;x&quot;: -0.05128205128205082, &quot;y&quot;: 1.2820512820512824, &quot;z&quot;: 0.9971520573726362}, {&quot;x&quot;: -0.05128205128205082, &quot;y&quot;: 1.384615384615385, &quot;z&quot;: 0.9397174370365108}, {&quot;x&quot;: -0.05128205128205082, &quot;y&quot;: 1.4871794871794877, &quot;z&quot;: 0.7999788553334785}, {&quot;x&quot;: -0.05128205128205082, &quot;y&quot;: 1.5897435897435903, &quot;z&quot;: 0.5742421235734604}, {&quot;x&quot;: -0.05128205128205082, &quot;y&quot;: 1.692307692307693, &quot;z&quot;: 0.2716022560941333}, {&quot;x&quot;: -0.05128205128205082, &quot;y&quot;: 1.7948717948717956, &quot;z&quot;: -0.0825080539279204}, {&quot;x&quot;: -0.05128205128205082, &quot;y&quot;: 1.8974358974358982, &quot;z&quot;: -0.44511276099824293}, {&quot;x&quot;: -0.05128205128205082, &quot;y&quot;: 2.0, &quot;z&quot;: -0.7585188601466708}, {&quot;x&quot;: 0.05128205128205174, &quot;y&quot;: -1.8974358974358974, &quot;z&quot;: -0.44511276099824015}, {&quot;x&quot;: 0.05128205128205174, &quot;y&quot;: -2.0, &quot;z&quot;: -0.7585188601466708}, {&quot;x&quot;: 0.05128205128205174, &quot;y&quot;: -1.7948717948717947, &quot;z&quot;: -0.08250805392791685}, {&quot;x&quot;: 0.05128205128205174, &quot;y&quot;: -1.692307692307692, &quot;z&quot;: 0.2716022560941363}, {&quot;x&quot;: 0.05128205128205174, &quot;y&quot;: -1.5897435897435894, &quot;z&quot;: 0.5742421235734629}, {&quot;x&quot;: 0.05128205128205174, &quot;y&quot;: -1.4871794871794868, &quot;z&quot;: 0.79997885533348}, {&quot;x&quot;: 0.05128205128205174, &quot;y&quot;: -1.3846153846153841, &quot;z&quot;: 0.9397174370365116}, {&quot;x&quot;: 0.05128205128205174, &quot;y&quot;: -1.2820512820512815, &quot;z&quot;: 0.9971520573726363}, {&quot;x&quot;: 0.05128205128205174, &quot;y&quot;: -1.1794871794871788, &quot;z&quot;: 0.9843804959815314}, {&quot;x&quot;: 0.05128205128205174, &quot;y&quot;: -1.0769230769230762, &quot;z&quot;: 0.9177561668352503}, {&quot;x&quot;: 0.05128205128205174, &quot;y&quot;: -0.9743589743589737, &quot;z&quot;: 0.814580294265367}, {&quot;x&quot;: 0.05128205128205174, &quot;y&quot;: -0.8717948717948711, &quot;z&quot;: 0.6908442838292246}, {&quot;x&quot;: 0.05128205128205174, &quot;y&quot;: -0.7692307692307686, &quot;z&quot;: 0.559966880655045}, {&quot;x&quot;: 0.05128205128205174, &quot;y&quot;: -0.6666666666666661, &quot;z&quot;: 0.43232923208555357}, {&quot;x&quot;: 0.05128205128205174, &quot;y&quot;: -0.5641025641025635, &quot;z&quot;: 0.3153652797274804}, {&quot;x&quot;: 0.05128205128205174, &quot;y&quot;: -0.461538461538461, &quot;z&quot;: 0.2139800736889052}, {&quot;x&quot;: 0.05128205128205174, &quot;y&quot;: -0.3589743589743585, &quot;z&quot;: 0.13111384352273525}, {&quot;x&quot;: 0.05128205128205174, &quot;y&quot;: -0.25641025641025594, &quot;z&quot;: 0.06832280120874144}, {&quot;x&quot;: 0.05128205128205174, &quot;y&quot;: -0.15384615384615338, &quot;z&quot;: 0.026295456556885057}, {&quot;x&quot;: 0.05128205128205174, &quot;y&quot;: -0.05128205128205082, &quot;z&quot;: 0.005259673316344305}, {&quot;x&quot;: 0.05128205128205174, &quot;y&quot;: 0.05128205128205174, &quot;z&quot;: 0.005259673316344399}, {&quot;x&quot;: 0.05128205128205174, &quot;y&quot;: 0.1538461538461543, &quot;z&quot;: 0.026295456556885338}, {&quot;x&quot;: 0.05128205128205174, &quot;y&quot;: 0.25641025641025683, &quot;z&quot;: 0.0683228012087419}, {&quot;x&quot;: 0.05128205128205174, &quot;y&quot;: 0.35897435897435936, &quot;z&quot;: 0.1311138435227359}, {&quot;x&quot;: 0.05128205128205174, &quot;y&quot;: 0.4615384615384619, &quot;z&quot;: 0.213980073688906}, {&quot;x&quot;: 0.05128205128205174, &quot;y&quot;: 0.5641025641025644, &quot;z&quot;: 0.31536527972748135}, {&quot;x&quot;: 0.05128205128205174, &quot;y&quot;: 0.666666666666667, &quot;z&quot;: 0.4323292320855547}, {&quot;x&quot;: 0.05128205128205174, &quot;y&quot;: 0.7692307692307695, &quot;z&quot;: 0.5599668806550461}, {&quot;x&quot;: 0.05128205128205174, &quot;y&quot;: 0.871794871794872, &quot;z&quot;: 0.6908442838292257}, {&quot;x&quot;: 0.05128205128205174, &quot;y&quot;: 0.9743589743589746, &quot;z&quot;: 0.814580294265368}, {&quot;x&quot;: 0.05128205128205174, &quot;y&quot;: 1.076923076923077, &quot;z&quot;: 0.9177561668352511}, {&quot;x&quot;: 0.05128205128205174, &quot;y&quot;: 1.1794871794871797, &quot;z&quot;: 0.9843804959815318}, {&quot;x&quot;: 0.05128205128205174, &quot;y&quot;: 1.2820512820512824, &quot;z&quot;: 0.9971520573726362}, {&quot;x&quot;: 0.05128205128205174, &quot;y&quot;: 1.384615384615385, &quot;z&quot;: 0.9397174370365108}, {&quot;x&quot;: 0.05128205128205174, &quot;y&quot;: 1.4871794871794877, &quot;z&quot;: 0.7999788553334785}, {&quot;x&quot;: 0.05128205128205174, &quot;y&quot;: 1.5897435897435903, &quot;z&quot;: 0.5742421235734604}, {&quot;x&quot;: 0.05128205128205174, &quot;y&quot;: 1.692307692307693, &quot;z&quot;: 0.2716022560941333}, {&quot;x&quot;: 0.05128205128205174, &quot;y&quot;: 1.7948717948717956, &quot;z&quot;: -0.0825080539279204}, {&quot;x&quot;: 0.05128205128205174, &quot;y&quot;: 1.8974358974358982, &quot;z&quot;: -0.44511276099824293}, {&quot;x&quot;: 0.05128205128205174, &quot;y&quot;: 2.0, &quot;z&quot;: -0.7585188601466708}, {&quot;x&quot;: 0.1538461538461543, &quot;y&quot;: -1.8974358974358974, &quot;z&quot;: -0.4638525653214695}, {&quot;x&quot;: 0.1538461538461543, &quot;y&quot;: -2.0, &quot;z&quot;: -0.7720599336301592}, {&quot;x&quot;: 0.1538461538461543, &quot;y&quot;: -1.7948717948717947, &quot;z&quot;: -0.10345530392439045}, {&quot;x&quot;: 0.1538461538461543, &quot;y&quot;: -1.692307692307692, &quot;z&quot;: 0.25129570878766955}, {&quot;x&quot;: 0.1538461538461543, &quot;y&quot;: -1.5897435897435894, &quot;z&quot;: 0.5568921573053983}, {&quot;x&quot;: 0.1538461538461543, &quot;y&quot;: -1.4871794871794868, &quot;z&quot;: 0.7871788782455269}, {&quot;x&quot;: 0.1538461538461543, &quot;y&quot;: -1.3846153846153841, &quot;z&quot;: 0.9323157461046154}, {&quot;x&quot;: 0.1538461538461543, &quot;y&quot;: -1.2820512820512815, &quot;z&quot;: 0.9953448080064283}, {&quot;x&quot;: 0.1538461538461543, &quot;y&quot;: -1.1794871794871788, &quot;z&quot;: 0.9878663371312377}, {&quot;x&quot;: 0.1538461538461543, &quot;y&quot;: -1.0769230769230762, &quot;z&quot;: 0.9259078806692499}, {&quot;x&quot;: 0.1538461538461543, &quot;y&quot;: -0.9743589743589737, &quot;z&quot;: 0.8266026889085099}, {&quot;x&quot;: 0.1538461538461543, &quot;y&quot;: -0.8717948717948711, &quot;z&quot;: 0.705901393565457}, {&quot;x&quot;: 0.1538461538461543, &quot;y&quot;: -0.7692307692307686, &quot;z&quot;: 0.577272623236628}, {&quot;x&quot;: 0.1538461538461543, &quot;y&quot;: -0.6666666666666661, &quot;z&quot;: 0.45120316522131587}, {&quot;x&quot;: 0.1538461538461543, &quot;y&quot;: -0.5641025641025635, &quot;z&quot;: 0.335259202624097}, {&quot;x&quot;: 0.1538461538461543, &quot;y&quot;: -0.461538461538461, &quot;z&quot;: 0.23448269262052732}, {&quot;x&quot;: 0.1538461538461543, &quot;y&quot;: -0.3589743589743585, &quot;z&quot;: 0.1519404575430479}, {&quot;x&quot;: 0.1538461538461543, &quot;y&quot;: -0.25641025641025594, &quot;z&quot;: 0.08929576071340571}, {&quot;x&quot;: 0.1538461538461543, &quot;y&quot;: -0.15384615384615338, &quot;z&quot;: 0.047319601050503465}, {&quot;x&quot;: 0.1538461538461543, &quot;y&quot;: -0.05128205128205082, &quot;z&quot;: 0.026295456556885245}, {&quot;x&quot;: 0.1538461538461543, &quot;y&quot;: 0.05128205128205174, &quot;z&quot;: 0.026295456556885338}, {&quot;x&quot;: 0.1538461538461543, &quot;y&quot;: 0.1538461538461543, &quot;z&quot;: 0.04731960105050375}, {&quot;x&quot;: 0.1538461538461543, &quot;y&quot;: 0.25641025641025683, &quot;z&quot;: 0.08929576071340616}, {&quot;x&quot;: 0.1538461538461543, &quot;y&quot;: 0.35897435897435936, &quot;z&quot;: 0.15194045754304855}, {&quot;x&quot;: 0.1538461538461543, &quot;y&quot;: 0.4615384615384619, &quot;z&quot;: 0.23448269262052812}, {&quot;x&quot;: 0.1538461538461543, &quot;y&quot;: 0.5641025641025644, &quot;z&quot;: 0.3352592026240979}, {&quot;x&quot;: 0.1538461538461543, &quot;y&quot;: 0.666666666666667, &quot;z&quot;: 0.451203165221317}, {&quot;x&quot;: 0.1538461538461543, &quot;y&quot;: 0.7692307692307695, &quot;z&quot;: 0.577272623236629}, {&quot;x&quot;: 0.1538461538461543, &quot;y&quot;: 0.871794871794872, &quot;z&quot;: 0.7059013935654581}, {&quot;x&quot;: 0.1538461538461543, &quot;y&quot;: 0.9743589743589746, &quot;z&quot;: 0.8266026889085109}, {&quot;x&quot;: 0.1538461538461543, &quot;y&quot;: 1.076923076923077, &quot;z&quot;: 0.9259078806692507}, {&quot;x&quot;: 0.1538461538461543, &quot;y&quot;: 1.1794871794871797, &quot;z&quot;: 0.9878663371312381}, {&quot;x&quot;: 0.1538461538461543, &quot;y&quot;: 1.2820512820512824, &quot;z&quot;: 0.9953448080064281}, {&quot;x&quot;: 0.1538461538461543, &quot;y&quot;: 1.384615384615385, &quot;z&quot;: 0.9323157461046145}, {&quot;x&quot;: 0.1538461538461543, &quot;y&quot;: 1.4871794871794877, &quot;z&quot;: 0.7871788782455253}, {&quot;x&quot;: 0.1538461538461543, &quot;y&quot;: 1.5897435897435903, &quot;z&quot;: 0.5568921573053957}, {&quot;x&quot;: 0.1538461538461543, &quot;y&quot;: 1.692307692307693, &quot;z&quot;: 0.25129570878766655}, {&quot;x&quot;: 0.1538461538461543, &quot;y&quot;: 1.7948717948717956, &quot;z&quot;: -0.10345530392439399}, {&quot;x&quot;: 0.1538461538461543, &quot;y&quot;: 1.8974358974358982, &quot;z&quot;: -0.4638525653214723}, {&quot;x&quot;: 0.1538461538461543, &quot;y&quot;: 2.0, &quot;z&quot;: -0.7720599336301592}, {&quot;x&quot;: 0.25641025641025683, &quot;y&quot;: -1.8974358974358974, &quot;z&quot;: -0.5007080469013315}, {&quot;x&quot;: 0.25641025641025683, &quot;y&quot;: -2.0, &quot;z&quot;: -0.7981110639137167}, {&quot;x&quot;: 0.25641025641025683, &quot;y&quot;: -1.7948717948717947, &quot;z&quot;: -0.14520318021882844}, {&quot;x&quot;: 0.25641025641025683, &quot;y&quot;: -1.692307692307692, &quot;z&quot;: 0.21035797010002746}, {&quot;x&quot;: 0.25641025641025683, &quot;y&quot;: -1.5897435897435894, &quot;z&quot;: 0.5214605477998658}, {&quot;x&quot;: 0.25641025641025683, &quot;y&quot;: -1.4871794871794868, &quot;z&quot;: 0.7605394936891933}, {&quot;x&quot;: 0.25641025641025683, &quot;y&quot;: -1.3846153846153841, &quot;z&quot;: 0.9162778539450298}, {&quot;x&quot;: 0.25641025641025683, &quot;y&quot;: -1.2820512820512815, &quot;z&quot;: 0.9904096424403913}, {&quot;x&quot;: 0.25641025641025683, &quot;y&quot;: -1.1794871794871788, &quot;z&quot;: 0.993524938570032}, {&quot;x&quot;: 0.25641025641025683, &quot;y&quot;: -1.0769230769230762, &quot;z&quot;: 0.9409784212656211}, {&quot;x&quot;: 0.25641025641025683, &quot;y&quot;: -0.9743589743589737, &quot;z&quot;: 0.8495447201640859}, {&quot;x&quot;: 0.25641025641025683, &quot;y&quot;: -0.8717948717948711, &quot;z&quot;: 0.7350717605355976}, {&quot;x&quot;: 0.25641025641025683, &quot;y&quot;: -0.7692307692307686, &quot;z&quot;: 0.6111100342471273}, {&quot;x&quot;: 0.25641025641025683, &quot;y&quot;: -0.6666666666666661, &quot;z&quot;: 0.4883436389995384}, {&quot;x&quot;: 0.25641025641025683, &quot;y&quot;: -0.5641025641025635, &quot;z&quot;: 0.37459313713929265}, {&quot;x&quot;: 0.25641025641025683, &quot;y&quot;: -0.461538461538461, &quot;z&quot;: 0.27516754543953276}, {&quot;x&quot;: 0.25641025641025683, &quot;y&quot;: -0.3589743589743585, &quot;z&quot;: 0.19338274410189932}, {&quot;x&quot;: 0.25641025641025683, &quot;y&quot;: -0.25641025641025594, &quot;z&quot;: 0.13111384352273553}, {&quot;x&quot;: 0.25641025641025683, &quot;y&quot;: -0.15384615384615338, &quot;z&quot;: 0.08929576071340588}, {&quot;x&quot;: 0.25641025641025683, &quot;y&quot;: -0.05128205128205082, &quot;z&quot;: 0.0683228012087418}, {&quot;x&quot;: 0.25641025641025683, &quot;y&quot;: 0.05128205128205174, &quot;z&quot;: 0.0683228012087419}, {&quot;x&quot;: 0.25641025641025683, &quot;y&quot;: 0.1538461538461543, &quot;z&quot;: 0.08929576071340616}, {&quot;x&quot;: 0.25641025641025683, &quot;y&quot;: 0.25641025641025683, &quot;z&quot;: 0.131113843522736}, {&quot;x&quot;: 0.25641025641025683, &quot;y&quot;: 0.35897435897435936, &quot;z&quot;: 0.19338274410189996}, {&quot;x&quot;: 0.25641025641025683, &quot;y&quot;: 0.4615384615384619, &quot;z&quot;: 0.2751675454395336}, {&quot;x&quot;: 0.25641025641025683, &quot;y&quot;: 0.5641025641025644, &quot;z&quot;: 0.3745931371392936}, {&quot;x&quot;: 0.25641025641025683, &quot;y&quot;: 0.666666666666667, &quot;z&quot;: 0.48834363899953953}, {&quot;x&quot;: 0.25641025641025683, &quot;y&quot;: 0.7692307692307695, &quot;z&quot;: 0.6111100342471284}, {&quot;x&quot;: 0.25641025641025683, &quot;y&quot;: 0.871794871794872, &quot;z&quot;: 0.7350717605355986}, {&quot;x&quot;: 0.25641025641025683, &quot;y&quot;: 0.9743589743589746, &quot;z&quot;: 0.8495447201640869}, {&quot;x&quot;: 0.25641025641025683, &quot;y&quot;: 1.076923076923077, &quot;z&quot;: 0.9409784212656218}, {&quot;x&quot;: 0.25641025641025683, &quot;y&quot;: 1.1794871794871797, &quot;z&quot;: 0.9935249385700322}, {&quot;x&quot;: 0.25641025641025683, &quot;y&quot;: 1.2820512820512824, &quot;z&quot;: 0.990409642440391}, {&quot;x&quot;: 0.25641025641025683, &quot;y&quot;: 1.384615384615385, &quot;z&quot;: 0.9162778539450288}, {&quot;x&quot;: 0.25641025641025683, &quot;y&quot;: 1.4871794871794877, &quot;z&quot;: 0.7605394936891915}, {&quot;x&quot;: 0.25641025641025683, &quot;y&quot;: 1.5897435897435903, &quot;z&quot;: 0.5214605477998632}, {&quot;x&quot;: 0.25641025641025683, &quot;y&quot;: 1.692307692307693, &quot;z&quot;: 0.21035797010002444}, {&quot;x&quot;: 0.25641025641025683, &quot;y&quot;: 1.7948717948717956, &quot;z&quot;: -0.14520318021883194}, {&quot;x&quot;: 0.25641025641025683, &quot;y&quot;: 1.8974358974358982, &quot;z&quot;: -0.5007080469013342}, {&quot;x&quot;: 0.25641025641025683, &quot;y&quot;: 2.0, &quot;z&quot;: -0.7981110639137167}, {&quot;x&quot;: 0.35897435897435936, &quot;y&quot;: -1.8974358974358974, &quot;z&quot;: -0.5543093361277331}, {&quot;x&quot;: 0.35897435897435936, &quot;y&quot;: -2.0, &quot;z&quot;: -0.8345249069195919}, {&quot;x&quot;: 0.35897435897435936, &quot;y&quot;: -1.7948717948717947, &quot;z&quot;: -0.20732005604903186}, {&quot;x&quot;: 0.35897435897435936, &quot;y&quot;: -1.692307692307692, &quot;z&quot;: 0.14827596420928274}, {&quot;x&quot;: 0.35897435897435936, &quot;y&quot;: -1.5897435897435894, &quot;z&quot;: 0.4666023315453078}, {&quot;x&quot;: 0.35897435897435936, &quot;y&quot;: -1.4871794871794868, &quot;z&quot;: 0.7180713945754508}, {&quot;x&quot;: 0.35897435897435936, &quot;y&quot;: -1.3846153846153841, &quot;z&quot;: 0.8891893281073748}, {&quot;x&quot;: 0.35897435897435936, &quot;y&quot;: -1.2820512820512815, &quot;z&quot;: 0.9797230657400067}, {&quot;x&quot;: 0.35897435897435936, &quot;y&quot;: -1.1794871794871788, &quot;z&quot;: 0.9987128131784938}, {&quot;x&quot;: 0.35897435897435936, &quot;y&quot;: -1.0769230769230762, &quot;z&quot;: 0.9604533665475721}, {&quot;x&quot;: 0.35897435897435936, &quot;y&quot;: -0.9743589743589737, &quot;z&quot;: 0.8811259582766483}, {&quot;x&quot;: 0.35897435897435936, &quot;y&quot;: -0.8717948717948711, &quot;z&quot;: 0.7763719213006599}, {&quot;x&quot;: 0.35897435897435936, &quot;y&quot;: -0.7692307692307686, &quot;z&quot;: 0.6598195313702914}, {&quot;x&quot;: 0.35897435897435936, &quot;y&quot;: -0.6666666666666661, &quot;z&quot;: 0.5424132886856854}, {&quot;x&quot;: 0.35897435897435936, &quot;y&quot;: -0.5641025641025635, &quot;z&quot;: 0.43232923208555396}, {&quot;x&quot;: 0.35897435897435936, &quot;y&quot;: -0.461538461538461, &quot;z&quot;: 0.33525920262409725}, {&quot;x&quot;: 0.35897435897435936, &quot;y&quot;: -0.3589743589743585, &quot;z&quot;: 0.2548815261430155}, {&quot;x&quot;: 0.35897435897435936, &quot;y&quot;: -0.25641025641025594, &quot;z&quot;: 0.19338274410189948}, {&quot;x&quot;: 0.35897435897435936, &quot;y&quot;: -0.15384615384615338, &quot;z&quot;: 0.15194045754304827}, {&quot;x&quot;: 0.35897435897435936, &quot;y&quot;: -0.05128205128205082, &quot;z&quot;: 0.13111384352273578}, {&quot;x&quot;: 0.35897435897435936, &quot;y&quot;: 0.05128205128205174, &quot;z&quot;: 0.1311138435227359}, {&quot;x&quot;: 0.35897435897435936, &quot;y&quot;: 0.1538461538461543, &quot;z&quot;: 0.15194045754304855}, {&quot;x&quot;: 0.35897435897435936, &quot;y&quot;: 0.25641025641025683, &quot;z&quot;: 0.19338274410189996}, {&quot;x&quot;: 0.35897435897435936, &quot;y&quot;: 0.35897435897435936, &quot;z&quot;: 0.2548815261430161}, {&quot;x&quot;: 0.35897435897435936, &quot;y&quot;: 0.4615384615384619, &quot;z&quot;: 0.33525920262409803}, {&quot;x&quot;: 0.35897435897435936, &quot;y&quot;: 0.5641025641025644, &quot;z&quot;: 0.4323292320855549}, {&quot;x&quot;: 0.35897435897435936, &quot;y&quot;: 0.666666666666667, &quot;z&quot;: 0.5424132886856864}, {&quot;x&quot;: 0.35897435897435936, &quot;y&quot;: 0.7692307692307695, &quot;z&quot;: 0.6598195313702924}, {&quot;x&quot;: 0.35897435897435936, &quot;y&quot;: 0.871794871794872, &quot;z&quot;: 0.7763719213006609}, {&quot;x&quot;: 0.35897435897435936, &quot;y&quot;: 0.9743589743589746, &quot;z&quot;: 0.8811259582766492}, {&quot;x&quot;: 0.35897435897435936, &quot;y&quot;: 1.076923076923077, &quot;z&quot;: 0.9604533665475726}, {&quot;x&quot;: 0.35897435897435936, &quot;y&quot;: 1.1794871794871797, &quot;z&quot;: 0.9987128131784939}, {&quot;x&quot;: 0.35897435897435936, &quot;y&quot;: 1.2820512820512824, &quot;z&quot;: 0.9797230657400062}, {&quot;x&quot;: 0.35897435897435936, &quot;y&quot;: 1.384615384615385, &quot;z&quot;: 0.8891893281073738}, {&quot;x&quot;: 0.35897435897435936, &quot;y&quot;: 1.4871794871794877, &quot;z&quot;: 0.718071394575449}, {&quot;x&quot;: 0.35897435897435936, &quot;y&quot;: 1.5897435897435903, &quot;z&quot;: 0.466602331545305}, {&quot;x&quot;: 0.35897435897435936, &quot;y&quot;: 1.692307692307693, &quot;z&quot;: 0.14827596420927966}, {&quot;x&quot;: 0.35897435897435936, &quot;y&quot;: 1.7948717948717956, &quot;z&quot;: -0.20732005604903533}, {&quot;x&quot;: 0.35897435897435936, &quot;y&quot;: 1.8974358974358982, &quot;z&quot;: -0.5543093361277357}, {&quot;x&quot;: 0.35897435897435936, &quot;y&quot;: 2.0, &quot;z&quot;: -0.8345249069195919}, {&quot;x&quot;: 0.4615384615384619, &quot;y&quot;: -1.8974358974358974, &quot;z&quot;: -0.6223082574674981}, {&quot;x&quot;: 0.4615384615384619, &quot;y&quot;: -2.0, &quot;z&quot;: -0.8778838373137142}, {&quot;x&quot;: 0.4615384615384619, &quot;y&quot;: -1.7948717948717947, &quot;z&quot;: -0.28881595577447633}, {&quot;x&quot;: 0.4615384615384619, &quot;y&quot;: -1.692307692307692, &quot;z&quot;: 0.06462450973522653}, {&quot;x&quot;: 0.4615384615384619, &quot;y&quot;: -1.5897435897435894, &quot;z&quot;: 0.3906063900704548}, {&quot;x&quot;: 0.4615384615384619, &quot;y&quot;: -1.4871794871794868, &quot;z&quot;: 0.6570298582090655}, {&quot;x&quot;: 0.4615384615384619, &quot;y&quot;: -1.3846153846153841, &quot;z&quot;: 0.8475836531680352}, {&quot;x&quot;: 0.4615384615384619, &quot;y&quot;: -1.2820512820512815, &quot;z&quot;: 0.9594147326651199}, {&quot;x&quot;: 0.4615384615384619, &quot;y&quot;: -1.1794871794871788, &quot;z&quot;: 0.999441890052792}, {&quot;x&quot;: 0.4615384615384619, &quot;y&quot;: -1.0769230769230762, &quot;z&quot;: 0.9804589538793274}, {&quot;x&quot;: 0.4615384615384619, &quot;y&quot;: -0.9743589743589737, &quot;z&quot;: 0.9177561668352505}, {&quot;x&quot;: 0.4615384615384619, &quot;y&quot;: -0.8717948717948711, &quot;z&quot;: 0.8266026889085101}, {&quot;x&quot;: 0.4615384615384619, &quot;y&quot;: -0.7692307692307686, &quot;z&quot;: 0.7206460612015043}, {&quot;x&quot;: 0.4615384615384619, &quot;y&quot;: -0.6666666666666661, &quot;z&quot;: 0.6111100342471275}, {&quot;x&quot;: 0.4615384615384619, &quot;y&quot;: -0.5641025641025635, &quot;z&quot;: 0.5065937407346176}, {&quot;x&quot;: 0.4615384615384619, &quot;y&quot;: -0.461538461538461, &quot;z&quot;: 0.41326394381935067}, {&quot;x&quot;: 0.4615384615384619, &quot;y&quot;: -0.3589743589743585, &quot;z&quot;: 0.3352592026240974}, {&quot;x&quot;: 0.4615384615384619, &quot;y&quot;: -0.25641025641025594, &quot;z&quot;: 0.27516754543953315}, {&quot;x&quot;: 0.4615384615384619, &quot;y&quot;: -0.15384615384615338, &quot;z&quot;: 0.23448269262052784}, {&quot;x&quot;: 0.4615384615384619, &quot;y&quot;: -0.05128205128205082, &quot;z&quot;: 0.21398007368890593}, {&quot;x&quot;: 0.4615384615384619, &quot;y&quot;: 0.05128205128205174, &quot;z&quot;: 0.213980073688906}, {&quot;x&quot;: 0.4615384615384619, &quot;y&quot;: 0.1538461538461543, &quot;z&quot;: 0.23448269262052812}, {&quot;x&quot;: 0.4615384615384619, &quot;y&quot;: 0.25641025641025683, &quot;z&quot;: 0.2751675454395336}, {&quot;x&quot;: 0.4615384615384619, &quot;y&quot;: 0.35897435897435936, &quot;z&quot;: 0.33525920262409803}, {&quot;x&quot;: 0.4615384615384619, &quot;y&quot;: 0.4615384615384619, &quot;z&quot;: 0.41326394381935144}, {&quot;x&quot;: 0.4615384615384619, &quot;y&quot;: 0.5641025641025644, &quot;z&quot;: 0.5065937407346185}, {&quot;x&quot;: 0.4615384615384619, &quot;y&quot;: 0.666666666666667, &quot;z&quot;: 0.6111100342471284}, {&quot;x&quot;: 0.4615384615384619, &quot;y&quot;: 0.7692307692307695, &quot;z&quot;: 0.7206460612015052}, {&quot;x&quot;: 0.4615384615384619, &quot;y&quot;: 0.871794871794872, &quot;z&quot;: 0.826602688908511}, {&quot;x&quot;: 0.4615384615384619, &quot;y&quot;: 0.9743589743589746, &quot;z&quot;: 0.9177561668352513}, {&quot;x&quot;: 0.4615384615384619, &quot;y&quot;: 1.076923076923077, &quot;z&quot;: 0.9804589538793278}, {&quot;x&quot;: 0.4615384615384619, &quot;y&quot;: 1.1794871794871797, &quot;z&quot;: 0.9994418900527919}, {&quot;x&quot;: 0.4615384615384619, &quot;y&quot;: 1.2820512820512824, &quot;z&quot;: 0.9594147326651192}, {&quot;x&quot;: 0.4615384615384619, &quot;y&quot;: 1.384615384615385, &quot;z&quot;: 0.8475836531680337}, {&quot;x&quot;: 0.4615384615384619, &quot;y&quot;: 1.4871794871794877, &quot;z&quot;: 0.6570298582090633}, {&quot;x&quot;: 0.4615384615384619, &quot;y&quot;: 1.5897435897435903, &quot;z&quot;: 0.39060639007045195}, {&quot;x&quot;: 0.4615384615384619, &quot;y&quot;: 1.692307692307693, &quot;z&quot;: 0.06462450973522342}, {&quot;x&quot;: 0.4615384615384619, &quot;y&quot;: 1.7948717948717956, &quot;z&quot;: -0.28881595577447977}, {&quot;x&quot;: 0.4615384615384619, &quot;y&quot;: 1.8974358974358982, &quot;z&quot;: -0.6223082574675005}, {&quot;x&quot;: 0.4615384615384619, &quot;y&quot;: 2.0, &quot;z&quot;: -0.8778838373137142}, {&quot;x&quot;: 0.5641025641025644, &quot;y&quot;: -1.8974358974358974, &quot;z&quot;: -0.7010594000967512}, {&quot;x&quot;: 0.5641025641025644, &quot;y&quot;: -2.0, &quot;z&quot;: -0.9233128422850052}, {&quot;x&quot;: 0.5641025641025644, &quot;y&quot;: -1.7948717948717947, &quot;z&quot;: -0.3877448785257991}, {&quot;x&quot;: 0.5641025641025644, &quot;y&quot;: -1.692307692307692, &quot;z&quot;: -0.040513283901978815}, {&quot;x&quot;: 0.5641025641025644, &quot;y&quot;: -1.5897435897435894, &quot;z&quot;: 0.29178858833928895}, {&quot;x&quot;: 0.5641025641025644, &quot;y&quot;: -1.4871794871794868, &quot;z&quot;: 0.5742421235734626}, {&quot;x&quot;: 0.5641025641025644, &quot;y&quot;: -1.3846153846153841, &quot;z&quot;: 0.7871788782455269}, {&quot;x&quot;: 0.5641025641025644, &quot;y&quot;: -1.2820512820512815, &quot;z&quot;: 0.9245013988266572}, {&quot;x&quot;: 0.5641025641025644, &quot;y&quot;: -1.1794871794871788, &quot;z&quot;: 0.9904096424403912}, {&quot;x&quot;: 0.5641025641025644, &quot;y&quot;: -1.0769230769230762, &quot;z&quot;: 0.9956951942808122}, {&quot;x&quot;: 0.5641025641025644, &quot;y&quot;: -0.9743589743589737, &quot;z&quot;: 0.9543831839244398}, {&quot;x&quot;: 0.5641025641025644, &quot;y&quot;: -0.8717948717948711, &quot;z&quot;: 0.8811259582766484}, {&quot;x&quot;: 0.5641025641025644, &quot;y&quot;: -0.7692307692307686, &quot;z&quot;: 0.7894593510162147}, {&quot;x&quot;: 0.5641025641025644, &quot;y&quot;: -0.6666666666666661, &quot;z&quot;: 0.6908442838292251}, {&quot;x&quot;: 0.5641025641025644, &quot;y&quot;: -0.5641025641025635, &quot;z&quot;: 0.5943228566600942}, {&quot;x&quot;: 0.5641025641025644, &quot;y&quot;: -0.461538461538461, &quot;z&quot;: 0.5065937407346177}, {&quot;x&quot;: 0.5641025641025644, &quot;y&quot;: -0.3589743589743585, &quot;z&quot;: 0.4323292320855543}, {&quot;x&quot;: 0.5641025641025644, &quot;y&quot;: -0.25641025641025594, &quot;z&quot;: 0.37459313713929315}, {&quot;x&quot;: 0.5641025641025644, &quot;y&quot;: -0.15384615384615338, &quot;z&quot;: 0.33525920262409764}, {&quot;x&quot;: 0.5641025641025644, &quot;y&quot;: -0.05128205128205082, &quot;z&quot;: 0.31536527972748124}, {&quot;x&quot;: 0.5641025641025644, &quot;y&quot;: 0.05128205128205174, &quot;z&quot;: 0.31536527972748135}, {&quot;x&quot;: 0.5641025641025644, &quot;y&quot;: 0.1538461538461543, &quot;z&quot;: 0.3352592026240979}, {&quot;x&quot;: 0.5641025641025644, &quot;y&quot;: 0.25641025641025683, &quot;z&quot;: 0.3745931371392936}, {&quot;x&quot;: 0.5641025641025644, &quot;y&quot;: 0.35897435897435936, &quot;z&quot;: 0.4323292320855549}, {&quot;x&quot;: 0.5641025641025644, &quot;y&quot;: 0.4615384615384619, &quot;z&quot;: 0.5065937407346185}, {&quot;x&quot;: 0.5641025641025644, &quot;y&quot;: 0.5641025641025644, &quot;z&quot;: 0.594322856660095}, {&quot;x&quot;: 0.5641025641025644, &quot;y&quot;: 0.666666666666667, &quot;z&quot;: 0.690844283829226}, {&quot;x&quot;: 0.5641025641025644, &quot;y&quot;: 0.7692307692307695, &quot;z&quot;: 0.7894593510162156}, {&quot;x&quot;: 0.5641025641025644, &quot;y&quot;: 0.871794871794872, &quot;z&quot;: 0.8811259582766492}, {&quot;x&quot;: 0.5641025641025644, &quot;y&quot;: 0.9743589743589746, &quot;z&quot;: 0.9543831839244403}, {&quot;x&quot;: 0.5641025641025644, &quot;y&quot;: 1.076923076923077, &quot;z&quot;: 0.9956951942808124}, {&quot;x&quot;: 0.5641025641025644, &quot;y&quot;: 1.1794871794871797, &quot;z&quot;: 0.990409642440391}, {&quot;x&quot;: 0.5641025641025644, &quot;y&quot;: 1.2820512820512824, &quot;z&quot;: 0.9245013988266564}, {&quot;x&quot;: 0.5641025641025644, &quot;y&quot;: 1.384615384615385, &quot;z&quot;: 0.7871788782455256}, {&quot;x&quot;: 0.5641025641025644, &quot;y&quot;: 1.4871794871794877, &quot;z&quot;: 0.5742421235734604}, {&quot;x&quot;: 0.5641025641025644, &quot;y&quot;: 1.5897435897435903, &quot;z&quot;: 0.291788588339286}, {&quot;x&quot;: 0.5641025641025644, &quot;y&quot;: 1.692307692307693, &quot;z&quot;: -0.040513283901981924}, {&quot;x&quot;: 0.5641025641025644, &quot;y&quot;: 1.7948717948717956, &quot;z&quot;: -0.38774487852580236}, {&quot;x&quot;: 0.5641025641025644, &quot;y&quot;: 1.8974358974358982, &quot;z&quot;: -0.7010594000967534}, {&quot;x&quot;: 0.5641025641025644, &quot;y&quot;: 2.0, &quot;z&quot;: -0.9233128422850052}, {&quot;x&quot;: 0.666666666666667, &quot;y&quot;: -1.8974358974358974, &quot;z&quot;: -0.7852592822929697}, {&quot;x&quot;: 0.666666666666667, &quot;y&quot;: -2.0, &quot;z&quot;: -0.9643171169287782}, {&quot;x&quot;: 0.666666666666667, &quot;y&quot;: -1.7948717948717947, &quot;z&quot;: -0.5007080469013311}, {&quot;x&quot;: 0.666666666666667, &quot;y&quot;: -1.692307692307692, &quot;z&quot;: -0.1659853283068526}, {&quot;x&quot;: 0.666666666666667, &quot;y&quot;: -1.5897435897435894, &quot;z&quot;: 0.1690478427819319}, {&quot;x&quot;: 0.666666666666667, &quot;y&quot;: -1.4871794871794868, &quot;z&quot;: 0.4666023315453074}, {&quot;x&quot;: 0.666666666666667, &quot;y&quot;: -1.3846153846153841, &quot;z&quot;: 0.7032712051388303}, {&quot;x&quot;: 0.666666666666667, &quot;y&quot;: -1.2820512820512815, &quot;z&quot;: 0.8691558071997053}, {&quot;x&quot;: 0.666666666666667, &quot;y&quot;: -1.1794871794871788, &quot;z&quot;: 0.9651348850025948}, {&quot;x&quot;: 0.666666666666667, &quot;y&quot;: -1.0769230769230762, &quot;z&quot;: 0.999441890052792}, {&quot;x&quot;: 0.666666666666667, &quot;y&quot;: -0.9743589743589737, &quot;z&quot;: 0.9843804959815315}, {&quot;x&quot;: 0.666666666666667, &quot;y&quot;: -0.8717948717948711, &quot;z&quot;: 0.9336497743705068}, {&quot;x&quot;: 0.666666666666667, &quot;y&quot;: -0.7692307692307686, &quot;z&quot;: 0.8604542023038221}, {&quot;x&quot;: 0.666666666666667, &quot;y&quot;: -0.6666666666666661, &quot;z&quot;: 0.7763719213006602}, {&quot;x&quot;: 0.666666666666667, &quot;y&quot;: -0.5641025641025635, &quot;z&quot;: 0.6908442838292252}, {&quot;x&quot;: 0.666666666666667, &quot;y&quot;: -0.461538461538461, &quot;z&quot;: 0.6111100342471278}, {&quot;x&quot;: 0.666666666666667, &quot;y&quot;: -0.3589743589743585, &quot;z&quot;: 0.542413288685686}, {&quot;x&quot;: 0.666666666666667, &quot;y&quot;: -0.25641025641025594, &quot;z&quot;: 0.48834363899953914}, {&quot;x&quot;: 0.666666666666667, &quot;y&quot;: -0.15384615384615338, &quot;z&quot;: 0.4512031652213167}, {&quot;x&quot;: 0.666666666666667, &quot;y&quot;: -0.05128205128205082, &quot;z&quot;: 0.43232923208555457}, {&quot;x&quot;: 0.666666666666667, &quot;y&quot;: 0.05128205128205174, &quot;z&quot;: 0.4323292320855547}, {&quot;x&quot;: 0.666666666666667, &quot;y&quot;: 0.1538461538461543, &quot;z&quot;: 0.451203165221317}, {&quot;x&quot;: 0.666666666666667, &quot;y&quot;: 0.25641025641025683, &quot;z&quot;: 0.48834363899953953}, {&quot;x&quot;: 0.666666666666667, &quot;y&quot;: 0.35897435897435936, &quot;z&quot;: 0.5424132886856864}, {&quot;x&quot;: 0.666666666666667, &quot;y&quot;: 0.4615384615384619, &quot;z&quot;: 0.6111100342471284}, {&quot;x&quot;: 0.666666666666667, &quot;y&quot;: 0.5641025641025644, &quot;z&quot;: 0.690844283829226}, {&quot;x&quot;: 0.666666666666667, &quot;y&quot;: 0.666666666666667, &quot;z&quot;: 0.776371921300661}, {&quot;x&quot;: 0.666666666666667, &quot;y&quot;: 0.7692307692307695, &quot;z&quot;: 0.8604542023038227}, {&quot;x&quot;: 0.666666666666667, &quot;y&quot;: 0.871794871794872, &quot;z&quot;: 0.9336497743705072}, {&quot;x&quot;: 0.666666666666667, &quot;y&quot;: 0.9743589743589746, &quot;z&quot;: 0.9843804959815319}, {&quot;x&quot;: 0.666666666666667, &quot;y&quot;: 1.076923076923077, &quot;z&quot;: 0.999441890052792}, {&quot;x&quot;: 0.666666666666667, &quot;y&quot;: 1.1794871794871797, &quot;z&quot;: 0.9651348850025943}, {&quot;x&quot;: 0.666666666666667, &quot;y&quot;: 1.2820512820512824, &quot;z&quot;: 0.8691558071997042}, {&quot;x&quot;: 0.666666666666667, &quot;y&quot;: 1.384615384615385, &quot;z&quot;: 0.7032712051388288}, {&quot;x&quot;: 0.666666666666667, &quot;y&quot;: 1.4871794871794877, &quot;z&quot;: 0.466602331545305}, {&quot;x&quot;: 0.666666666666667, &quot;y&quot;: 1.5897435897435903, &quot;z&quot;: 0.1690478427819293}, {&quot;x&quot;: 0.666666666666667, &quot;y&quot;: 1.692307692307693, &quot;z&quot;: -0.1659853283068552}, {&quot;x&quot;: 0.666666666666667, &quot;y&quot;: 1.7948717948717956, &quot;z&quot;: -0.5007080469013342}, {&quot;x&quot;: 0.666666666666667, &quot;y&quot;: 1.8974358974358982, &quot;z&quot;: -0.7852592822929714}, {&quot;x&quot;: 0.666666666666667, &quot;y&quot;: 2.0, &quot;z&quot;: -0.9643171169287782}, {&quot;x&quot;: 0.7692307692307695, &quot;y&quot;: -1.8974358974358974, &quot;z&quot;: -0.8676153763521625}, {&quot;x&quot;: 0.7692307692307695, &quot;y&quot;: -2.0, &quot;z&quot;: -0.9927278442205987}, {&quot;x&quot;: 0.7692307692307695, &quot;y&quot;: -1.7948717948717947, &quot;z&quot;: -0.6223082574674977}, {&quot;x&quot;: 0.7692307692307695, &quot;y&quot;: -1.692307692307692, &quot;z&quot;: -0.30889276742513866}, {&quot;x&quot;: 0.7692307692307695, &quot;y&quot;: -1.5897435897435894, &quot;z&quot;: 0.022590074357280634}, {&quot;x&quot;: 0.7692307692307695, &quot;y&quot;: -1.4871794871794868, &quot;z&quot;: 0.33176492576634886}, {&quot;x&quot;: 0.7692307692307695, &quot;y&quot;: -1.3846153846153841, &quot;z&quot;: 0.591337922026108}, {&quot;x&quot;: 0.7692307692307695, &quot;y&quot;: -1.2820512820512815, &quot;z&quot;: 0.7871788782455272}, {&quot;x&quot;: 0.7692307692307695, &quot;y&quot;: -1.1794871794871788, &quot;z&quot;: 0.9162778539450298}, {&quot;x&quot;: 0.7692307692307695, &quot;y&quot;: -1.0769230769230762, &quot;z&quot;: 0.9837211927455879}, {&quot;x&quot;: 0.7692307692307695, &quot;y&quot;: -0.9743589743589737, &quot;z&quot;: 0.9995588407239098}, {&quot;x&quot;: 0.7692307692307695, &quot;y&quot;: -0.8717948717948711, &quot;z&quot;: 0.9761034465555102}, {&quot;x&quot;: 0.7692307692307695, &quot;y&quot;: -0.7692307692307686, &quot;z&quot;: 0.9259078806692502}, {&quot;x&quot;: 0.7692307692307695, &quot;y&quot;: -0.6666666666666661, &quot;z&quot;: 0.8604542023038222}, {&quot;x&quot;: 0.7692307692307695, &quot;y&quot;: -0.5641025641025635, &quot;z&quot;: 0.7894593510162148}, {&quot;x&quot;: 0.7692307692307695, &quot;y&quot;: -0.461538461538461, &quot;z&quot;: 0.7206460612015047}, {&quot;x&quot;: 0.7692307692307695, &quot;y&quot;: -0.3589743589743585, &quot;z&quot;: 0.6598195313702919}, {&quot;x&quot;: 0.7692307692307695, &quot;y&quot;: -0.25641025641025594, &quot;z&quot;: 0.611110034247128}, {&quot;x&quot;: 0.7692307692307695, &quot;y&quot;: -0.15384615384615338, &quot;z&quot;: 0.5772726232366289}, {&quot;x&quot;: 0.7692307692307695, &quot;y&quot;: -0.05128205128205082, &quot;z&quot;: 0.559966880655046}, {&quot;x&quot;: 0.7692307692307695, &quot;y&quot;: 0.05128205128205174, &quot;z&quot;: 0.5599668806550461}, {&quot;x&quot;: 0.7692307692307695, &quot;y&quot;: 0.1538461538461543, &quot;z&quot;: 0.577272623236629}, {&quot;x&quot;: 0.7692307692307695, &quot;y&quot;: 0.25641025641025683, &quot;z&quot;: 0.6111100342471284}, {&quot;x&quot;: 0.7692307692307695, &quot;y&quot;: 0.35897435897435936, &quot;z&quot;: 0.6598195313702924}, {&quot;x&quot;: 0.7692307692307695, &quot;y&quot;: 0.4615384615384619, &quot;z&quot;: 0.7206460612015052}, {&quot;x&quot;: 0.7692307692307695, &quot;y&quot;: 0.5641025641025644, &quot;z&quot;: 0.7894593510162156}, {&quot;x&quot;: 0.7692307692307695, &quot;y&quot;: 0.666666666666667, &quot;z&quot;: 0.8604542023038227}, {&quot;x&quot;: 0.7692307692307695, &quot;y&quot;: 0.7692307692307695, &quot;z&quot;: 0.9259078806692508}, {&quot;x&quot;: 0.7692307692307695, &quot;y&quot;: 0.871794871794872, &quot;z&quot;: 0.9761034465555105}, {&quot;x&quot;: 0.7692307692307695, &quot;y&quot;: 0.9743589743589746, &quot;z&quot;: 0.9995588407239098}, {&quot;x&quot;: 0.7692307692307695, &quot;y&quot;: 1.076923076923077, &quot;z&quot;: 0.9837211927455876}, {&quot;x&quot;: 0.7692307692307695, &quot;y&quot;: 1.1794871794871797, &quot;z&quot;: 0.916277853945029}, {&quot;x&quot;: 0.7692307692307695, &quot;y&quot;: 1.2820512820512824, &quot;z&quot;: 0.7871788782455256}, {&quot;x&quot;: 0.7692307692307695, &quot;y&quot;: 1.384615384615385, &quot;z&quot;: 0.5913379220261062}, {&quot;x&quot;: 0.7692307692307695, &quot;y&quot;: 1.4871794871794877, &quot;z&quot;: 0.33176492576634636}, {&quot;x&quot;: 0.7692307692307695, &quot;y&quot;: 1.5897435897435903, &quot;z&quot;: 0.02259007435727753}, {&quot;x&quot;: 0.7692307692307695, &quot;y&quot;: 1.692307692307693, &quot;z&quot;: -0.30889276742514166}, {&quot;x&quot;: 0.7692307692307695, &quot;y&quot;: 1.7948717948717956, &quot;z&quot;: -0.6223082574675005}, {&quot;x&quot;: 0.7692307692307695, &quot;y&quot;: 1.8974358974358982, &quot;z&quot;: -0.8676153763521638}, {&quot;x&quot;: 0.7692307692307695, &quot;y&quot;: 2.0, &quot;z&quot;: -0.9927278442205987}, {&quot;x&quot;: 0.871794871794872, &quot;y&quot;: -1.8974358974358974, &quot;z&quot;: -0.9386506611540262}, {&quot;x&quot;: 0.871794871794872, &quot;y&quot;: -2.0, &quot;z&quot;: -0.9988655575201716}, {&quot;x&quot;: 0.871794871794872, &quot;y&quot;: -1.7948717948717947, &quot;z&quot;: -0.7446420553162059}, {&quot;x&quot;: 0.871794871794872, &quot;y&quot;: -1.692307692307692, &quot;z&quot;: -0.4638525653214691}, {&quot;x&quot;: 0.871794871794872, &quot;y&quot;: -1.5897435897435894, &quot;z&quot;: -0.14520318021882844}, {&quot;x&quot;: 0.871794871794872, &quot;y&quot;: -1.4871794871794868, &quot;z&quot;: 0.1690478427819319}, {&quot;x&quot;: 0.871794871794872, &quot;y&quot;: -1.3846153846153841, &quot;z&quot;: 0.4478923214676807}, {&quot;x&quot;: 0.871794871794872, &quot;y&quot;: -1.2820512820512815, &quot;z&quot;: 0.6727436809952136}, {&quot;x&quot;: 0.871794871794872, &quot;y&quot;: -1.1794871794871788, &quot;z&quot;: 0.8362324180100271}, {&quot;x&quot;: 0.871794871794872, &quot;y&quot;: -1.0769230769230762, &quot;z&quot;: 0.9397174370365116}, {&quot;x&quot;: 0.871794871794872, &quot;y&quot;: -0.9743589743589737, &quot;z&quot;: 0.9904096424403912}, {&quot;x&quot;: 0.871794871794872, &quot;y&quot;: -0.8717948717948711, &quot;z&quot;: 0.9987128131784939}, {&quot;x&quot;: 0.871794871794872, &quot;y&quot;: -0.7692307692307686, &quot;z&quot;: 0.9761034465555102}, {&quot;x&quot;: 0.871794871794872, &quot;y&quot;: -0.6666666666666661, &quot;z&quot;: 0.9336497743705068}, {&quot;x&quot;: 0.871794871794872, &quot;y&quot;: -0.5641025641025635, &quot;z&quot;: 0.8811259582766487}, {&quot;x&quot;: 0.871794871794872, &quot;y&quot;: -0.461538461538461, &quot;z&quot;: 0.8266026889085105}, {&quot;x&quot;: 0.871794871794872, &quot;y&quot;: -0.3589743589743585, &quot;z&quot;: 0.7763719213006605}, {&quot;x&quot;: 0.871794871794872, &quot;y&quot;: -0.25641025641025594, &quot;z&quot;: 0.7350717605355983}, {&quot;x&quot;: 0.871794871794872, &quot;y&quot;: -0.15384615384615338, &quot;z&quot;: 0.705901393565458}, {&quot;x&quot;: 0.871794871794872, &quot;y&quot;: -0.05128205128205082, &quot;z&quot;: 0.6908442838292257}, {&quot;x&quot;: 0.871794871794872, &quot;y&quot;: 0.05128205128205174, &quot;z&quot;: 0.6908442838292257}, {&quot;x&quot;: 0.871794871794872, &quot;y&quot;: 0.1538461538461543, &quot;z&quot;: 0.7059013935654581}, {&quot;x&quot;: 0.871794871794872, &quot;y&quot;: 0.25641025641025683, &quot;z&quot;: 0.7350717605355986}, {&quot;x&quot;: 0.871794871794872, &quot;y&quot;: 0.35897435897435936, &quot;z&quot;: 0.7763719213006609}, {&quot;x&quot;: 0.871794871794872, &quot;y&quot;: 0.4615384615384619, &quot;z&quot;: 0.826602688908511}, {&quot;x&quot;: 0.871794871794872, &quot;y&quot;: 0.5641025641025644, &quot;z&quot;: 0.8811259582766492}, {&quot;x&quot;: 0.871794871794872, &quot;y&quot;: 0.666666666666667, &quot;z&quot;: 0.9336497743705072}, {&quot;x&quot;: 0.871794871794872, &quot;y&quot;: 0.7692307692307695, &quot;z&quot;: 0.9761034465555105}, {&quot;x&quot;: 0.871794871794872, &quot;y&quot;: 0.871794871794872, &quot;z&quot;: 0.9987128131784939}, {&quot;x&quot;: 0.871794871794872, &quot;y&quot;: 0.9743589743589746, &quot;z&quot;: 0.990409642440391}, {&quot;x&quot;: 0.871794871794872, &quot;y&quot;: 1.076923076923077, &quot;z&quot;: 0.9397174370365109}, {&quot;x&quot;: 0.871794871794872, &quot;y&quot;: 1.1794871794871797, &quot;z&quot;: 0.8362324180100259}, {&quot;x&quot;: 0.871794871794872, &quot;y&quot;: 1.2820512820512824, &quot;z&quot;: 0.672743680995212}, {&quot;x&quot;: 0.871794871794872, &quot;y&quot;: 1.384615384615385, &quot;z&quot;: 0.4478923214676787}, {&quot;x&quot;: 0.871794871794872, &quot;y&quot;: 1.4871794871794877, &quot;z&quot;: 0.1690478427819293}, {&quot;x&quot;: 0.871794871794872, &quot;y&quot;: 1.5897435897435903, &quot;z&quot;: -0.1452031802188315}, {&quot;x&quot;: 0.871794871794872, &quot;y&quot;: 1.692307692307693, &quot;z&quot;: -0.4638525653214719}, {&quot;x&quot;: 0.871794871794872, &quot;y&quot;: 1.7948717948717956, &quot;z&quot;: -0.7446420553162083}, {&quot;x&quot;: 0.871794871794872, &quot;y&quot;: 1.8974358974358982, &quot;z&quot;: -0.9386506611540271}, {&quot;x&quot;: 0.871794871794872, &quot;y&quot;: 2.0, &quot;z&quot;: -0.9988655575201716}, {&quot;x&quot;: 0.9743589743589746, &quot;y&quot;: -1.8974358974358974, &quot;z&quot;: -0.9867853311857148}, {&quot;x&quot;: 0.9743589743589746, &quot;y&quot;: -2.0, &quot;z&quot;: -0.9720498964973194}, {&quot;x&quot;: 0.9743589743589746, &quot;y&quot;: -1.7948717948717947, &quot;z&quot;: -0.8569628963579068}, {&quot;x&quot;: 0.9743589743589746, &quot;y&quot;: -1.692307692307692, &quot;z&quot;: -0.6223082574674977}, {&quot;x&quot;: 0.9743589743589746, &quot;y&quot;: -1.5897435897435894, &quot;z&quot;: -0.32883285869832884}, {&quot;x&quot;: 0.9743589743589746, &quot;y&quot;: -1.4871794871794868, &quot;z&quot;: -0.019484351361168325}, {&quot;x&quot;: 0.9743589743589746, &quot;y&quot;: -1.3846153846153841, &quot;z&quot;: 0.2716022560941363}, {&quot;x&quot;: 0.9743589743589746, &quot;y&quot;: -1.2820512820512815, &quot;z&quot;: 0.5214605477998658}, {&quot;x&quot;: 0.9743589743589746, &quot;y&quot;: -1.1794871794871788, &quot;z&quot;: 0.7180713945754511}, {&quot;x&quot;: 0.9743589743589746, &quot;y&quot;: -1.0769230769230762, &quot;z&quot;: 0.8585597356218659}, {&quot;x&quot;: 0.9743589743589746, &quot;y&quot;: -0.9743589743589737, &quot;z&quot;: 0.946703195527581}, {&quot;x&quot;: 0.9743589743589746, &quot;y&quot;: -0.8717948717948711, &quot;z&quot;: 0.9904096424403912}, {&quot;x&quot;: 0.9743589743589746, &quot;y&quot;: -0.7692307692307686, &quot;z&quot;: 0.9995588407239098}, {&quot;x&quot;: 0.9743589743589746, &quot;y&quot;: -0.6666666666666661, &quot;z&quot;: 0.9843804959815317}, {&quot;x&quot;: 0.9743589743589746, &quot;y&quot;: -0.5641025641025635, &quot;z&quot;: 0.9543831839244401}, {&quot;x&quot;: 0.9743589743589746, &quot;y&quot;: -0.461538461538461, &quot;z&quot;: 0.9177561668352509}, {&quot;x&quot;: 0.9743589743589746, &quot;y&quot;: -0.3589743589743585, &quot;z&quot;: 0.8811259582766489}, {&quot;x&quot;: 0.9743589743589746, &quot;y&quot;: -0.25641025641025594, &quot;z&quot;: 0.8495447201640867}, {&quot;x&quot;: 0.9743589743589746, &quot;y&quot;: -0.15384615384615338, &quot;z&quot;: 0.8266026889085107}, {&quot;x&quot;: 0.9743589743589746, &quot;y&quot;: -0.05128205128205082, &quot;z&quot;: 0.814580294265368}, {&quot;x&quot;: 0.9743589743589746, &quot;y&quot;: 0.05128205128205174, &quot;z&quot;: 0.814580294265368}, {&quot;x&quot;: 0.9743589743589746, &quot;y&quot;: 0.1538461538461543, &quot;z&quot;: 0.8266026889085109}, {&quot;x&quot;: 0.9743589743589746, &quot;y&quot;: 0.25641025641025683, &quot;z&quot;: 0.8495447201640869}, {&quot;x&quot;: 0.9743589743589746, &quot;y&quot;: 0.35897435897435936, &quot;z&quot;: 0.8811259582766492}, {&quot;x&quot;: 0.9743589743589746, &quot;y&quot;: 0.4615384615384619, &quot;z&quot;: 0.9177561668352513}, {&quot;x&quot;: 0.9743589743589746, &quot;y&quot;: 0.5641025641025644, &quot;z&quot;: 0.9543831839244403}, {&quot;x&quot;: 0.9743589743589746, &quot;y&quot;: 0.666666666666667, &quot;z&quot;: 0.9843804959815319}, {&quot;x&quot;: 0.9743589743589746, &quot;y&quot;: 0.7692307692307695, &quot;z&quot;: 0.9995588407239098}, {&quot;x&quot;: 0.9743589743589746, &quot;y&quot;: 0.871794871794872, &quot;z&quot;: 0.990409642440391}, {&quot;x&quot;: 0.9743589743589746, &quot;y&quot;: 0.9743589743589746, &quot;z&quot;: 0.9467031955275804}, {&quot;x&quot;: 0.9743589743589746, &quot;y&quot;: 1.076923076923077, &quot;z&quot;: 0.858559735621865}, {&quot;x&quot;: 0.9743589743589746, &quot;y&quot;: 1.1794871794871797, &quot;z&quot;: 0.7180713945754496}, {&quot;x&quot;: 0.9743589743589746, &quot;y&quot;: 1.2820512820512824, &quot;z&quot;: 0.521460547799864}, {&quot;x&quot;: 0.9743589743589746, &quot;y&quot;: 1.384615384615385, &quot;z&quot;: 0.27160225609413413}, {&quot;x&quot;: 0.9743589743589746, &quot;y&quot;: 1.4871794871794877, &quot;z&quot;: -0.019484351361170986}, {&quot;x&quot;: 0.9743589743589746, &quot;y&quot;: 1.5897435897435903, &quot;z&quot;: -0.3288328586983318}, {&quot;x&quot;: 0.9743589743589746, &quot;y&quot;: 1.692307692307693, &quot;z&quot;: -0.6223082574675002}, {&quot;x&quot;: 0.9743589743589746, &quot;y&quot;: 1.7948717948717956, &quot;z&quot;: -0.8569628963579087}, {&quot;x&quot;: 0.9743589743589746, &quot;y&quot;: 1.8974358974358982, &quot;z&quot;: -0.9867853311857152}, {&quot;x&quot;: 0.9743589743589746, &quot;y&quot;: 2.0, &quot;z&quot;: -0.9720498964973194}, {&quot;x&quot;: 1.076923076923077, &quot;y&quot;: -1.8974358974358974, &quot;z&quot;: -0.9988655575201716}, {&quot;x&quot;: 1.076923076923077, &quot;y&quot;: -2.0, &quot;z&quot;: -0.9015860716955789}, {&quot;x&quot;: 1.076923076923077, &quot;y&quot;: -1.7948717948717947, &quot;z&quot;: -0.9456980317608898}, {&quot;x&quot;: 1.076923076923077, &quot;y&quot;: -1.692307692307692, &quot;z&quot;: -0.7720599336301587}, {&quot;x&quot;: 1.076923076923077, &quot;y&quot;: -1.5897435897435894, &quot;z&quot;: -0.5188074113922242}, {&quot;x&quot;: 1.076923076923077, &quot;y&quot;: -1.4871794871794868, &quot;z&quot;: -0.22785434035873228}, {&quot;x&quot;: 1.076923076923077, &quot;y&quot;: -1.3846153846153841, &quot;z&quot;: 0.06462450973522697}, {&quot;x&quot;: 1.076923076923077, &quot;y&quot;: -1.2820512820512815, &quot;z&quot;: 0.3317649257663493}, {&quot;x&quot;: 1.076923076923077, &quot;y&quot;: -1.1794871794871788, &quot;z&quot;: 0.5568921573053983}, {&quot;x&quot;: 1.076923076923077, &quot;y&quot;: -1.0769230769230762, &quot;z&quot;: 0.7325537552945636}, {&quot;x&quot;: 1.076923076923077, &quot;y&quot;: -0.9743589743589737, &quot;z&quot;: 0.8585597356218659}, {&quot;x&quot;: 1.076923076923077, &quot;y&quot;: -0.8717948717948711, &quot;z&quot;: 0.9397174370365113}, {&quot;x&quot;: 1.076923076923077, &quot;y&quot;: -0.7692307692307686, &quot;z&quot;: 0.9837211927455878}, {&quot;x&quot;: 1.076923076923077, &quot;y&quot;: -0.6666666666666661, &quot;z&quot;: 0.999441890052792}, {&quot;x&quot;: 1.076923076923077, &quot;y&quot;: -0.5641025641025635, &quot;z&quot;: 0.9956951942808123}, {&quot;x&quot;: 1.076923076923077, &quot;y&quot;: -0.461538461538461, &quot;z&quot;: 0.9804589538793276}, {&quot;x&quot;: 1.076923076923077, &quot;y&quot;: -0.3589743589743585, &quot;z&quot;: 0.9604533665475725}, {&quot;x&quot;: 1.076923076923077, &quot;y&quot;: -0.25641025641025594, &quot;z&quot;: 0.9409784212656217}, {&quot;x&quot;: 1.076923076923077, &quot;y&quot;: -0.15384615384615338, &quot;z&quot;: 0.9259078806692507}, {&quot;x&quot;: 1.076923076923077, &quot;y&quot;: -0.05128205128205082, &quot;z&quot;: 0.9177561668352511}, {&quot;x&quot;: 1.076923076923077, &quot;y&quot;: 0.05128205128205174, &quot;z&quot;: 0.9177561668352511}, {&quot;x&quot;: 1.076923076923077, &quot;y&quot;: 0.1538461538461543, &quot;z&quot;: 0.9259078806692507}, {&quot;x&quot;: 1.076923076923077, &quot;y&quot;: 0.25641025641025683, &quot;z&quot;: 0.9409784212656218}, {&quot;x&quot;: 1.076923076923077, &quot;y&quot;: 0.35897435897435936, &quot;z&quot;: 0.9604533665475726}, {&quot;x&quot;: 1.076923076923077, &quot;y&quot;: 0.4615384615384619, &quot;z&quot;: 0.9804589538793278}, {&quot;x&quot;: 1.076923076923077, &quot;y&quot;: 0.5641025641025644, &quot;z&quot;: 0.9956951942808124}, {&quot;x&quot;: 1.076923076923077, &quot;y&quot;: 0.666666666666667, &quot;z&quot;: 0.999441890052792}, {&quot;x&quot;: 1.076923076923077, &quot;y&quot;: 0.7692307692307695, &quot;z&quot;: 0.9837211927455876}, {&quot;x&quot;: 1.076923076923077, &quot;y&quot;: 0.871794871794872, &quot;z&quot;: 0.9397174370365109}, {&quot;x&quot;: 1.076923076923077, &quot;y&quot;: 0.9743589743589746, &quot;z&quot;: 0.858559735621865}, {&quot;x&quot;: 1.076923076923077, &quot;y&quot;: 1.076923076923077, &quot;z&quot;: 0.732553755294562}, {&quot;x&quot;: 1.076923076923077, &quot;y&quot;: 1.1794871794871797, &quot;z&quot;: 0.5568921573053964}, {&quot;x&quot;: 1.076923076923077, &quot;y&quot;: 1.2820512820512824, &quot;z&quot;: 0.3317649257663472}, {&quot;x&quot;: 1.076923076923077, &quot;y&quot;: 1.384615384615385, &quot;z&quot;: 0.06462450973522431}, {&quot;x&quot;: 1.076923076923077, &quot;y&quot;: 1.4871794871794877, &quot;z&quot;: -0.22785434035873486}, {&quot;x&quot;: 1.076923076923077, &quot;y&quot;: 1.5897435897435903, &quot;z&quot;: -0.5188074113922273}, {&quot;x&quot;: 1.076923076923077, &quot;y&quot;: 1.692307692307693, &quot;z&quot;: -0.7720599336301609}, {&quot;x&quot;: 1.076923076923077, &quot;y&quot;: 1.7948717948717956, &quot;z&quot;: -0.9456980317608911}, {&quot;x&quot;: 1.076923076923077, &quot;y&quot;: 1.8974358974358982, &quot;z&quot;: -0.9988655575201714}, {&quot;x&quot;: 1.076923076923077, &quot;y&quot;: 2.0, &quot;z&quot;: -0.9015860716955789}, {&quot;x&quot;: 1.1794871794871797, &quot;y&quot;: -1.8974358974358974, &quot;z&quot;: -0.9613136831228454}, {&quot;x&quot;: 1.1794871794871797, &quot;y&quot;: -2.0, &quot;z&quot;: -0.7783260660428757}, {&quot;x&quot;: 1.1794871794871797, &quot;y&quot;: -1.7948717948717947, &quot;z&quot;: -0.995040616399383}, {&quot;x&quot;: 1.1794871794871797, &quot;y&quot;: -1.692307692307692, &quot;z&quot;: -0.897250694249226}, {&quot;x&quot;: 1.1794871794871797, &quot;y&quot;: -1.5897435897435894, &quot;z&quot;: -0.7010594000967505}, {&quot;x&quot;: 1.1794871794871797, &quot;y&quot;: -1.4871794871794868, &quot;z&quot;: -0.44511276099823976}, {&quot;x&quot;: 1.1794871794871797, &quot;y&quot;: -1.3846153846153841, &quot;z&quot;: -0.16598532830685214}, {&quot;x&quot;: 1.1794871794871797, &quot;y&quot;: -1.2820512820512815, &quot;z&quot;: 0.10654454282709566}, {&quot;x&quot;: 1.1794871794871797, &quot;y&quot;: -1.1794871794871788, &quot;z&quot;: 0.3515372368468741}, {&quot;x&quot;: 1.1794871794871797, &quot;y&quot;: -1.0769230769230762, &quot;z&quot;: 0.5568921573053983}, {&quot;x&quot;: 1.1794871794871797, &quot;y&quot;: -0.9743589743589737, &quot;z&quot;: 0.7180713945754508}, {&quot;x&quot;: 1.1794871794871797, &quot;y&quot;: -0.8717948717948711, &quot;z&quot;: 0.8362324180100268}, {&quot;x&quot;: 1.1794871794871797, &quot;y&quot;: -0.7692307692307686, &quot;z&quot;: 0.9162778539450296}, {&quot;x&quot;: 1.1794871794871797, &quot;y&quot;: -0.6666666666666661, &quot;z&quot;: 0.9651348850025946}, {&quot;x&quot;: 1.1794871794871797, &quot;y&quot;: -0.5641025641025635, &quot;z&quot;: 0.9904096424403911}, {&quot;x&quot;: 1.1794871794871797, &quot;y&quot;: -0.461538461538461, &quot;z&quot;: 0.999441890052792}, {&quot;x&quot;: 1.1794871794871797, &quot;y&quot;: -0.3589743589743585, &quot;z&quot;: 0.9987128131784939}, {&quot;x&quot;: 1.1794871794871797, &quot;y&quot;: -0.25641025641025594, &quot;z&quot;: 0.9935249385700321}, {&quot;x&quot;: 1.1794871794871797, &quot;y&quot;: -0.15384615384615338, &quot;z&quot;: 0.9878663371312381}, {&quot;x&quot;: 1.1794871794871797, &quot;y&quot;: -0.05128205128205082, &quot;z&quot;: 0.9843804959815318}, {&quot;x&quot;: 1.1794871794871797, &quot;y&quot;: 0.05128205128205174, &quot;z&quot;: 0.9843804959815318}, {&quot;x&quot;: 1.1794871794871797, &quot;y&quot;: 0.1538461538461543, &quot;z&quot;: 0.9878663371312381}, {&quot;x&quot;: 1.1794871794871797, &quot;y&quot;: 0.25641025641025683, &quot;z&quot;: 0.9935249385700322}, {&quot;x&quot;: 1.1794871794871797, &quot;y&quot;: 0.35897435897435936, &quot;z&quot;: 0.9987128131784939}, {&quot;x&quot;: 1.1794871794871797, &quot;y&quot;: 0.4615384615384619, &quot;z&quot;: 0.9994418900527919}, {&quot;x&quot;: 1.1794871794871797, &quot;y&quot;: 0.5641025641025644, &quot;z&quot;: 0.990409642440391}, {&quot;x&quot;: 1.1794871794871797, &quot;y&quot;: 0.666666666666667, &quot;z&quot;: 0.9651348850025943}, {&quot;x&quot;: 1.1794871794871797, &quot;y&quot;: 0.7692307692307695, &quot;z&quot;: 0.916277853945029}, {&quot;x&quot;: 1.1794871794871797, &quot;y&quot;: 0.871794871794872, &quot;z&quot;: 0.8362324180100259}, {&quot;x&quot;: 1.1794871794871797, &quot;y&quot;: 0.9743589743589746, &quot;z&quot;: 0.7180713945754496}, {&quot;x&quot;: 1.1794871794871797, &quot;y&quot;: 1.076923076923077, &quot;z&quot;: 0.5568921573053964}, {&quot;x&quot;: 1.1794871794871797, &quot;y&quot;: 1.1794871794871797, &quot;z&quot;: 0.35153723684687244}, {&quot;x&quot;: 1.1794871794871797, &quot;y&quot;: 1.2820512820512824, &quot;z&quot;: 0.10654454282709303}, {&quot;x&quot;: 1.1794871794871797, &quot;y&quot;: 1.384615384615385, &quot;z&quot;: -0.16598532830685434}, {&quot;x&quot;: 1.1794871794871797, &quot;y&quot;: 1.4871794871794877, &quot;z&quot;: -0.44511276099824215}, {&quot;x&quot;: 1.1794871794871797, &quot;y&quot;: 1.5897435897435903, &quot;z&quot;: -0.7010594000967527}, {&quot;x&quot;: 1.1794871794871797, &quot;y&quot;: 1.692307692307693, &quot;z&quot;: -0.8972506942492275}, {&quot;x&quot;: 1.1794871794871797, &quot;y&quot;: 1.7948717948717956, &quot;z&quot;: -0.9950406163993833}, {&quot;x&quot;: 1.1794871794871797, &quot;y&quot;: 1.8974358974358982, &quot;z&quot;: -0.9613136831228444}, {&quot;x&quot;: 1.1794871794871797, &quot;y&quot;: 2.0, &quot;z&quot;: -0.7783260660428757}, {&quot;x&quot;: 1.2820512820512824, &quot;y&quot;: -1.8974358974358974, &quot;z&quot;: -0.8620328512459908}, {&quot;x&quot;: 1.2820512820512824, &quot;y&quot;: -2.0, &quot;z&quot;: -0.5968182438720278}, {&quot;x&quot;: 1.2820512820512824, &quot;y&quot;: -1.7948717948717947, &quot;z&quot;: -0.9883440158473323}, {&quot;x&quot;: 1.2820512820512824, &quot;y&quot;: -1.692307692307692, &quot;z&quot;: -0.9790959500009969}, {&quot;x&quot;: 1.2820512820512824, &quot;y&quot;: -1.5897435897435894, &quot;z&quot;: -0.8569628963579068}, {&quot;x&quot;: 1.2820512820512824, &quot;y&quot;: -1.4871794871794868, &quot;z&quot;: -0.6546848781944923}, {&quot;x&quot;: 1.2820512820512824, &quot;y&quot;: -1.3846153846153841, &quot;z&quot;: -0.4070504941472839}, {&quot;x&quot;: 1.2820512820512824, &quot;y&quot;: -1.2820512820512815, &quot;z&quot;: -0.14520318021882844}, {&quot;x&quot;: 1.2820512820512824, &quot;y&quot;: -1.1794871794871788, &quot;z&quot;: 0.10654454282709523}, {&quot;x&quot;: 1.2820512820512824, &quot;y&quot;: -1.0769230769230762, &quot;z&quot;: 0.3317649257663493}, {&quot;x&quot;: 1.2820512820512824, &quot;y&quot;: -0.9743589743589737, &quot;z&quot;: 0.5214605477998654}, {&quot;x&quot;: 1.2820512820512824, &quot;y&quot;: -0.8717948717948711, &quot;z&quot;: 0.672743680995213}, {&quot;x&quot;: 1.2820512820512824, &quot;y&quot;: -0.7692307692307686, &quot;z&quot;: 0.7871788782455267}, {&quot;x&quot;: 1.2820512820512824, &quot;y&quot;: -0.6666666666666661, &quot;z&quot;: 0.8691558071997049}, {&quot;x&quot;: 1.2820512820512824, &quot;y&quot;: -0.5641025641025635, &quot;z&quot;: 0.9245013988266568}, {&quot;x&quot;: 1.2820512820512824, &quot;y&quot;: -0.461538461538461, &quot;z&quot;: 0.9594147326651196}, {&quot;x&quot;: 1.2820512820512824, &quot;y&quot;: -0.3589743589743585, &quot;z&quot;: 0.9797230657400063}, {&quot;x&quot;: 1.2820512820512824, &quot;y&quot;: -0.25641025641025594, &quot;z&quot;: 0.990409642440391}, {&quot;x&quot;: 1.2820512820512824, &quot;y&quot;: -0.15384615384615338, &quot;z&quot;: 0.9953448080064281}, {&quot;x&quot;: 1.2820512820512824, &quot;y&quot;: -0.05128205128205082, &quot;z&quot;: 0.9971520573726362}, {&quot;x&quot;: 1.2820512820512824, &quot;y&quot;: 0.05128205128205174, &quot;z&quot;: 0.9971520573726362}, {&quot;x&quot;: 1.2820512820512824, &quot;y&quot;: 0.1538461538461543, &quot;z&quot;: 0.9953448080064281}, {&quot;x&quot;: 1.2820512820512824, &quot;y&quot;: 0.25641025641025683, &quot;z&quot;: 0.990409642440391}, {&quot;x&quot;: 1.2820512820512824, &quot;y&quot;: 0.35897435897435936, &quot;z&quot;: 0.9797230657400062}, {&quot;x&quot;: 1.2820512820512824, &quot;y&quot;: 0.4615384615384619, &quot;z&quot;: 0.9594147326651192}, {&quot;x&quot;: 1.2820512820512824, &quot;y&quot;: 0.5641025641025644, &quot;z&quot;: 0.9245013988266564}, {&quot;x&quot;: 1.2820512820512824, &quot;y&quot;: 0.666666666666667, &quot;z&quot;: 0.8691558071997042}, {&quot;x&quot;: 1.2820512820512824, &quot;y&quot;: 0.7692307692307695, &quot;z&quot;: 0.7871788782455256}, {&quot;x&quot;: 1.2820512820512824, &quot;y&quot;: 0.871794871794872, &quot;z&quot;: 0.672743680995212}, {&quot;x&quot;: 1.2820512820512824, &quot;y&quot;: 0.9743589743589746, &quot;z&quot;: 0.521460547799864}, {&quot;x&quot;: 1.2820512820512824, &quot;y&quot;: 1.076923076923077, &quot;z&quot;: 0.3317649257663472}, {&quot;x&quot;: 1.2820512820512824, &quot;y&quot;: 1.1794871794871797, &quot;z&quot;: 0.10654454282709303}, {&quot;x&quot;: 1.2820512820512824, &quot;y&quot;: 1.2820512820512824, &quot;z&quot;: -0.14520318021883064}, {&quot;x&quot;: 1.2820512820512824, &quot;y&quot;: 1.384615384615385, &quot;z&quot;: -0.40705049414728633}, {&quot;x&quot;: 1.2820512820512824, &quot;y&quot;: 1.4871794871794877, &quot;z&quot;: -0.6546848781944943}, {&quot;x&quot;: 1.2820512820512824, &quot;y&quot;: 1.5897435897435903, &quot;z&quot;: -0.8569628963579087}, {&quot;x&quot;: 1.2820512820512824, &quot;y&quot;: 1.692307692307693, &quot;z&quot;: -0.9790959500009976}, {&quot;x&quot;: 1.2820512820512824, &quot;y&quot;: 1.7948717948717956, &quot;z&quot;: -0.9883440158473318}, {&quot;x&quot;: 1.2820512820512824, &quot;y&quot;: 1.8974358974358982, &quot;z&quot;: -0.862032851245989}, {&quot;x&quot;: 1.2820512820512824, &quot;y&quot;: 2.0, &quot;z&quot;: -0.5968182438720278}, {&quot;x&quot;: 1.384615384615385, &quot;y&quot;: -1.8974358974358974, &quot;z&quot;: -0.693086893756442}, {&quot;x&quot;: 1.384615384615385, &quot;y&quot;: -2.0, &quot;z&quot;: -0.35790709149336264}, {&quot;x&quot;: 1.384615384615385, &quot;y&quot;: -1.7948717948717947, &quot;z&quot;: -0.910487248504011}, {&quot;x&quot;: 1.384615384615385, &quot;y&quot;: -1.692307692307692, &quot;z&quot;: -0.9976427227779847}, {&quot;x&quot;: 1.384615384615385, &quot;y&quot;: -1.5897435897435894, &quot;z&quot;: -0.9643171169287782}, {&quot;x&quot;: 1.384615384615385, &quot;y&quot;: -1.4871794871794868, &quot;z&quot;: -0.8345249069195919}, {&quot;x&quot;: 1.384615384615385, &quot;y&quot;: -1.3846153846153841, &quot;z&quot;: -0.6386379029873545}, {&quot;x&quot;: 1.384615384615385, &quot;y&quot;: -1.2820512820512815, &quot;z&quot;: -0.4070504941472843}, {&quot;x&quot;: 1.384615384615385, &quot;y&quot;: -1.1794871794871788, &quot;z&quot;: -0.1659853283068526}, {&quot;x&quot;: 1.384615384615385, &quot;y&quot;: -1.0769230769230762, &quot;z&quot;: 0.06462450973522608}, {&quot;x&quot;: 1.384615384615385, &quot;y&quot;: -0.9743589743589737, &quot;z&quot;: 0.27160225609413585}, {&quot;x&quot;: 1.384615384615385, &quot;y&quot;: -0.8717948717948711, &quot;z&quot;: 0.44789232146767993}, {&quot;x&quot;: 1.384615384615385, &quot;y&quot;: -0.7692307692307686, &quot;z&quot;: 0.5913379220261069}, {&quot;x&quot;: 1.384615384615385, &quot;y&quot;: -0.6666666666666661, &quot;z&quot;: 0.7032712051388298}, {&quot;x&quot;: 1.384615384615385, &quot;y&quot;: -0.5641025641025635, &quot;z&quot;: 0.7871788782455261}, {&quot;x&quot;: 1.384615384615385, &quot;y&quot;: -0.461538461538461, &quot;z&quot;: 0.8475836531680343}, {&quot;x&quot;: 1.384615384615385, &quot;y&quot;: -0.3589743589743585, &quot;z&quot;: 0.889189328107374}, {&quot;x&quot;: 1.384615384615385, &quot;y&quot;: -0.25641025641025594, &quot;z&quot;: 0.916277853945029}, {&quot;x&quot;: 1.384615384615385, &quot;y&quot;: -0.15384615384615338, &quot;z&quot;: 0.9323157461046147}, {&quot;x&quot;: 1.384615384615385, &quot;y&quot;: -0.05128205128205082, &quot;z&quot;: 0.9397174370365108}, {&quot;x&quot;: 1.384615384615385, &quot;y&quot;: 0.05128205128205174, &quot;z&quot;: 0.9397174370365108}, {&quot;x&quot;: 1.384615384615385, &quot;y&quot;: 0.1538461538461543, &quot;z&quot;: 0.9323157461046145}, {&quot;x&quot;: 1.384615384615385, &quot;y&quot;: 0.25641025641025683, &quot;z&quot;: 0.9162778539450288}, {&quot;x&quot;: 1.384615384615385, &quot;y&quot;: 0.35897435897435936, &quot;z&quot;: 0.8891893281073738}, {&quot;x&quot;: 1.384615384615385, &quot;y&quot;: 0.4615384615384619, &quot;z&quot;: 0.8475836531680337}, {&quot;x&quot;: 1.384615384615385, &quot;y&quot;: 0.5641025641025644, &quot;z&quot;: 0.7871788782455256}, {&quot;x&quot;: 1.384615384615385, &quot;y&quot;: 0.666666666666667, &quot;z&quot;: 0.7032712051388288}, {&quot;x&quot;: 1.384615384615385, &quot;y&quot;: 0.7692307692307695, &quot;z&quot;: 0.5913379220261062}, {&quot;x&quot;: 1.384615384615385, &quot;y&quot;: 0.871794871794872, &quot;z&quot;: 0.4478923214676787}, {&quot;x&quot;: 1.384615384615385, &quot;y&quot;: 0.9743589743589746, &quot;z&quot;: 0.27160225609413413}, {&quot;x&quot;: 1.384615384615385, &quot;y&quot;: 1.076923076923077, &quot;z&quot;: 0.06462450973522431}, {&quot;x&quot;: 1.384615384615385, &quot;y&quot;: 1.1794871794871797, &quot;z&quot;: -0.16598532830685434}, {&quot;x&quot;: 1.384615384615385, &quot;y&quot;: 1.2820512820512824, &quot;z&quot;: -0.40705049414728633}, {&quot;x&quot;: 1.384615384615385, &quot;y&quot;: 1.384615384615385, &quot;z&quot;: -0.6386379029873561}, {&quot;x&quot;: 1.384615384615385, &quot;y&quot;: 1.4871794871794877, &quot;z&quot;: -0.8345249069195934}, {&quot;x&quot;: 1.384615384615385, &quot;y&quot;: 1.5897435897435903, &quot;z&quot;: -0.964317116928779}, {&quot;x&quot;: 1.384615384615385, &quot;y&quot;: 1.692307692307693, &quot;z&quot;: -0.9976427227779845}, {&quot;x&quot;: 1.384615384615385, &quot;y&quot;: 1.7948717948717956, &quot;z&quot;: -0.9104872485040095}, {&quot;x&quot;: 1.384615384615385, &quot;y&quot;: 1.8974358974358982, &quot;z&quot;: -0.69308689375644}, {&quot;x&quot;: 1.384615384615385, &quot;y&quot;: 2.0, &quot;z&quot;: -0.35790709149336264}, {&quot;x&quot;: 1.4871794871794877, &quot;y&quot;: -1.8974358974358974, &quot;z&quot;: -0.4539732116106992}, {&quot;x&quot;: 1.4871794871794877, &quot;y&quot;: -2.0, &quot;z&quot;: -0.07142161943627978}, {&quot;x&quot;: 1.4871794871794877, &quot;y&quot;: -1.7948717948717947, &quot;z&quot;: -0.7512260992274876}, {&quot;x&quot;: 1.4871794871794877, &quot;y&quot;: -1.692307692307692, &quot;z&quot;: -0.9347579448592681}, {&quot;x&quot;: 1.4871794871794877, &quot;y&quot;: -1.5897435897435894, &quot;z&quot;: -0.9996462800134815}, {&quot;x&quot;: 1.4871794871794877, &quot;y&quot;: -1.4871794871794868, &quot;z&quot;: -0.9585341003624711}, {&quot;x&quot;: 1.4871794871794877, &quot;y&quot;: -1.3846153846153841, &quot;z&quot;: -0.8345249069195919}, {&quot;x&quot;: 1.4871794871794877, &quot;y&quot;: -1.2820512820512815, &quot;z&quot;: -0.654684878194493}, {&quot;x&quot;: 1.4871794871794877, &quot;y&quot;: -1.1794871794871788, &quot;z&quot;: -0.44511276099824015}, {&quot;x&quot;: 1.4871794871794877, &quot;y&quot;: -1.0769230769230762, &quot;z&quot;: -0.22785434035873314}, {&quot;x&quot;: 1.4871794871794877, &quot;y&quot;: -0.9743589743589737, &quot;z&quot;: -0.019484351361169213}, {&quot;x&quot;: 1.4871794871794877, &quot;y&quot;: -0.8717948717948711, &quot;z&quot;: 0.16904784278193105}, {&quot;x&quot;: 1.4871794871794877, &quot;y&quot;: -0.7692307692307686, &quot;z&quot;: 0.33176492576634764}, {&quot;x&quot;: 1.4871794871794877, &quot;y&quot;: -0.6666666666666661, &quot;z&quot;: 0.46660233154530617}, {&quot;x&quot;: 1.4871794871794877, &quot;y&quot;: -0.5641025641025635, &quot;z&quot;: 0.5742421235734612}, {&quot;x&quot;: 1.4871794871794877, &quot;y&quot;: -0.461538461538461, &quot;z&quot;: 0.657029858209064}, {&quot;x&quot;: 1.4871794871794877, &quot;y&quot;: -0.3589743589743585, &quot;z&quot;: 0.7180713945754496}, {&quot;x&quot;: 1.4871794871794877, &quot;y&quot;: -0.25641025641025594, &quot;z&quot;: 0.7605394936891918}, {&quot;x&quot;: 1.4871794871794877, &quot;y&quot;: -0.15384615384615338, &quot;z&quot;: 0.7871788782455256}, {&quot;x&quot;: 1.4871794871794877, &quot;y&quot;: -0.05128205128205082, &quot;z&quot;: 0.7999788553334785}, {&quot;x&quot;: 1.4871794871794877, &quot;y&quot;: 0.05128205128205174, &quot;z&quot;: 0.7999788553334785}, {&quot;x&quot;: 1.4871794871794877, &quot;y&quot;: 0.1538461538461543, &quot;z&quot;: 0.7871788782455253}, {&quot;x&quot;: 1.4871794871794877, &quot;y&quot;: 0.25641025641025683, &quot;z&quot;: 0.7605394936891915}, {&quot;x&quot;: 1.4871794871794877, &quot;y&quot;: 0.35897435897435936, &quot;z&quot;: 0.718071394575449}, {&quot;x&quot;: 1.4871794871794877, &quot;y&quot;: 0.4615384615384619, &quot;z&quot;: 0.6570298582090633}, {&quot;x&quot;: 1.4871794871794877, &quot;y&quot;: 0.5641025641025644, &quot;z&quot;: 0.5742421235734604}, {&quot;x&quot;: 1.4871794871794877, &quot;y&quot;: 0.666666666666667, &quot;z&quot;: 0.466602331545305}, {&quot;x&quot;: 1.4871794871794877, &quot;y&quot;: 0.7692307692307695, &quot;z&quot;: 0.33176492576634636}, {&quot;x&quot;: 1.4871794871794877, &quot;y&quot;: 0.871794871794872, &quot;z&quot;: 0.1690478427819293}, {&quot;x&quot;: 1.4871794871794877, &quot;y&quot;: 0.9743589743589746, &quot;z&quot;: -0.019484351361170986}, {&quot;x&quot;: 1.4871794871794877, &quot;y&quot;: 1.076923076923077, &quot;z&quot;: -0.22785434035873486}, {&quot;x&quot;: 1.4871794871794877, &quot;y&quot;: 1.1794871794871797, &quot;z&quot;: -0.44511276099824215}, {&quot;x&quot;: 1.4871794871794877, &quot;y&quot;: 1.2820512820512824, &quot;z&quot;: -0.6546848781944943}, {&quot;x&quot;: 1.4871794871794877, &quot;y&quot;: 1.384615384615385, &quot;z&quot;: -0.8345249069195934}, {&quot;x&quot;: 1.4871794871794877, &quot;y&quot;: 1.4871794871794877, &quot;z&quot;: -0.9585341003624719}, {&quot;x&quot;: 1.4871794871794877, &quot;y&quot;: 1.5897435897435903, &quot;z&quot;: -0.9996462800134814}, {&quot;x&quot;: 1.4871794871794877, &quot;y&quot;: 1.692307692307693, &quot;z&quot;: -0.9347579448592671}, {&quot;x&quot;: 1.4871794871794877, &quot;y&quot;: 1.7948717948717956, &quot;z&quot;: -0.7512260992274853}, {&quot;x&quot;: 1.4871794871794877, &quot;y&quot;: 1.8974358974358982, &quot;z&quot;: -0.45397321161069687}, {&quot;x&quot;: 1.4871794871794877, &quot;y&quot;: 2.0, &quot;z&quot;: -0.07142161943627978}, {&quot;x&quot;: 1.5897435897435903, &quot;y&quot;: -1.8974358974358974, &quot;z&quot;: -0.15501006469287093}, {&quot;x&quot;: 1.5897435897435903, &quot;y&quot;: -2.0, &quot;z&quot;: 0.241682495588936}, {&quot;x&quot;: 1.5897435897435903, &quot;y&quot;: -1.7948717948717947, &quot;z&quot;: -0.5092695934053817}, {&quot;x&quot;: 1.5897435897435903, &quot;y&quot;: -1.692307692307692, &quot;z&quot;: -0.7783260660428751}, {&quot;x&quot;: 1.5897435897435903, &quot;y&quot;: -1.5897435897435894, &quot;z&quot;: -0.9420252959349192}, {&quot;x&quot;: 1.5897435897435903, &quot;y&quot;: -1.4871794871794868, &quot;z&quot;: -0.9996462800134815}, {&quot;x&quot;: 1.5897435897435903, &quot;y&quot;: -1.3846153846153841, &quot;z&quot;: -0.9643171169287782}, {&quot;x&quot;: 1.5897435897435903, &quot;y&quot;: -1.2820512820512815, &quot;z&quot;: -0.8569628963579073}, {&quot;x&quot;: 1.5897435897435903, &quot;y&quot;: -1.1794871794871788, &quot;z&quot;: -0.7010594000967515}, {&quot;x&quot;: 1.5897435897435903, &quot;y&quot;: -1.0769230769230762, &quot;z&quot;: -0.5188074113922254}, {&quot;x&quot;: 1.5897435897435903, &quot;y&quot;: -0.9743589743589737, &quot;z&quot;: -0.3288328586983301}, {&quot;x&quot;: 1.5897435897435903, &quot;y&quot;: -0.8717948717948711, &quot;z&quot;: -0.14520318021882975}, {&quot;x&quot;: 1.5897435897435903, &quot;y&quot;: -0.7692307692307686, &quot;z&quot;: 0.02259007435727886}, {&quot;x&quot;: 1.5897435897435903, &quot;y&quot;: -0.6666666666666661, &quot;z&quot;: 0.16904784278193016}, {&quot;x&quot;: 1.5897435897435903, &quot;y&quot;: -0.5641025641025635, &quot;z&quot;: 0.29178858833928684}, {&quot;x&quot;: 1.5897435897435903, &quot;y&quot;: -0.461538461538461, &quot;z&quot;: 0.3906063900704527}, {&quot;x&quot;: 1.5897435897435903, &quot;y&quot;: -0.3589743589743585, &quot;z&quot;: 0.4666023315453058}, {&quot;x&quot;: 1.5897435897435903, &quot;y&quot;: -0.25641025641025594, &quot;z&quot;: 0.5214605477998635}, {&quot;x&quot;: 1.5897435897435903, &quot;y&quot;: -0.15384615384615338, &quot;z&quot;: 0.5568921573053961}, {&quot;x&quot;: 1.5897435897435903, &quot;y&quot;: -0.05128205128205082, &quot;z&quot;: 0.5742421235734604}, {&quot;x&quot;: 1.5897435897435903, &quot;y&quot;: 0.05128205128205174, &quot;z&quot;: 0.5742421235734604}, {&quot;x&quot;: 1.5897435897435903, &quot;y&quot;: 0.1538461538461543, &quot;z&quot;: 0.5568921573053957}, {&quot;x&quot;: 1.5897435897435903, &quot;y&quot;: 0.25641025641025683, &quot;z&quot;: 0.5214605477998632}, {&quot;x&quot;: 1.5897435897435903, &quot;y&quot;: 0.35897435897435936, &quot;z&quot;: 0.466602331545305}, {&quot;x&quot;: 1.5897435897435903, &quot;y&quot;: 0.4615384615384619, &quot;z&quot;: 0.39060639007045195}, {&quot;x&quot;: 1.5897435897435903, &quot;y&quot;: 0.5641025641025644, &quot;z&quot;: 0.291788588339286}, {&quot;x&quot;: 1.5897435897435903, &quot;y&quot;: 0.666666666666667, &quot;z&quot;: 0.1690478427819293}, {&quot;x&quot;: 1.5897435897435903, &quot;y&quot;: 0.7692307692307695, &quot;z&quot;: 0.02259007435727753}, {&quot;x&quot;: 1.5897435897435903, &quot;y&quot;: 0.871794871794872, &quot;z&quot;: -0.1452031802188315}, {&quot;x&quot;: 1.5897435897435903, &quot;y&quot;: 0.9743589743589746, &quot;z&quot;: -0.3288328586983318}, {&quot;x&quot;: 1.5897435897435903, &quot;y&quot;: 1.076923076923077, &quot;z&quot;: -0.5188074113922273}, {&quot;x&quot;: 1.5897435897435903, &quot;y&quot;: 1.1794871794871797, &quot;z&quot;: -0.7010594000967527}, {&quot;x&quot;: 1.5897435897435903, &quot;y&quot;: 1.2820512820512824, &quot;z&quot;: -0.8569628963579087}, {&quot;x&quot;: 1.5897435897435903, &quot;y&quot;: 1.384615384615385, &quot;z&quot;: -0.964317116928779}, {&quot;x&quot;: 1.5897435897435903, &quot;y&quot;: 1.4871794871794877, &quot;z&quot;: -0.9996462800134814}, {&quot;x&quot;: 1.5897435897435903, &quot;y&quot;: 1.5897435897435903, &quot;z&quot;: -0.942025295934918}, {&quot;x&quot;: 1.5897435897435903, &quot;y&quot;: 1.692307692307693, &quot;z&quot;: -0.7783260660428735}, {&quot;x&quot;: 1.5897435897435903, &quot;y&quot;: 1.7948717948717956, &quot;z&quot;: -0.5092695934053787}, {&quot;x&quot;: 1.5897435897435903, &quot;y&quot;: 1.8974358974358982, &quot;z&quot;: -0.1550100646928683}, {&quot;x&quot;: 1.5897435897435903, &quot;y&quot;: 2.0, &quot;z&quot;: 0.241682495588936}, {&quot;x&quot;: 1.692307692307693, &quot;y&quot;: -1.8974358974358974, &quot;z&quot;: 0.17999660821418023}, {&quot;x&quot;: 1.692307692307693, &quot;y&quot;: -2.0, &quot;z&quot;: 0.5486260630700922}, {&quot;x&quot;: 1.692307692307693, &quot;y&quot;: -1.7948717948717947, &quot;z&quot;: -0.1964295793552068}, {&quot;x&quot;: 1.692307692307693, &quot;y&quot;: -1.692307692307692, &quot;z&quot;: -0.5272616837605691}, {&quot;x&quot;: 1.692307692307693, &quot;y&quot;: -1.5897435897435894, &quot;z&quot;: -0.7783260660428751}, {&quot;x&quot;: 1.692307692307693, &quot;y&quot;: -1.4871794871794868, &quot;z&quot;: -0.9347579448592678}, {&quot;x&quot;: 1.692307692307693, &quot;y&quot;: -1.3846153846153841, &quot;z&quot;: -0.9976427227779846}, {&quot;x&quot;: 1.692307692307693, &quot;y&quot;: -1.2820512820512815, &quot;z&quot;: -0.979095950000997}, {&quot;x&quot;: 1.692307692307693, &quot;y&quot;: -1.1794871794871788, &quot;z&quot;: -0.8972506942492268}, {&quot;x&quot;: 1.692307692307693, &quot;y&quot;: -1.0769230769230762, &quot;z&quot;: -0.7720599336301598}, {&quot;x&quot;: 1.692307692307693, &quot;y&quot;: -0.9743589743589737, &quot;z&quot;: -0.6223082574674987}, {&quot;x&quot;: 1.692307692307693, &quot;y&quot;: -0.8717948717948711, &quot;z&quot;: -0.4638525653214703}, {&quot;x&quot;: 1.692307692307693, &quot;y&quot;: -0.7692307692307686, &quot;z&quot;: -0.3088927674251404}, {&quot;x&quot;: 1.692307692307693, &quot;y&quot;: -0.6666666666666661, &quot;z&quot;: -0.16598532830685434}, {&quot;x&quot;: 1.692307692307693, &quot;y&quot;: -0.5641025641025635, &quot;z&quot;: -0.040513283901981036}, {&quot;x&quot;: 1.692307692307693, &quot;y&quot;: -0.461538461538461, &quot;z&quot;: 0.06462450973522431}, {&quot;x&quot;: 1.692307692307693, &quot;y&quot;: -0.3589743589743585, &quot;z&quot;: 0.14827596420928055}, {&quot;x&quot;: 1.692307692307693, &quot;y&quot;: -0.25641025641025594, &quot;z&quot;: 0.21035797010002488}, {&quot;x&quot;: 1.692307692307693, &quot;y&quot;: -0.15384615384615338, &quot;z&quot;: 0.25129570878766694}, {&quot;x&quot;: 1.692307692307693, &quot;y&quot;: -0.05128205128205082, &quot;z&quot;: 0.2716022560941333}, {&quot;x&quot;: 1.692307692307693, &quot;y&quot;: 0.05128205128205174, &quot;z&quot;: 0.2716022560941333}, {&quot;x&quot;: 1.692307692307693, &quot;y&quot;: 0.1538461538461543, &quot;z&quot;: 0.25129570878766655}, {&quot;x&quot;: 1.692307692307693, &quot;y&quot;: 0.25641025641025683, &quot;z&quot;: 0.21035797010002444}, {&quot;x&quot;: 1.692307692307693, &quot;y&quot;: 0.35897435897435936, &quot;z&quot;: 0.14827596420927966}, {&quot;x&quot;: 1.692307692307693, &quot;y&quot;: 0.4615384615384619, &quot;z&quot;: 0.06462450973522342}, {&quot;x&quot;: 1.692307692307693, &quot;y&quot;: 0.5641025641025644, &quot;z&quot;: -0.040513283901981924}, {&quot;x&quot;: 1.692307692307693, &quot;y&quot;: 0.666666666666667, &quot;z&quot;: -0.1659853283068552}, {&quot;x&quot;: 1.692307692307693, &quot;y&quot;: 0.7692307692307695, &quot;z&quot;: -0.30889276742514166}, {&quot;x&quot;: 1.692307692307693, &quot;y&quot;: 0.871794871794872, &quot;z&quot;: -0.4638525653214719}, {&quot;x&quot;: 1.692307692307693, &quot;y&quot;: 0.9743589743589746, &quot;z&quot;: -0.6223082574675002}, {&quot;x&quot;: 1.692307692307693, &quot;y&quot;: 1.076923076923077, &quot;z&quot;: -0.7720599336301609}, {&quot;x&quot;: 1.692307692307693, &quot;y&quot;: 1.1794871794871797, &quot;z&quot;: -0.8972506942492275}, {&quot;x&quot;: 1.692307692307693, &quot;y&quot;: 1.2820512820512824, &quot;z&quot;: -0.9790959500009976}, {&quot;x&quot;: 1.692307692307693, &quot;y&quot;: 1.384615384615385, &quot;z&quot;: -0.9976427227779845}, {&quot;x&quot;: 1.692307692307693, &quot;y&quot;: 1.4871794871794877, &quot;z&quot;: -0.9347579448592671}, {&quot;x&quot;: 1.692307692307693, &quot;y&quot;: 1.5897435897435903, &quot;z&quot;: -0.7783260660428735}, {&quot;x&quot;: 1.692307692307693, &quot;y&quot;: 1.692307692307693, &quot;z&quot;: -0.5272616837605661}, {&quot;x&quot;: 1.692307692307693, &quot;y&quot;: 1.7948717948717956, &quot;z&quot;: -0.1964295793552033}, {&quot;x&quot;: 1.692307692307693, &quot;y&quot;: 1.8974358974358982, &quot;z&quot;: 0.17999660821418373}, {&quot;x&quot;: 1.692307692307693, &quot;y&quot;: 2.0, &quot;z&quot;: 0.5486260630700922}, {&quot;x&quot;: 1.7948717948717956, &quot;y&quot;: -1.8974358974358974, &quot;z&quot;: 0.5129711252921816}, {&quot;x&quot;: 1.7948717948717956, &quot;y&quot;: -2.0, &quot;z&quot;: 0.8066012611250105}, {&quot;x&quot;: 1.7948717948717956, &quot;y&quot;: -1.7948717948717947, &quot;z&quot;: 0.1592631317925361}, {&quot;x&quot;: 1.7948717948717956, &quot;y&quot;: -1.692307692307692, &quot;z&quot;: -0.1964295793552068}, {&quot;x&quot;: 1.7948717948717956, &quot;y&quot;: -1.5897435897435894, &quot;z&quot;: -0.5092695934053809}, {&quot;x&quot;: 1.7948717948717956, &quot;y&quot;: -1.4871794871794868, &quot;z&quot;: -0.7512260992274865}, {&quot;x&quot;: 1.7948717948717956, &quot;y&quot;: -1.3846153846153841, &quot;z&quot;: -0.9104872485040102}, {&quot;x&quot;: 1.7948717948717956, &quot;y&quot;: -1.2820512820512815, &quot;z&quot;: -0.9883440158473322}, {&quot;x&quot;: 1.7948717948717956, &quot;y&quot;: -1.1794871794871788, &quot;z&quot;: -0.9950406163993832}, {&quot;x&quot;: 1.7948717948717956, &quot;y&quot;: -1.0769230769230762, &quot;z&quot;: -0.9456980317608904}, {&quot;x&quot;: 1.7948717948717956, &quot;y&quot;: -0.9743589743589737, &quot;z&quot;: -0.8569628963579078}, {&quot;x&quot;: 1.7948717948717956, &quot;y&quot;: -0.8717948717948711, &quot;z&quot;: -0.7446420553162071}, {&quot;x&quot;: 1.7948717948717956, &quot;y&quot;: -0.7692307692307686, &quot;z&quot;: -0.6223082574674994}, {&quot;x&quot;: 1.7948717948717956, &quot;y&quot;: -0.6666666666666661, &quot;z&quot;: -0.5007080469013334}, {&quot;x&quot;: 1.7948717948717956, &quot;y&quot;: -0.5641025641025635, &quot;z&quot;: -0.3877448785258016}, {&quot;x&quot;: 1.7948717948717956, &quot;y&quot;: -0.461538461538461, &quot;z&quot;: -0.2888159557744789}, {&quot;x&quot;: 1.7948717948717956, &quot;y&quot;: -0.3589743589743585, &quot;z&quot;: -0.20732005604903447}, {&quot;x&quot;: 1.7948717948717956, &quot;y&quot;: -0.25641025641025594, &quot;z&quot;: -0.1452031802188315}, {&quot;x&quot;: 1.7948717948717956, &quot;y&quot;: -0.15384615384615338, &quot;z&quot;: -0.10345530392439355}, {&quot;x&quot;: 1.7948717948717956, &quot;y&quot;: -0.05128205128205082, &quot;z&quot;: -0.0825080539279204}, {&quot;x&quot;: 1.7948717948717956, &quot;y&quot;: 0.05128205128205174, &quot;z&quot;: -0.0825080539279204}, {&quot;x&quot;: 1.7948717948717956, &quot;y&quot;: 0.1538461538461543, &quot;z&quot;: -0.10345530392439399}, {&quot;x&quot;: 1.7948717948717956, &quot;y&quot;: 0.25641025641025683, &quot;z&quot;: -0.14520318021883194}, {&quot;x&quot;: 1.7948717948717956, &quot;y&quot;: 0.35897435897435936, &quot;z&quot;: -0.20732005604903533}, {&quot;x&quot;: 1.7948717948717956, &quot;y&quot;: 0.4615384615384619, &quot;z&quot;: -0.28881595577447977}, {&quot;x&quot;: 1.7948717948717956, &quot;y&quot;: 0.5641025641025644, &quot;z&quot;: -0.38774487852580236}, {&quot;x&quot;: 1.7948717948717956, &quot;y&quot;: 0.666666666666667, &quot;z&quot;: -0.5007080469013342}, {&quot;x&quot;: 1.7948717948717956, &quot;y&quot;: 0.7692307692307695, &quot;z&quot;: -0.6223082574675005}, {&quot;x&quot;: 1.7948717948717956, &quot;y&quot;: 0.871794871794872, &quot;z&quot;: -0.7446420553162083}, {&quot;x&quot;: 1.7948717948717956, &quot;y&quot;: 0.9743589743589746, &quot;z&quot;: -0.8569628963579087}, {&quot;x&quot;: 1.7948717948717956, &quot;y&quot;: 1.076923076923077, &quot;z&quot;: -0.9456980317608911}, {&quot;x&quot;: 1.7948717948717956, &quot;y&quot;: 1.1794871794871797, &quot;z&quot;: -0.9950406163993833}, {&quot;x&quot;: 1.7948717948717956, &quot;y&quot;: 1.2820512820512824, &quot;z&quot;: -0.9883440158473318}, {&quot;x&quot;: 1.7948717948717956, &quot;y&quot;: 1.384615384615385, &quot;z&quot;: -0.9104872485040095}, {&quot;x&quot;: 1.7948717948717956, &quot;y&quot;: 1.4871794871794877, &quot;z&quot;: -0.7512260992274853}, {&quot;x&quot;: 1.7948717948717956, &quot;y&quot;: 1.5897435897435903, &quot;z&quot;: -0.5092695934053787}, {&quot;x&quot;: 1.7948717948717956, &quot;y&quot;: 1.692307692307693, &quot;z&quot;: -0.1964295793552033}, {&quot;x&quot;: 1.7948717948717956, &quot;y&quot;: 1.7948717948717956, &quot;z&quot;: 0.15926313179253962}, {&quot;x&quot;: 1.7948717948717956, &quot;y&quot;: 1.8974358974358982, &quot;z&quot;: 0.5129711252921846}, {&quot;x&quot;: 1.7948717948717956, &quot;y&quot;: 2.0, &quot;z&quot;: 0.8066012611250105}, {&quot;x&quot;: 1.8974358974358982, &quot;y&quot;: -1.8974358974358974, &quot;z&quot;: 0.7939877284455206}, {&quot;x&quot;: 1.8974358974358982, &quot;y&quot;: -2.0, &quot;z&quot;: 0.9679857160986978}, {&quot;x&quot;: 1.8974358974358982, &quot;y&quot;: -1.7948717948717947, &quot;z&quot;: 0.5129711252921816}, {&quot;x&quot;: 1.8974358974358982, &quot;y&quot;: -1.692307692307692, &quot;z&quot;: 0.17999660821418023}, {&quot;x&quot;: 1.8974358974358982, &quot;y&quot;: -1.5897435897435894, &quot;z&quot;: -0.15501006469287093}, {&quot;x&quot;: 1.8974358974358982, &quot;y&quot;: -1.4871794871794868, &quot;z&quot;: -0.4539732116106984}, {&quot;x&quot;: 1.8974358974358982, &quot;y&quot;: -1.3846153846153841, &quot;z&quot;: -0.6930868937564413}, {&quot;x&quot;: 1.8974358974358982, &quot;y&quot;: -1.2820512820512815, &quot;z&quot;: -0.8620328512459904}, {&quot;x&quot;: 1.8974358974358982, &quot;y&quot;: -1.1794871794871788, &quot;z&quot;: -0.9613136831228448}, {&quot;x&quot;: 1.8974358974358982, &quot;y&quot;: -1.0769230769230762, &quot;z&quot;: -0.9988655575201715}, {&quot;x&quot;: 1.8974358974358982, &quot;y&quot;: -0.9743589743589737, &quot;z&quot;: -0.9867853311857149}, {&quot;x&quot;: 1.8974358974358982, &quot;y&quot;: -0.8717948717948711, &quot;z&quot;: -0.9386506611540267}, {&quot;x&quot;: 1.8974358974358982, &quot;y&quot;: -0.7692307692307686, &quot;z&quot;: -0.8676153763521633}, {&quot;x&quot;: 1.8974358974358982, &quot;y&quot;: -0.6666666666666661, &quot;z&quot;: -0.7852592822929708}, {&quot;x&quot;: 1.8974358974358982, &quot;y&quot;: -0.5641025641025635, &quot;z&quot;: -0.7010594000967527}, {&quot;x&quot;: 1.8974358974358982, &quot;y&quot;: -0.461538461538461, &quot;z&quot;: -0.6223082574674997}, {&quot;x&quot;: 1.8974358974358982, &quot;y&quot;: -0.3589743589743585, &quot;z&quot;: -0.5543093361277349}, {&quot;x&quot;: 1.8974358974358982, &quot;y&quot;: -0.25641025641025594, &quot;z&quot;: -0.5007080469013339}, {&quot;x&quot;: 1.8974358974358982, &quot;y&quot;: -0.15384615384615338, &quot;z&quot;: -0.4638525653214719}, {&quot;x&quot;: 1.8974358974358982, &quot;y&quot;: -0.05128205128205082, &quot;z&quot;: -0.44511276099824293}, {&quot;x&quot;: 1.8974358974358982, &quot;y&quot;: 0.05128205128205174, &quot;z&quot;: -0.44511276099824293}, {&quot;x&quot;: 1.8974358974358982, &quot;y&quot;: 0.1538461538461543, &quot;z&quot;: -0.4638525653214723}, {&quot;x&quot;: 1.8974358974358982, &quot;y&quot;: 0.25641025641025683, &quot;z&quot;: -0.5007080469013342}, {&quot;x&quot;: 1.8974358974358982, &quot;y&quot;: 0.35897435897435936, &quot;z&quot;: -0.5543093361277357}, {&quot;x&quot;: 1.8974358974358982, &quot;y&quot;: 0.4615384615384619, &quot;z&quot;: -0.6223082574675005}, {&quot;x&quot;: 1.8974358974358982, &quot;y&quot;: 0.5641025641025644, &quot;z&quot;: -0.7010594000967534}, {&quot;x&quot;: 1.8974358974358982, &quot;y&quot;: 0.666666666666667, &quot;z&quot;: -0.7852592822929714}, {&quot;x&quot;: 1.8974358974358982, &quot;y&quot;: 0.7692307692307695, &quot;z&quot;: -0.8676153763521638}, {&quot;x&quot;: 1.8974358974358982, &quot;y&quot;: 0.871794871794872, &quot;z&quot;: -0.9386506611540271}, {&quot;x&quot;: 1.8974358974358982, &quot;y&quot;: 0.9743589743589746, &quot;z&quot;: -0.9867853311857152}, {&quot;x&quot;: 1.8974358974358982, &quot;y&quot;: 1.076923076923077, &quot;z&quot;: -0.9988655575201714}, {&quot;x&quot;: 1.8974358974358982, &quot;y&quot;: 1.1794871794871797, &quot;z&quot;: -0.9613136831228444}, {&quot;x&quot;: 1.8974358974358982, &quot;y&quot;: 1.2820512820512824, &quot;z&quot;: -0.862032851245989}, {&quot;x&quot;: 1.8974358974358982, &quot;y&quot;: 1.384615384615385, &quot;z&quot;: -0.69308689375644}, {&quot;x&quot;: 1.8974358974358982, &quot;y&quot;: 1.4871794871794877, &quot;z&quot;: -0.45397321161069687}, {&quot;x&quot;: 1.8974358974358982, &quot;y&quot;: 1.5897435897435903, &quot;z&quot;: -0.1550100646928683}, {&quot;x&quot;: 1.8974358974358982, &quot;y&quot;: 1.692307692307693, &quot;z&quot;: 0.17999660821418373}, {&quot;x&quot;: 1.8974358974358982, &quot;y&quot;: 1.7948717948717956, &quot;z&quot;: 0.5129711252921846}, {&quot;x&quot;: 1.8974358974358982, &quot;y&quot;: 1.8974358974358982, &quot;z&quot;: 0.7939877284455228}, {&quot;x&quot;: 1.8974358974358982, &quot;y&quot;: 2.0, &quot;z&quot;: 0.9679857160986978}, {&quot;x&quot;: 2.0, &quot;y&quot;: -1.8974358974358974, &quot;z&quot;: 0.9679857160986971}, {&quot;x&quot;: 2.0, &quot;y&quot;: -2.0, &quot;z&quot;: 0.9893582466233818}, {&quot;x&quot;: 2.0, &quot;y&quot;: -1.7948717948717947, &quot;z&quot;: 0.8066012611250084}, {&quot;x&quot;: 2.0, &quot;y&quot;: -1.692307692307692, &quot;z&quot;: 0.54862606307009}, {&quot;x&quot;: 2.0, &quot;y&quot;: -1.5897435897435894, &quot;z&quot;: 0.24168249558893257}, {&quot;x&quot;: 2.0, &quot;y&quot;: -1.4871794871794868, &quot;z&quot;: -0.07142161943628332}, {&quot;x&quot;: 2.0, &quot;y&quot;: -1.3846153846153841, &quot;z&quot;: -0.35790709149336514}, {&quot;x&quot;: 2.0, &quot;y&quot;: -1.2820512820512815, &quot;z&quot;: -0.5968182438720299}, {&quot;x&quot;: 2.0, &quot;y&quot;: -1.1794871794871788, &quot;z&quot;: -0.7783260660428768}, {&quot;x&quot;: 2.0, &quot;y&quot;: -1.0769230769230762, &quot;z&quot;: -0.90158607169558}, {&quot;x&quot;: 2.0, &quot;y&quot;: -0.9743589743589737, &quot;z&quot;: -0.9720498964973199}, {&quot;x&quot;: 2.0, &quot;y&quot;: -0.8717948717948711, &quot;z&quot;: -0.9988655575201716}, {&quot;x&quot;: 2.0, &quot;y&quot;: -0.7692307692307686, &quot;z&quot;: -0.9927278442205985}, {&quot;x&quot;: 2.0, &quot;y&quot;: -0.6666666666666661, &quot;z&quot;: -0.964317116928778}, {&quot;x&quot;: 2.0, &quot;y&quot;: -0.5641025641025635, &quot;z&quot;: -0.9233128422850049}, {&quot;x&quot;: 2.0, &quot;y&quot;: -0.461538461538461, &quot;z&quot;: -0.8778838373137139}, {&quot;x&quot;: 2.0, &quot;y&quot;: -0.3589743589743585, &quot;z&quot;: -0.8345249069195914}, {&quot;x&quot;: 2.0, &quot;y&quot;: -0.25641025641025594, &quot;z&quot;: -0.7981110639137167}, {&quot;x&quot;: 2.0, &quot;y&quot;: -0.15384615384615338, &quot;z&quot;: -0.7720599336301592}, {&quot;x&quot;: 2.0, &quot;y&quot;: -0.05128205128205082, &quot;z&quot;: -0.7585188601466708}, {&quot;x&quot;: 2.0, &quot;y&quot;: 0.05128205128205174, &quot;z&quot;: -0.7585188601466708}, {&quot;x&quot;: 2.0, &quot;y&quot;: 0.1538461538461543, &quot;z&quot;: -0.7720599336301592}, {&quot;x&quot;: 2.0, &quot;y&quot;: 0.25641025641025683, &quot;z&quot;: -0.7981110639137167}, {&quot;x&quot;: 2.0, &quot;y&quot;: 0.35897435897435936, &quot;z&quot;: -0.8345249069195919}, {&quot;x&quot;: 2.0, &quot;y&quot;: 0.4615384615384619, &quot;z&quot;: -0.8778838373137142}, {&quot;x&quot;: 2.0, &quot;y&quot;: 0.5641025641025644, &quot;z&quot;: -0.9233128422850052}, {&quot;x&quot;: 2.0, &quot;y&quot;: 0.666666666666667, &quot;z&quot;: -0.9643171169287782}, {&quot;x&quot;: 2.0, &quot;y&quot;: 0.7692307692307695, &quot;z&quot;: -0.9927278442205987}, {&quot;x&quot;: 2.0, &quot;y&quot;: 0.871794871794872, &quot;z&quot;: -0.9988655575201716}, {&quot;x&quot;: 2.0, &quot;y&quot;: 0.9743589743589746, &quot;z&quot;: -0.9720498964973194}, {&quot;x&quot;: 2.0, &quot;y&quot;: 1.076923076923077, &quot;z&quot;: -0.9015860716955789}, {&quot;x&quot;: 2.0, &quot;y&quot;: 1.1794871794871797, &quot;z&quot;: -0.7783260660428757}, {&quot;x&quot;: 2.0, &quot;y&quot;: 1.2820512820512824, &quot;z&quot;: -0.5968182438720278}, {&quot;x&quot;: 2.0, &quot;y&quot;: 1.384615384615385, &quot;z&quot;: -0.35790709149336264}, {&quot;x&quot;: 2.0, &quot;y&quot;: 1.4871794871794877, &quot;z&quot;: -0.07142161943627978}, {&quot;x&quot;: 2.0, &quot;y&quot;: 1.5897435897435903, &quot;z&quot;: 0.241682495588936}, {&quot;x&quot;: 2.0, &quot;y&quot;: 1.692307692307693, &quot;z&quot;: 0.5486260630700922}, {&quot;x&quot;: 2.0, &quot;y&quot;: 1.7948717948717956, &quot;z&quot;: 0.8066012611250105}, {&quot;x&quot;: 2.0, &quot;y&quot;: 1.8974358974358982, &quot;z&quot;: 0.9679857160986978}, {&quot;x&quot;: 2.0, &quot;y&quot;: 2.0, &quot;z&quot;: 0.9893582466233818}], &quot;faces&quot;: [[0, 1, 2, 3], [1, 4, 5, 2], [4, 6, 7, 5], [6, 8, 9, 7], [8, 10, 11, 9], [10, 12, 13, 11], [12, 14, 15, 13], [14, 16, 17, 15], [16, 18, 19, 17], [18, 20, 21, 19], [20, 22, 23, 21], [22, 24, 25, 23], [24, 26, 27, 25], [26, 28, 29, 27], [28, 30, 31, 29], [30, 32, 33, 31], [32, 34, 35, 33], [34, 36, 37, 35], [36, 38, 39, 37], [38, 40, 41, 39], [40, 42, 43, 41], [42, 44, 45, 43], [44, 46, 47, 45], [46, 48, 49, 47], [48, 50, 51, 49], [50, 52, 53, 51], [52, 54, 55, 53], [54, 56, 57, 55], [56, 58, 59, 57], [58, 60, 61, 59], [60, 62, 63, 61], [62, 64, 65, 63], [64, 66, 67, 65], [66, 68, 69, 67], [68, 70, 71, 69], [70, 72, 73, 71], [72, 74, 75, 73], [74, 76, 77, 75], [76, 78, 79, 77], [3, 2, 80, 81], [2, 5, 82, 80], [5, 7, 83, 82], [7, 9, 84, 83], [9, 11, 85, 84], [11, 13, 86, 85], [13, 15, 87, 86], [15, 17, 88, 87], [17, 19, 89, 88], [19, 21, 90, 89], [21, 23, 91, 90], [23, 25, 92, 91], [25, 27, 93, 92], [27, 29, 94, 93], [29, 31, 95, 94], [31, 33, 96, 95], [33, 35, 97, 96], [35, 37, 98, 97], [37, 39, 99, 98], [39, 41, 100, 99], [41, 43, 101, 100], [43, 45, 102, 101], [45, 47, 103, 102], [47, 49, 104, 103], [49, 51, 105, 104], [51, 53, 106, 105], [53, 55, 107, 106], [55, 57, 108, 107], [57, 59, 109, 108], [59, 61, 110, 109], [61, 63, 111, 110], [63, 65, 112, 111], [65, 67, 113, 112], [67, 69, 114, 113], [69, 71, 115, 114], [71, 73, 116, 115], [73, 75, 117, 116], [75, 77, 118, 117], [77, 79, 119, 118], [81, 80, 120, 121], [80, 82, 122, 120], [82, 83, 123, 122], [83, 84, 124, 123], [84, 85, 125, 124], [85, 86, 126, 125], [86, 87, 127, 126], [87, 88, 128, 127], [88, 89, 129, 128], [89, 90, 130, 129], [90, 91, 131, 130], [91, 92, 132, 131], [92, 93, 133, 132], [93, 94, 134, 133], [94, 95, 135, 134], [95, 96, 136, 135], [96, 97, 137, 136], [97, 98, 138, 137], [98, 99, 139, 138], [99, 100, 140, 139], [100, 101, 141, 140], [101, 102, 142, 141], [102, 103, 143, 142], [103, 104, 144, 143], [104, 105, 145, 144], [105, 106, 146, 145], [106, 107, 147, 146], [107, 108, 148, 147], [108, 109, 149, 148], [109, 110, 150, 149], [110, 111, 151, 150], [111, 112, 152, 151], [112, 113, 153, 152], [113, 114, 154, 153], [114, 115, 155, 154], [115, 116, 156, 155], [116, 117, 157, 156], [117, 118, 158, 157], [118, 119, 159, 158], [121, 120, 160, 161], [120, 122, 162, 160], [122, 123, 163, 162], [123, 124, 164, 163], [124, 125, 165, 164], [125, 126, 166, 165], [126, 127, 167, 166], [127, 128, 168, 167], [128, 129, 169, 168], [129, 130, 170, 169], [130, 131, 171, 170], [131, 132, 172, 171], [132, 133, 173, 172], [133, 134, 174, 173], [134, 135, 175, 174], [135, 136, 176, 175], [136, 137, 177, 176], [137, 138, 178, 177], [138, 139, 179, 178], [139, 140, 180, 179], [140, 141, 181, 180], [141, 142, 182, 181], [142, 143, 183, 182], [143, 144, 184, 183], [144, 145, 185, 184], [145, 146, 186, 185], [146, 147, 187, 186], [147, 148, 188, 187], [148, 149, 189, 188], [149, 150, 190, 189], [150, 151, 191, 190], [151, 152, 192, 191], [152, 153, 193, 192], [153, 154, 194, 193], [154, 155, 195, 194], [155, 156, 196, 195], [156, 157, 197, 196], [157, 158, 198, 197], [158, 159, 199, 198], [161, 160, 200, 201], [160, 162, 202, 200], [162, 163, 203, 202], [163, 164, 204, 203], [164, 165, 205, 204], [165, 166, 206, 205], [166, 167, 207, 206], [167, 168, 208, 207], [168, 169, 209, 208], [169, 170, 210, 209], [170, 171, 211, 210], [171, 172, 212, 211], [172, 173, 213, 212], [173, 174, 214, 213], [174, 175, 215, 214], [175, 176, 216, 215], [176, 177, 217, 216], [177, 178, 218, 217], [178, 179, 219, 218], [179, 180, 220, 219], [180, 181, 221, 220], [181, 182, 222, 221], [182, 183, 223, 222], [183, 184, 224, 223], [184, 185, 225, 224], [185, 186, 226, 225], [186, 187, 227, 226], [187, 188, 228, 227], [188, 189, 229, 228], [189, 190, 230, 229], [190, 191, 231, 230], [191, 192, 232, 231], [192, 193, 233, 232], [193, 194, 234, 233], [194, 195, 235, 234], [195, 196, 236, 235], [196, 197, 237, 236], [197, 198, 238, 237], [198, 199, 239, 238], [201, 200, 240, 241], [200, 202, 242, 240], [202, 203, 243, 242], [203, 204, 244, 243], [204, 205, 245, 244], [205, 206, 246, 245], [206, 207, 247, 246], [207, 208, 248, 247], [208, 209, 249, 248], [209, 210, 250, 249], [210, 211, 251, 250], [211, 212, 252, 251], [212, 213, 253, 252], [213, 214, 254, 253], [214, 215, 255, 254], [215, 216, 256, 255], [216, 217, 257, 256], [217, 218, 258, 257], [218, 219, 259, 258], [219, 220, 260, 259], [220, 221, 261, 260], [221, 222, 262, 261], [222, 223, 263, 262], [223, 224, 264, 263], [224, 225, 265, 264], [225, 226, 266, 265], [226, 227, 267, 266], [227, 228, 268, 267], [228, 229, 269, 268], [229, 230, 270, 269], [230, 231, 271, 270], [231, 232, 272, 271], [232, 233, 273, 272], [233, 234, 274, 273], [234, 235, 275, 274], [235, 236, 276, 275], [236, 237, 277, 276], [237, 238, 278, 277], [238, 239, 279, 278], [241, 240, 280, 281], [240, 242, 282, 280], [242, 243, 283, 282], [243, 244, 284, 283], [244, 245, 285, 284], [245, 246, 286, 285], [246, 247, 287, 286], [247, 248, 288, 287], [248, 249, 289, 288], [249, 250, 290, 289], [250, 251, 291, 290], [251, 252, 292, 291], [252, 253, 293, 292], [253, 254, 294, 293], [254, 255, 295, 294], [255, 256, 296, 295], [256, 257, 297, 296], [257, 258, 298, 297], [258, 259, 299, 298], [259, 260, 300, 299], [260, 261, 301, 300], [261, 262, 302, 301], [262, 263, 303, 302], [263, 264, 304, 303], [264, 265, 305, 304], [265, 266, 306, 305], [266, 267, 307, 306], [267, 268, 308, 307], [268, 269, 309, 308], [269, 270, 310, 309], [270, 271, 311, 310], [271, 272, 312, 311], [272, 273, 313, 312], [273, 274, 314, 313], [274, 275, 315, 314], [275, 276, 316, 315], [276, 277, 317, 316], [277, 278, 318, 317], [278, 279, 319, 318], [281, 280, 320, 321], [280, 282, 322, 320], [282, 283, 323, 322], [283, 284, 324, 323], [284, 285, 325, 324], [285, 286, 326, 325], [286, 287, 327, 326], [287, 288, 328, 327], [288, 289, 329, 328], [289, 290, 330, 329], [290, 291, 331, 330], [291, 292, 332, 331], [292, 293, 333, 332], [293, 294, 334, 333], [294, 295, 335, 334], [295, 296, 336, 335], [296, 297, 337, 336], [297, 298, 338, 337], [298, 299, 339, 338], [299, 300, 340, 339], [300, 301, 341, 340], [301, 302, 342, 341], [302, 303, 343, 342], [303, 304, 344, 343], [304, 305, 345, 344], [305, 306, 346, 345], [306, 307, 347, 346], [307, 308, 348, 347], [308, 309, 349, 348], [309, 310, 350, 349], [310, 311, 351, 350], [311, 312, 352, 351], [312, 313, 353, 352], [313, 314, 354, 353], [314, 315, 355, 354], [315, 316, 356, 355], [316, 317, 357, 356], [317, 318, 358, 357], [318, 319, 359, 358], [321, 320, 360, 361], [320, 322, 362, 360], [322, 323, 363, 362], [323, 324, 364, 363], [324, 325, 365, 364], [325, 326, 366, 365], [326, 327, 367, 366], [327, 328, 368, 367], [328, 329, 369, 368], [329, 330, 370, 369], [330, 331, 371, 370], [331, 332, 372, 371], [332, 333, 373, 372], [333, 334, 374, 373], [334, 335, 375, 374], [335, 336, 376, 375], [336, 337, 377, 376], [337, 338, 378, 377], [338, 339, 379, 378], [339, 340, 380, 379], [340, 341, 381, 380], [341, 342, 382, 381], [342, 343, 383, 382], [343, 344, 384, 383], [344, 345, 385, 384], [345, 346, 386, 385], [346, 347, 387, 386], [347, 348, 388, 387], [348, 349, 389, 388], [349, 350, 390, 389], [350, 351, 391, 390], [351, 352, 392, 391], [352, 353, 393, 392], [353, 354, 394, 393], [354, 355, 395, 394], [355, 356, 396, 395], [356, 357, 397, 396], [357, 358, 398, 397], [358, 359, 399, 398], [361, 360, 400, 401], [360, 362, 402, 400], [362, 363, 403, 402], [363, 364, 404, 403], [364, 365, 405, 404], [365, 366, 406, 405], [366, 367, 407, 406], [367, 368, 408, 407], [368, 369, 409, 408], [369, 370, 410, 409], [370, 371, 411, 410], [371, 372, 412, 411], [372, 373, 413, 412], [373, 374, 414, 413], [374, 375, 415, 414], [375, 376, 416, 415], [376, 377, 417, 416], [377, 378, 418, 417], [378, 379, 419, 418], [379, 380, 420, 419], [380, 381, 421, 420], [381, 382, 422, 421], [382, 383, 423, 422], [383, 384, 424, 423], [384, 385, 425, 424], [385, 386, 426, 425], [386, 387, 427, 426], [387, 388, 428, 427], [388, 389, 429, 428], [389, 390, 430, 429], [390, 391, 431, 430], [391, 392, 432, 431], [392, 393, 433, 432], [393, 394, 434, 433], [394, 395, 435, 434], [395, 396, 436, 435], [396, 397, 437, 436], [397, 398, 438, 437], [398, 399, 439, 438], [401, 400, 440, 441], [400, 402, 442, 440], [402, 403, 443, 442], [403, 404, 444, 443], [404, 405, 445, 444], [405, 406, 446, 445], [406, 407, 447, 446], [407, 408, 448, 447], [408, 409, 449, 448], [409, 410, 450, 449], [410, 411, 451, 450], [411, 412, 452, 451], [412, 413, 453, 452], [413, 414, 454, 453], [414, 415, 455, 454], [415, 416, 456, 455], [416, 417, 457, 456], [417, 418, 458, 457], [418, 419, 459, 458], [419, 420, 460, 459], [420, 421, 461, 460], [421, 422, 462, 461], [422, 423, 463, 462], [423, 424, 464, 463], [424, 425, 465, 464], [425, 426, 466, 465], [426, 427, 467, 466], [427, 428, 468, 467], [428, 429, 469, 468], [429, 430, 470, 469], [430, 431, 471, 470], [431, 432, 472, 471], [432, 433, 473, 472], [433, 434, 474, 473], [434, 435, 475, 474], [435, 436, 476, 475], [436, 437, 477, 476], [437, 438, 478, 477], [438, 439, 479, 478], [441, 440, 480, 481], [440, 442, 482, 480], [442, 443, 483, 482], [443, 444, 484, 483], [444, 445, 485, 484], [445, 446, 486, 485], [446, 447, 487, 486], [447, 448, 488, 487], [448, 449, 489, 488], [449, 450, 490, 489], [450, 451, 491, 490], [451, 452, 492, 491], [452, 453, 493, 492], [453, 454, 494, 493], [454, 455, 495, 494], [455, 456, 496, 495], [456, 457, 497, 496], [457, 458, 498, 497], [458, 459, 499, 498], [459, 460, 500, 499], [460, 461, 501, 500], [461, 462, 502, 501], [462, 463, 503, 502], [463, 464, 504, 503], [464, 465, 505, 504], [465, 466, 506, 505], [466, 467, 507, 506], [467, 468, 508, 507], [468, 469, 509, 508], [469, 470, 510, 509], [470, 471, 511, 510], [471, 472, 512, 511], [472, 473, 513, 512], [473, 474, 514, 513], [474, 475, 515, 514], [475, 476, 516, 515], [476, 477, 517, 516], [477, 478, 518, 517], [478, 479, 519, 518], [481, 480, 520, 521], [480, 482, 522, 520], [482, 483, 523, 522], [483, 484, 524, 523], [484, 485, 525, 524], [485, 486, 526, 525], [486, 487, 527, 526], [487, 488, 528, 527], [488, 489, 529, 528], [489, 490, 530, 529], [490, 491, 531, 530], [491, 492, 532, 531], [492, 493, 533, 532], [493, 494, 534, 533], [494, 495, 535, 534], [495, 496, 536, 535], [496, 497, 537, 536], [497, 498, 538, 537], [498, 499, 539, 538], [499, 500, 540, 539], [500, 501, 541, 540], [501, 502, 542, 541], [502, 503, 543, 542], [503, 504, 544, 543], [504, 505, 545, 544], [505, 506, 546, 545], [506, 507, 547, 546], [507, 508, 548, 547], [508, 509, 549, 548], [509, 510, 550, 549], [510, 511, 551, 550], [511, 512, 552, 551], [512, 513, 553, 552], [513, 514, 554, 553], [514, 515, 555, 554], [515, 516, 556, 555], [516, 517, 557, 556], [517, 518, 558, 557], [518, 519, 559, 558], [521, 520, 560, 561], [520, 522, 562, 560], [522, 523, 563, 562], [523, 524, 564, 563], [524, 525, 565, 564], [525, 526, 566, 565], [526, 527, 567, 566], [527, 528, 568, 567], [528, 529, 569, 568], [529, 530, 570, 569], [530, 531, 571, 570], [531, 532, 572, 571], [532, 533, 573, 572], [533, 534, 574, 573], [534, 535, 575, 574], [535, 536, 576, 575], [536, 537, 577, 576], [537, 538, 578, 577], [538, 539, 579, 578], [539, 540, 580, 579], [540, 541, 581, 580], [541, 542, 582, 581], [542, 543, 583, 582], [543, 544, 584, 583], [544, 545, 585, 584], [545, 546, 586, 585], [546, 547, 587, 586], [547, 548, 588, 587], [548, 549, 589, 588], [549, 550, 590, 589], [550, 551, 591, 590], [551, 552, 592, 591], [552, 553, 593, 592], [553, 554, 594, 593], [554, 555, 595, 594], [555, 556, 596, 595], [556, 557, 597, 596], [557, 558, 598, 597], [558, 559, 599, 598], [561, 560, 600, 601], [560, 562, 602, 600], [562, 563, 603, 602], [563, 564, 604, 603], [564, 565, 605, 604], [565, 566, 606, 605], [566, 567, 607, 606], [567, 568, 608, 607], [568, 569, 609, 608], [569, 570, 610, 609], [570, 571, 611, 610], [571, 572, 612, 611], [572, 573, 613, 612], [573, 574, 614, 613], [574, 575, 615, 614], [575, 576, 616, 615], [576, 577, 617, 616], [577, 578, 618, 617], [578, 579, 619, 618], [579, 580, 620, 619], [580, 581, 621, 620], [581, 582, 622, 621], [582, 583, 623, 622], [583, 584, 624, 623], [584, 585, 625, 624], [585, 586, 626, 625], [586, 587, 627, 626], [587, 588, 628, 627], [588, 589, 629, 628], [589, 590, 630, 629], [590, 591, 631, 630], [591, 592, 632, 631], [592, 593, 633, 632], [593, 594, 634, 633], [594, 595, 635, 634], [595, 596, 636, 635], [596, 597, 637, 636], [597, 598, 638, 637], [598, 599, 639, 638], [601, 600, 640, 641], [600, 602, 642, 640], [602, 603, 643, 642], [603, 604, 644, 643], [604, 605, 645, 644], [605, 606, 646, 645], [606, 607, 647, 646], [607, 608, 648, 647], [608, 609, 649, 648], [609, 610, 650, 649], [610, 611, 651, 650], [611, 612, 652, 651], [612, 613, 653, 652], [613, 614, 654, 653], [614, 615, 655, 654], [615, 616, 656, 655], [616, 617, 657, 656], [617, 618, 658, 657], [618, 619, 659, 658], [619, 620, 660, 659], [620, 621, 661, 660], [621, 622, 662, 661], [622, 623, 663, 662], [623, 624, 664, 663], [624, 625, 665, 664], [625, 626, 666, 665], [626, 627, 667, 666], [627, 628, 668, 667], [628, 629, 669, 668], [629, 630, 670, 669], [630, 631, 671, 670], [631, 632, 672, 671], [632, 633, 673, 672], [633, 634, 674, 673], [634, 635, 675, 674], [635, 636, 676, 675], [636, 637, 677, 676], [637, 638, 678, 677], [638, 639, 679, 678], [641, 640, 680, 681], [640, 642, 682, 680], [642, 643, 683, 682], [643, 644, 684, 683], [644, 645, 685, 684], [645, 646, 686, 685], [646, 647, 687, 686], [647, 648, 688, 687], [648, 649, 689, 688], [649, 650, 690, 689], [650, 651, 691, 690], [651, 652, 692, 691], [652, 653, 693, 692], [653, 654, 694, 693], [654, 655, 695, 694], [655, 656, 696, 695], [656, 657, 697, 696], [657, 658, 698, 697], [658, 659, 699, 698], [659, 660, 700, 699], [660, 661, 701, 700], [661, 662, 702, 701], [662, 663, 703, 702], [663, 664, 704, 703], [664, 665, 705, 704], [665, 666, 706, 705], [666, 667, 707, 706], [667, 668, 708, 707], [668, 669, 709, 708], [669, 670, 710, 709], [670, 671, 711, 710], [671, 672, 712, 711], [672, 673, 713, 712], [673, 674, 714, 713], [674, 675, 715, 714], [675, 676, 716, 715], [676, 677, 717, 716], [677, 678, 718, 717], [678, 679, 719, 718], [681, 680, 720, 721], [680, 682, 722, 720], [682, 683, 723, 722], [683, 684, 724, 723], [684, 685, 725, 724], [685, 686, 726, 725], [686, 687, 727, 726], [687, 688, 728, 727], [688, 689, 729, 728], [689, 690, 730, 729], [690, 691, 731, 730], [691, 692, 732, 731], [692, 693, 733, 732], [693, 694, 734, 733], [694, 695, 735, 734], [695, 696, 736, 735], [696, 697, 737, 736], [697, 698, 738, 737], [698, 699, 739, 738], [699, 700, 740, 739], [700, 701, 741, 740], [701, 702, 742, 741], [702, 703, 743, 742], [703, 704, 744, 743], [704, 705, 745, 744], [705, 706, 746, 745], [706, 707, 747, 746], [707, 708, 748, 747], [708, 709, 749, 748], [709, 710, 750, 749], [710, 711, 751, 750], [711, 712, 752, 751], [712, 713, 753, 752], [713, 714, 754, 753], [714, 715, 755, 754], [715, 716, 756, 755], [716, 717, 757, 756], [717, 718, 758, 757], [718, 719, 759, 758], [721, 720, 760, 761], [720, 722, 762, 760], [722, 723, 763, 762], [723, 724, 764, 763], [724, 725, 765, 764], [725, 726, 766, 765], [726, 727, 767, 766], [727, 728, 768, 767], [728, 729, 769, 768], [729, 730, 770, 769], [730, 731, 771, 770], [731, 732, 772, 771], [732, 733, 773, 772], [733, 734, 774, 773], [734, 735, 775, 774], [735, 736, 776, 775], [736, 737, 777, 776], [737, 738, 778, 777], [738, 739, 779, 778], [739, 740, 780, 779], [740, 741, 781, 780], [741, 742, 782, 781], [742, 743, 783, 782], [743, 744, 784, 783], [744, 745, 785, 784], [745, 746, 786, 785], [746, 747, 787, 786], [747, 748, 788, 787], [748, 749, 789, 788], [749, 750, 790, 789], [750, 751, 791, 790], [751, 752, 792, 791], [752, 753, 793, 792], [753, 754, 794, 793], [754, 755, 795, 794], [755, 756, 796, 795], [756, 757, 797, 796], [757, 758, 798, 797], [758, 759, 799, 798], [761, 760, 800, 801], [760, 762, 802, 800], [762, 763, 803, 802], [763, 764, 804, 803], [764, 765, 805, 804], [765, 766, 806, 805], [766, 767, 807, 806], [767, 768, 808, 807], [768, 769, 809, 808], [769, 770, 810, 809], [770, 771, 811, 810], [771, 772, 812, 811], [772, 773, 813, 812], [773, 774, 814, 813], [774, 775, 815, 814], [775, 776, 816, 815], [776, 777, 817, 816], [777, 778, 818, 817], [778, 779, 819, 818], [779, 780, 820, 819], [780, 781, 821, 820], [781, 782, 822, 821], [782, 783, 823, 822], [783, 784, 824, 823], [784, 785, 825, 824], [785, 786, 826, 825], [786, 787, 827, 826], [787, 788, 828, 827], [788, 789, 829, 828], [789, 790, 830, 829], [790, 791, 831, 830], [791, 792, 832, 831], [792, 793, 833, 832], [793, 794, 834, 833], [794, 795, 835, 834], [795, 796, 836, 835], [796, 797, 837, 836], [797, 798, 838, 837], [798, 799, 839, 838], [801, 800, 840, 841], [800, 802, 842, 840], [802, 803, 843, 842], [803, 804, 844, 843], [804, 805, 845, 844], [805, 806, 846, 845], [806, 807, 847, 846], [807, 808, 848, 847], [808, 809, 849, 848], [809, 810, 850, 849], [810, 811, 851, 850], [811, 812, 852, 851], [812, 813, 853, 852], [813, 814, 854, 853], [814, 815, 855, 854], [815, 816, 856, 855], [816, 817, 857, 856], [817, 818, 858, 857], [818, 819, 859, 858], [819, 820, 860, 859], [820, 821, 861, 860], [821, 822, 862, 861], [822, 823, 863, 862], [823, 824, 864, 863], [824, 825, 865, 864], [825, 826, 866, 865], [826, 827, 867, 866], [827, 828, 868, 867], [828, 829, 869, 868], [829, 830, 870, 869], [830, 831, 871, 870], [831, 832, 872, 871], [832, 833, 873, 872], [833, 834, 874, 873], [834, 835, 875, 874], [835, 836, 876, 875], [836, 837, 877, 876], [837, 838, 878, 877], [838, 839, 879, 878], [841, 840, 880, 881], [840, 842, 882, 880], [842, 843, 883, 882], [843, 844, 884, 883], [844, 845, 885, 884], [845, 846, 886, 885], [846, 847, 887, 886], [847, 848, 888, 887], [848, 849, 889, 888], [849, 850, 890, 889], [850, 851, 891, 890], [851, 852, 892, 891], [852, 853, 893, 892], [853, 854, 894, 893], [854, 855, 895, 894], [855, 856, 896, 895], [856, 857, 897, 896], [857, 858, 898, 897], [858, 859, 899, 898], [859, 860, 900, 899], [860, 861, 901, 900], [861, 862, 902, 901], [862, 863, 903, 902], [863, 864, 904, 903], [864, 865, 905, 904], [865, 866, 906, 905], [866, 867, 907, 906], [867, 868, 908, 907], [868, 869, 909, 908], [869, 870, 910, 909], [870, 871, 911, 910], [871, 872, 912, 911], [872, 873, 913, 912], [873, 874, 914, 913], [874, 875, 915, 914], [875, 876, 916, 915], [876, 877, 917, 916], [877, 878, 918, 917], [878, 879, 919, 918], [881, 880, 920, 921], [880, 882, 922, 920], [882, 883, 923, 922], [883, 884, 924, 923], [884, 885, 925, 924], [885, 886, 926, 925], [886, 887, 927, 926], [887, 888, 928, 927], [888, 889, 929, 928], [889, 890, 930, 929], [890, 891, 931, 930], [891, 892, 932, 931], [892, 893, 933, 932], [893, 894, 934, 933], [894, 895, 935, 934], [895, 896, 936, 935], [896, 897, 937, 936], [897, 898, 938, 937], [898, 899, 939, 938], [899, 900, 940, 939], [900, 901, 941, 940], [901, 902, 942, 941], [902, 903, 943, 942], [903, 904, 944, 943], [904, 905, 945, 944], [905, 906, 946, 945], [906, 907, 947, 946], [907, 908, 948, 947], [908, 909, 949, 948], [909, 910, 950, 949], [910, 911, 951, 950], [911, 912, 952, 951], [912, 913, 953, 952], [913, 914, 954, 953], [914, 915, 955, 954], [915, 916, 956, 955], [916, 917, 957, 956], [917, 918, 958, 957], [918, 919, 959, 958], [921, 920, 960, 961], [920, 922, 962, 960], [922, 923, 963, 962], [923, 924, 964, 963], [924, 925, 965, 964], [925, 926, 966, 965], [926, 927, 967, 966], [927, 928, 968, 967], [928, 929, 969, 968], [929, 930, 970, 969], [930, 931, 971, 970], [931, 932, 972, 971], [932, 933, 973, 972], [933, 934, 974, 973], [934, 935, 975, 974], [935, 936, 976, 975], [936, 937, 977, 976], [937, 938, 978, 977], [938, 939, 979, 978], [939, 940, 980, 979], [940, 941, 981, 980], [941, 942, 982, 981], [942, 943, 983, 982], [943, 944, 984, 983], [944, 945, 985, 984], [945, 946, 986, 985], [946, 947, 987, 986], [947, 948, 988, 987], [948, 949, 989, 988], [949, 950, 990, 989], [950, 951, 991, 990], [951, 952, 992, 991], [952, 953, 993, 992], [953, 954, 994, 993], [954, 955, 995, 994], [955, 956, 996, 995], [956, 957, 997, 996], [957, 958, 998, 997], [958, 959, 999, 998], [961, 960, 1000, 1001], [960, 962, 1002, 1000], [962, 963, 1003, 1002], [963, 964, 1004, 1003], [964, 965, 1005, 1004], [965, 966, 1006, 1005], [966, 967, 1007, 1006], [967, 968, 1008, 1007], [968, 969, 1009, 1008], [969, 970, 1010, 1009], [970, 971, 1011, 1010], [971, 972, 1012, 1011], [972, 973, 1013, 1012], [973, 974, 1014, 1013], [974, 975, 1015, 1014], [975, 976, 1016, 1015], [976, 977, 1017, 1016], [977, 978, 1018, 1017], [978, 979, 1019, 1018], [979, 980, 1020, 1019], [980, 981, 1021, 1020], [981, 982, 1022, 1021], [982, 983, 1023, 1022], [983, 984, 1024, 1023], [984, 985, 1025, 1024], [985, 986, 1026, 1025], [986, 987, 1027, 1026], [987, 988, 1028, 1027], [988, 989, 1029, 1028], [989, 990, 1030, 1029], [990, 991, 1031, 1030], [991, 992, 1032, 1031], [992, 993, 1033, 1032], [993, 994, 1034, 1033], [994, 995, 1035, 1034], [995, 996, 1036, 1035], [996, 997, 1037, 1036], [997, 998, 1038, 1037], [998, 999, 1039, 1038], [1001, 1000, 1040, 1041], [1000, 1002, 1042, 1040], [1002, 1003, 1043, 1042], [1003, 1004, 1044, 1043], [1004, 1005, 1045, 1044], [1005, 1006, 1046, 1045], [1006, 1007, 1047, 1046], [1007, 1008, 1048, 1047], [1008, 1009, 1049, 1048], [1009, 1010, 1050, 1049], [1010, 1011, 1051, 1050], [1011, 1012, 1052, 1051], [1012, 1013, 1053, 1052], [1013, 1014, 1054, 1053], [1014, 1015, 1055, 1054], [1015, 1016, 1056, 1055], [1016, 1017, 1057, 1056], [1017, 1018, 1058, 1057], [1018, 1019, 1059, 1058], [1019, 1020, 1060, 1059], [1020, 1021, 1061, 1060], [1021, 1022, 1062, 1061], [1022, 1023, 1063, 1062], [1023, 1024, 1064, 1063], [1024, 1025, 1065, 1064], [1025, 1026, 1066, 1065], [1026, 1027, 1067, 1066], [1027, 1028, 1068, 1067], [1028, 1029, 1069, 1068], [1029, 1030, 1070, 1069], [1030, 1031, 1071, 1070], [1031, 1032, 1072, 1071], [1032, 1033, 1073, 1072], [1033, 1034, 1074, 1073], [1034, 1035, 1075, 1074], [1035, 1036, 1076, 1075], [1036, 1037, 1077, 1076], [1037, 1038, 1078, 1077], [1038, 1039, 1079, 1078], [1041, 1040, 1080, 1081], [1040, 1042, 1082, 1080], [1042, 1043, 1083, 1082], [1043, 1044, 1084, 1083], [1044, 1045, 1085, 1084], [1045, 1046, 1086, 1085], [1046, 1047, 1087, 1086], [1047, 1048, 1088, 1087], [1048, 1049, 1089, 1088], [1049, 1050, 1090, 1089], [1050, 1051, 1091, 1090], [1051, 1052, 1092, 1091], [1052, 1053, 1093, 1092], [1053, 1054, 1094, 1093], [1054, 1055, 1095, 1094], [1055, 1056, 1096, 1095], [1056, 1057, 1097, 1096], [1057, 1058, 1098, 1097], [1058, 1059, 1099, 1098], [1059, 1060, 1100, 1099], [1060, 1061, 1101, 1100], [1061, 1062, 1102, 1101], [1062, 1063, 1103, 1102], [1063, 1064, 1104, 1103], [1064, 1065, 1105, 1104], [1065, 1066, 1106, 1105], [1066, 1067, 1107, 1106], [1067, 1068, 1108, 1107], [1068, 1069, 1109, 1108], [1069, 1070, 1110, 1109], [1070, 1071, 1111, 1110], [1071, 1072, 1112, 1111], [1072, 1073, 1113, 1112], [1073, 1074, 1114, 1113], [1074, 1075, 1115, 1114], [1075, 1076, 1116, 1115], [1076, 1077, 1117, 1116], [1077, 1078, 1118, 1117], [1078, 1079, 1119, 1118], [1081, 1080, 1120, 1121], [1080, 1082, 1122, 1120], [1082, 1083, 1123, 1122], [1083, 1084, 1124, 1123], [1084, 1085, 1125, 1124], [1085, 1086, 1126, 1125], [1086, 1087, 1127, 1126], [1087, 1088, 1128, 1127], [1088, 1089, 1129, 1128], [1089, 1090, 1130, 1129], [1090, 1091, 1131, 1130], [1091, 1092, 1132, 1131], [1092, 1093, 1133, 1132], [1093, 1094, 1134, 1133], [1094, 1095, 1135, 1134], [1095, 1096, 1136, 1135], [1096, 1097, 1137, 1136], [1097, 1098, 1138, 1137], [1098, 1099, 1139, 1138], [1099, 1100, 1140, 1139], [1100, 1101, 1141, 1140], [1101, 1102, 1142, 1141], [1102, 1103, 1143, 1142], [1103, 1104, 1144, 1143], [1104, 1105, 1145, 1144], [1105, 1106, 1146, 1145], [1106, 1107, 1147, 1146], [1107, 1108, 1148, 1147], [1108, 1109, 1149, 1148], [1109, 1110, 1150, 1149], [1110, 1111, 1151, 1150], [1111, 1112, 1152, 1151], [1112, 1113, 1153, 1152], [1113, 1114, 1154, 1153], [1114, 1115, 1155, 1154], [1115, 1116, 1156, 1155], [1116, 1117, 1157, 1156], [1117, 1118, 1158, 1157], [1118, 1119, 1159, 1158], [1121, 1120, 1160, 1161], [1120, 1122, 1162, 1160], [1122, 1123, 1163, 1162], [1123, 1124, 1164, 1163], [1124, 1125, 1165, 1164], [1125, 1126, 1166, 1165], [1126, 1127, 1167, 1166], [1127, 1128, 1168, 1167], [1128, 1129, 1169, 1168], [1129, 1130, 1170, 1169], [1130, 1131, 1171, 1170], [1131, 1132, 1172, 1171], [1132, 1133, 1173, 1172], [1133, 1134, 1174, 1173], [1134, 1135, 1175, 1174], [1135, 1136, 1176, 1175], [1136, 1137, 1177, 1176], [1137, 1138, 1178, 1177], [1138, 1139, 1179, 1178], [1139, 1140, 1180, 1179], [1140, 1141, 1181, 1180], [1141, 1142, 1182, 1181], [1142, 1143, 1183, 1182], [1143, 1144, 1184, 1183], [1144, 1145, 1185, 1184], [1145, 1146, 1186, 1185], [1146, 1147, 1187, 1186], [1147, 1148, 1188, 1187], [1148, 1149, 1189, 1188], [1149, 1150, 1190, 1189], [1150, 1151, 1191, 1190], [1151, 1152, 1192, 1191], [1152, 1153, 1193, 1192], [1153, 1154, 1194, 1193], [1154, 1155, 1195, 1194], [1155, 1156, 1196, 1195], [1156, 1157, 1197, 1196], [1157, 1158, 1198, 1197], [1158, 1159, 1199, 1198], [1161, 1160, 1200, 1201], [1160, 1162, 1202, 1200], [1162, 1163, 1203, 1202], [1163, 1164, 1204, 1203], [1164, 1165, 1205, 1204], [1165, 1166, 1206, 1205], [1166, 1167, 1207, 1206], [1167, 1168, 1208, 1207], [1168, 1169, 1209, 1208], [1169, 1170, 1210, 1209], [1170, 1171, 1211, 1210], [1171, 1172, 1212, 1211], [1172, 1173, 1213, 1212], [1173, 1174, 1214, 1213], [1174, 1175, 1215, 1214], [1175, 1176, 1216, 1215], [1176, 1177, 1217, 1216], [1177, 1178, 1218, 1217], [1178, 1179, 1219, 1218], [1179, 1180, 1220, 1219], [1180, 1181, 1221, 1220], [1181, 1182, 1222, 1221], [1182, 1183, 1223, 1222], [1183, 1184, 1224, 1223], [1184, 1185, 1225, 1224], [1185, 1186, 1226, 1225], [1186, 1187, 1227, 1226], [1187, 1188, 1228, 1227], [1188, 1189, 1229, 1228], [1189, 1190, 1230, 1229], [1190, 1191, 1231, 1230], [1191, 1192, 1232, 1231], [1192, 1193, 1233, 1232], [1193, 1194, 1234, 1233], [1194, 1195, 1235, 1234], [1195, 1196, 1236, 1235], [1196, 1197, 1237, 1236], [1197, 1198, 1238, 1237], [1198, 1199, 1239, 1238], [1201, 1200, 1240, 1241], [1200, 1202, 1242, 1240], [1202, 1203, 1243, 1242], [1203, 1204, 1244, 1243], [1204, 1205, 1245, 1244], [1205, 1206, 1246, 1245], [1206, 1207, 1247, 1246], [1207, 1208, 1248, 1247], [1208, 1209, 1249, 1248], [1209, 1210, 1250, 1249], [1210, 1211, 1251, 1250], [1211, 1212, 1252, 1251], [1212, 1213, 1253, 1252], [1213, 1214, 1254, 1253], [1214, 1215, 1255, 1254], [1215, 1216, 1256, 1255], [1216, 1217, 1257, 1256], [1217, 1218, 1258, 1257], [1218, 1219, 1259, 1258], [1219, 1220, 1260, 1259], [1220, 1221, 1261, 1260], [1221, 1222, 1262, 1261], [1222, 1223, 1263, 1262], [1223, 1224, 1264, 1263], [1224, 1225, 1265, 1264], [1225, 1226, 1266, 1265], [1226, 1227, 1267, 1266], [1227, 1228, 1268, 1267], [1228, 1229, 1269, 1268], [1229, 1230, 1270, 1269], [1230, 1231, 1271, 1270], [1231, 1232, 1272, 1271], [1232, 1233, 1273, 1272], [1233, 1234, 1274, 1273], [1234, 1235, 1275, 1274], [1235, 1236, 1276, 1275], [1236, 1237, 1277, 1276], [1237, 1238, 1278, 1277], [1238, 1239, 1279, 1278], [1241, 1240, 1280, 1281], [1240, 1242, 1282, 1280], [1242, 1243, 1283, 1282], [1243, 1244, 1284, 1283], [1244, 1245, 1285, 1284], [1245, 1246, 1286, 1285], [1246, 1247, 1287, 1286], [1247, 1248, 1288, 1287], [1248, 1249, 1289, 1288], [1249, 1250, 1290, 1289], [1250, 1251, 1291, 1290], [1251, 1252, 1292, 1291], [1252, 1253, 1293, 1292], [1253, 1254, 1294, 1293], [1254, 1255, 1295, 1294], [1255, 1256, 1296, 1295], [1256, 1257, 1297, 1296], [1257, 1258, 1298, 1297], [1258, 1259, 1299, 1298], [1259, 1260, 1300, 1299], [1260, 1261, 1301, 1300], [1261, 1262, 1302, 1301], [1262, 1263, 1303, 1302], [1263, 1264, 1304, 1303], [1264, 1265, 1305, 1304], [1265, 1266, 1306, 1305], [1266, 1267, 1307, 1306], [1267, 1268, 1308, 1307], [1268, 1269, 1309, 1308], [1269, 1270, 1310, 1309], [1270, 1271, 1311, 1310], [1271, 1272, 1312, 1311], [1272, 1273, 1313, 1312], [1273, 1274, 1314, 1313], [1274, 1275, 1315, 1314], [1275, 1276, 1316, 1315], [1276, 1277, 1317, 1316], [1277, 1278, 1318, 1317], [1278, 1279, 1319, 1318], [1281, 1280, 1320, 1321], [1280, 1282, 1322, 1320], [1282, 1283, 1323, 1322], [1283, 1284, 1324, 1323], [1284, 1285, 1325, 1324], [1285, 1286, 1326, 1325], [1286, 1287, 1327, 1326], [1287, 1288, 1328, 1327], [1288, 1289, 1329, 1328], [1289, 1290, 1330, 1329], [1290, 1291, 1331, 1330], [1291, 1292, 1332, 1331], [1292, 1293, 1333, 1332], [1293, 1294, 1334, 1333], [1294, 1295, 1335, 1334], [1295, 1296, 1336, 1335], [1296, 1297, 1337, 1336], [1297, 1298, 1338, 1337], [1298, 1299, 1339, 1338], [1299, 1300, 1340, 1339], [1300, 1301, 1341, 1340], [1301, 1302, 1342, 1341], [1302, 1303, 1343, 1342], [1303, 1304, 1344, 1343], [1304, 1305, 1345, 1344], [1305, 1306, 1346, 1345], [1306, 1307, 1347, 1346], [1307, 1308, 1348, 1347], [1308, 1309, 1349, 1348], [1309, 1310, 1350, 1349], [1310, 1311, 1351, 1350], [1311, 1312, 1352, 1351], [1312, 1313, 1353, 1352], [1313, 1314, 1354, 1353], [1314, 1315, 1355, 1354], [1315, 1316, 1356, 1355], [1316, 1317, 1357, 1356], [1317, 1318, 1358, 1357], [1318, 1319, 1359, 1358], [1321, 1320, 1360, 1361], [1320, 1322, 1362, 1360], [1322, 1323, 1363, 1362], [1323, 1324, 1364, 1363], [1324, 1325, 1365, 1364], [1325, 1326, 1366, 1365], [1326, 1327, 1367, 1366], [1327, 1328, 1368, 1367], [1328, 1329, 1369, 1368], [1329, 1330, 1370, 1369], [1330, 1331, 1371, 1370], [1331, 1332, 1372, 1371], [1332, 1333, 1373, 1372], [1333, 1334, 1374, 1373], [1334, 1335, 1375, 1374], [1335, 1336, 1376, 1375], [1336, 1337, 1377, 1376], [1337, 1338, 1378, 1377], [1338, 1339, 1379, 1378], [1339, 1340, 1380, 1379], [1340, 1341, 1381, 1380], [1341, 1342, 1382, 1381], [1342, 1343, 1383, 1382], [1343, 1344, 1384, 1383], [1344, 1345, 1385, 1384], [1345, 1346, 1386, 1385], [1346, 1347, 1387, 1386], [1347, 1348, 1388, 1387], [1348, 1349, 1389, 1388], [1349, 1350, 1390, 1389], [1350, 1351, 1391, 1390], [1351, 1352, 1392, 1391], [1352, 1353, 1393, 1392], [1353, 1354, 1394, 1393], [1354, 1355, 1395, 1394], [1355, 1356, 1396, 1395], [1356, 1357, 1397, 1396], [1357, 1358, 1398, 1397], [1358, 1359, 1399, 1398], [1361, 1360, 1400, 1401], [1360, 1362, 1402, 1400], [1362, 1363, 1403, 1402], [1363, 1364, 1404, 1403], [1364, 1365, 1405, 1404], [1365, 1366, 1406, 1405], [1366, 1367, 1407, 1406], [1367, 1368, 1408, 1407], [1368, 1369, 1409, 1408], [1369, 1370, 1410, 1409], [1370, 1371, 1411, 1410], [1371, 1372, 1412, 1411], [1372, 1373, 1413, 1412], [1373, 1374, 1414, 1413], [1374, 1375, 1415, 1414], [1375, 1376, 1416, 1415], [1376, 1377, 1417, 1416], [1377, 1378, 1418, 1417], [1378, 1379, 1419, 1418], [1379, 1380, 1420, 1419], [1380, 1381, 1421, 1420], [1381, 1382, 1422, 1421], [1382, 1383, 1423, 1422], [1383, 1384, 1424, 1423], [1384, 1385, 1425, 1424], [1385, 1386, 1426, 1425], [1386, 1387, 1427, 1426], [1387, 1388, 1428, 1427], [1388, 1389, 1429, 1428], [1389, 1390, 1430, 1429], [1390, 1391, 1431, 1430], [1391, 1392, 1432, 1431], [1392, 1393, 1433, 1432], [1393, 1394, 1434, 1433], [1394, 1395, 1435, 1434], [1395, 1396, 1436, 1435], [1396, 1397, 1437, 1436], [1397, 1398, 1438, 1437], [1398, 1399, 1439, 1438], [1401, 1400, 1440, 1441], [1400, 1402, 1442, 1440], [1402, 1403, 1443, 1442], [1403, 1404, 1444, 1443], [1404, 1405, 1445, 1444], [1405, 1406, 1446, 1445], [1406, 1407, 1447, 1446], [1407, 1408, 1448, 1447], [1408, 1409, 1449, 1448], [1409, 1410, 1450, 1449], [1410, 1411, 1451, 1450], [1411, 1412, 1452, 1451], [1412, 1413, 1453, 1452], [1413, 1414, 1454, 1453], [1414, 1415, 1455, 1454], [1415, 1416, 1456, 1455], [1416, 1417, 1457, 1456], [1417, 1418, 1458, 1457], [1418, 1419, 1459, 1458], [1419, 1420, 1460, 1459], [1420, 1421, 1461, 1460], [1421, 1422, 1462, 1461], [1422, 1423, 1463, 1462], [1423, 1424, 1464, 1463], [1424, 1425, 1465, 1464], [1425, 1426, 1466, 1465], [1426, 1427, 1467, 1466], [1427, 1428, 1468, 1467], [1428, 1429, 1469, 1468], [1429, 1430, 1470, 1469], [1430, 1431, 1471, 1470], [1431, 1432, 1472, 1471], [1432, 1433, 1473, 1472], [1433, 1434, 1474, 1473], [1434, 1435, 1475, 1474], [1435, 1436, 1476, 1475], [1436, 1437, 1477, 1476], [1437, 1438, 1478, 1477], [1438, 1439, 1479, 1478], [1441, 1440, 1480, 1481], [1440, 1442, 1482, 1480], [1442, 1443, 1483, 1482], [1443, 1444, 1484, 1483], [1444, 1445, 1485, 1484], [1445, 1446, 1486, 1485], [1446, 1447, 1487, 1486], [1447, 1448, 1488, 1487], [1448, 1449, 1489, 1488], [1449, 1450, 1490, 1489], [1450, 1451, 1491, 1490], [1451, 1452, 1492, 1491], [1452, 1453, 1493, 1492], [1453, 1454, 1494, 1493], [1454, 1455, 1495, 1494], [1455, 1456, 1496, 1495], [1456, 1457, 1497, 1496], [1457, 1458, 1498, 1497], [1458, 1459, 1499, 1498], [1459, 1460, 1500, 1499], [1460, 1461, 1501, 1500], [1461, 1462, 1502, 1501], [1462, 1463, 1503, 1502], [1463, 1464, 1504, 1503], [1464, 1465, 1505, 1504], [1465, 1466, 1506, 1505], [1466, 1467, 1507, 1506], [1467, 1468, 1508, 1507], [1468, 1469, 1509, 1508], [1469, 1470, 1510, 1509], [1470, 1471, 1511, 1510], [1471, 1472, 1512, 1511], [1472, 1473, 1513, 1512], [1473, 1474, 1514, 1513], [1474, 1475, 1515, 1514], [1475, 1476, 1516, 1515], [1476, 1477, 1517, 1516], [1477, 1478, 1518, 1517], [1478, 1479, 1519, 1518], [1481, 1480, 1520, 1521], [1480, 1482, 1522, 1520], [1482, 1483, 1523, 1522], [1483, 1484, 1524, 1523], [1484, 1485, 1525, 1524], [1485, 1486, 1526, 1525], [1486, 1487, 1527, 1526], [1487, 1488, 1528, 1527], [1488, 1489, 1529, 1528], [1489, 1490, 1530, 1529], [1490, 1491, 1531, 1530], [1491, 1492, 1532, 1531], [1492, 1493, 1533, 1532], [1493, 1494, 1534, 1533], [1494, 1495, 1535, 1534], [1495, 1496, 1536, 1535], [1496, 1497, 1537, 1536], [1497, 1498, 1538, 1537], [1498, 1499, 1539, 1538], [1499, 1500, 1540, 1539], [1500, 1501, 1541, 1540], [1501, 1502, 1542, 1541], [1502, 1503, 1543, 1542], [1503, 1504, 1544, 1543], [1504, 1505, 1545, 1544], [1505, 1506, 1546, 1545], [1506, 1507, 1547, 1546], [1507, 1508, 1548, 1547], [1508, 1509, 1549, 1548], [1509, 1510, 1550, 1549], [1510, 1511, 1551, 1550], [1511, 1512, 1552, 1551], [1512, 1513, 1553, 1552], [1513, 1514, 1554, 1553], [1514, 1515, 1555, 1554], [1515, 1516, 1556, 1555], [1516, 1517, 1557, 1556], [1517, 1518, 1558, 1557], [1518, 1519, 1559, 1558], [1521, 1520, 1560, 1561], [1520, 1522, 1562, 1560], [1522, 1523, 1563, 1562], [1523, 1524, 1564, 1563], [1524, 1525, 1565, 1564], [1525, 1526, 1566, 1565], [1526, 1527, 1567, 1566], [1527, 1528, 1568, 1567], [1528, 1529, 1569, 1568], [1529, 1530, 1570, 1569], [1530, 1531, 1571, 1570], [1531, 1532, 1572, 1571], [1532, 1533, 1573, 1572], [1533, 1534, 1574, 1573], [1534, 1535, 1575, 1574], [1535, 1536, 1576, 1575], [1536, 1537, 1577, 1576], [1537, 1538, 1578, 1577], [1538, 1539, 1579, 1578], [1539, 1540, 1580, 1579], [1540, 1541, 1581, 1580], [1541, 1542, 1582, 1581], [1542, 1543, 1583, 1582], [1543, 1544, 1584, 1583], [1544, 1545, 1585, 1584], [1545, 1546, 1586, 1585], [1546, 1547, 1587, 1586], [1547, 1548, 1588, 1587], [1548, 1549, 1589, 1588], [1549, 1550, 1590, 1589], [1550, 1551, 1591, 1590], [1551, 1552, 1592, 1591], [1552, 1553, 1593, 1592], [1553, 1554, 1594, 1593], [1554, 1555, 1595, 1594], [1555, 1556, 1596, 1595], [1556, 1557, 1597, 1596], [1557, 1558, 1598, 1597], [1558, 1559, 1599, 1598]], &quot;color&quot;: &quot;#6666ff&quot;, &quot;opacity&quot;: 1.0}];\n",
       "    for ( var i=0 ; i &lt; surfaces.length ; i++ ) addSurface( surfaces[i] );\n",
       "\n",
       "    function addSurface( json ) {\n",
       "\n",
       "        var useFaceColors = &#x27;faceColors&#x27; in json ? true : false;\n",
       "\n",
       "        var geometry = new THREE.Geometry();\n",
       "        for ( var i=0 ; i &lt; json.vertices.length ; i++ ) {\n",
       "            var v = json.vertices[i];\n",
       "            geometry.vertices.push( new THREE.Vector3( a[0]*v.x, a[1]*v.y, a[2]*v.z ) );\n",
       "        }\n",
       "        for ( var i=0 ; i &lt; json.faces.length ; i++ ) {\n",
       "            var f = json.faces[i];\n",
       "            for ( var j=0 ; j &lt; f.length - 2 ; j++ ) {\n",
       "                var face = new THREE.Face3( f[0], f[j+1], f[j+2] );\n",
       "                if ( useFaceColors ) face.color.set( json.faceColors[i] );\n",
       "                geometry.faces.push( face );\n",
       "            }\n",
       "        }\n",
       "        geometry.computeVertexNormals();\n",
       "\n",
       "        var side = json.singleSide ? THREE.FrontSide : THREE.DoubleSide;\n",
       "        var transparent = json.opacity &lt; 1 ? true : false;\n",
       "        var depthWrite = &#x27;depthWrite&#x27; in json ? json.depthWrite : !transparent;\n",
       "        var flatShading = json.useFlatShading ? json.useFlatShading : false;\n",
       "\n",
       "        var material = new THREE.MeshPhongMaterial( { side: side,\n",
       "                                     color: useFaceColors ? &#x27;white&#x27; : json.color,\n",
       "                                     vertexColors: useFaceColors ? THREE.FaceColors : THREE.NoColors,\n",
       "                                     transparent: transparent, opacity: json.opacity,\n",
       "                                     shininess: 20, flatShading: flatShading,\n",
       "                                     depthWrite: depthWrite } );\n",
       "\n",
       "        var c = new THREE.Vector3();\n",
       "        geometry.computeBoundingBox();\n",
       "        geometry.boundingBox.getCenter( c );\n",
       "        geometry.translate( -c.x, -c.y, -c.z );\n",
       "\n",
       "        var mesh = new THREE.Mesh( geometry, material );\n",
       "        mesh.position.set( c.x, c.y, c.z );\n",
       "        if ( transparent &amp;&amp; json.renderOrder ) mesh.renderOrder = json.renderOrder;\n",
       "        mesh.userData = json;\n",
       "        scene.add( mesh );\n",
       "\n",
       "        if ( json.showMeshGrid ) addSurfaceMeshGrid( json );\n",
       "\n",
       "    }\n",
       "\n",
       "    function addSurfaceMeshGrid( json ) {\n",
       "\n",
       "        var geometry = new THREE.Geometry();\n",
       "\n",
       "        for ( var i=0 ; i &lt; json.faces.length ; i++ ) {\n",
       "            var f = json.faces[i];\n",
       "            for ( var j=0 ; j &lt; f.length ; j++ ) {\n",
       "                var k = j === f.length-1 ? 0 : j+1;\n",
       "                var v1 = json.vertices[f[j]];\n",
       "                var v2 = json.vertices[f[k]];\n",
       "                // vertices in opposite directions on neighboring faces\n",
       "                var nudge = f[j] &lt; f[k] ? .0005*zRange : -.0005*zRange;\n",
       "                geometry.vertices.push( new THREE.Vector3( a[0]*v1.x, a[1]*v1.y, a[2]*(v1.z+nudge) ) );\n",
       "                geometry.vertices.push( new THREE.Vector3( a[0]*v2.x, a[1]*v2.y, a[2]*(v2.z+nudge) ) );\n",
       "            }\n",
       "        }\n",
       "\n",
       "        var c = new THREE.Vector3();\n",
       "        geometry.computeBoundingBox();\n",
       "        geometry.boundingBox.getCenter( c );\n",
       "        geometry.translate( -c.x, -c.y, -c.z );\n",
       "\n",
       "        var gridColor = options.theme === &#x27;dark&#x27; ? &#x27;white&#x27; : &#x27;black&#x27;;\n",
       "        var linewidth = json.linewidth || 1;\n",
       "        var materialOptions = { color: gridColor, linewidth: linewidth };\n",
       "\n",
       "        var mesh;\n",
       "        if ( linewidth &gt; 1 &amp;&amp; window.createFatLineSegments ) {\n",
       "            mesh = createFatLineSegments( geometry, materialOptions );\n",
       "        } else {\n",
       "            var material = new THREE.LineBasicMaterial( materialOptions );\n",
       "            mesh = new THREE.LineSegments( geometry, material );\n",
       "        }\n",
       "\n",
       "        mesh.position.set( c.x, c.y, c.z );\n",
       "        mesh.userData = json;\n",
       "        scene.add( mesh );\n",
       "\n",
       "    }\n",
       "\n",
       "    function render() {\n",
       "\n",
       "        if ( window.updateAnimation ) animate = updateAnimation();\n",
       "        if ( animate ) requestAnimationFrame( render );\n",
       "\n",
       "        renderer.render( scene, camera );\n",
       "\n",
       "    }\n",
       "\n",
       "    render();\n",
       "    controls.update();\n",
       "    if ( !animate ) render();\n",
       "\n",
       "\n",
       "    // menu functions\n",
       "\n",
       "    function toggleMenu() {\n",
       "\n",
       "        var m = document.getElementById( &#x27;menu-content&#x27; );\n",
       "        if ( m.style.display === &#x27;block&#x27; ) m.style.display = &#x27;none&#x27;\n",
       "        else m.style.display = &#x27;block&#x27;;\n",
       "\n",
       "    }\n",
       "\n",
       "\n",
       "    function saveAsPNG() {\n",
       "\n",
       "        var a = document.body.appendChild( document.createElement( &#x27;a&#x27; ) );\n",
       "        a.href = renderer.domElement.toDataURL( &#x27;image/png&#x27; );\n",
       "        a.download = &#x27;screenshot&#x27;;\n",
       "        a.click();\n",
       "\n",
       "    }\n",
       "\n",
       "    function saveAsHTML() {\n",
       "\n",
       "        toggleMenu(); // otherwise visible in output\n",
       "        event.stopPropagation();\n",
       "\n",
       "        var blob = new Blob( [ &#x27;&lt;!DOCTYPE html&gt;\\n&#x27; + document.documentElement.outerHTML ] );\n",
       "        var a = document.body.appendChild( document.createElement( &#x27;a&#x27; ) );\n",
       "        a.href = window.URL.createObjectURL( blob );\n",
       "        a.download = suggestFilename();\n",
       "        a.click();\n",
       "\n",
       "        function suggestFilename() {\n",
       "            if ( !document.title ) {\n",
       "                return &#x27;graphic.html&#x27;;\n",
       "            } else if ( /\\.html?$/i.test( document.title ) ) {\n",
       "                return document.title; // already ends in .htm or .html\n",
       "            } else {\n",
       "                return document.title + &#x27;.html&#x27;;\n",
       "            }\n",
       "        }\n",
       "\n",
       "    }\n",
       "\n",
       "    function getViewpoint() {\n",
       "\n",
       "        function roundTo( x, n ) { return +x.toFixed(n); }\n",
       "\n",
       "        var v = camera.quaternion.inverse();\n",
       "        var r = Math.sqrt( v.x*v.x + v.y*v.y + v.z*v.z );\n",
       "        var axis = [ roundTo( v.x / r, 4 ), roundTo( v.y / r, 4 ), roundTo( v.z / r, 4 ) ];\n",
       "        var angle = roundTo( 2 * Math.atan2( r, v.w ) * 180 / Math.PI, 2 );\n",
       "\n",
       "        var textArea = document.createElement( &#x27;textarea&#x27; );\n",
       "        textArea.textContent = JSON.stringify( axis ) + &#x27;,&#x27; + angle;\n",
       "        textArea.style.csstext = &#x27;position: absolute; top: -100%&#x27;;\n",
       "        document.body.append( textArea );\n",
       "        textArea.select();\n",
       "        document.execCommand( &#x27;copy&#x27; );\n",
       "\n",
       "        var m = document.getElementById( &#x27;menu-message&#x27; );\n",
       "        m.innerHTML = &#x27;Viewpoint copied to clipboard&#x27;;\n",
       "        m.style.display = &#x27;block&#x27;;\n",
       "        setTimeout( function() { m.style.display = &#x27;none&#x27;; }, 2000 );\n",
       "\n",
       "    }\n",
       "\n",
       "    function getCamera() {\n",
       "\n",
       "        function roundTo( x, n ) { return +x.toFixed(n); }\n",
       "\n",
       "        var pos = camera.position;\n",
       "        var pos_r = [ roundTo( pos.x, 4 ), roundTo( pos.y, 4 ), roundTo( pos.z, 4 ) ];\n",
       "   //     var up = camera.up; // up is always (0,0,1)\n",
       "        var textArea = document.createElement(&#x27;textarea&#x27;);\n",
       "        var cam_position = JSON.stringify(pos_r);\n",
       "        textArea.textContent = &#x27;,camera_position=&#x27; + cam_position;\n",
       "        textArea.style.csstext = &#x27;position: absolute; top: -100%&#x27;;\n",
       "        document.body.append( textArea );\n",
       "        textArea.select();\n",
       "        document.execCommand( &#x27;copy&#x27; );\n",
       "\n",
       "        var m = document.getElementById( &#x27;menu-message&#x27; );\n",
       "        m.innerHTML = &#x27;Camera position &#x27;+ cam_position+&#x27; copied to clipboard&#x27;;\n",
       "        m.style.display = &#x27;block&#x27;;\n",
       "        setTimeout( function() { m.style.display = &#x27;none&#x27;; }, 2000 );\n",
       "\n",
       "    }\n",
       "\n",
       "&lt;/script&gt;\n",
       "\n",
       "&lt;div id=&quot;menu-container&quot; onclick=&quot;toggleMenu()&quot;&gt;&amp;#x24d8;\n",
       "&lt;div id=&quot;menu-message&quot;&gt;&lt;/div&gt;\n",
       "&lt;div id=&quot;menu-content&quot;&gt;\n",
       "&lt;div onclick=&quot;saveAsPNG()&quot;&gt;Save as PNG&lt;/div&gt;\n",
       "&lt;div onclick=&quot;saveAsHTML()&quot;&gt;Save as HTML&lt;/div&gt;\n",
       "&lt;div onclick=&quot;getCamera()&quot;&gt;Get camera&lt;/div&gt;\n",
       "&lt;div onclick=&quot;getViewpoint()&quot;&gt;Get viewpoint&lt;/div&gt;\n",
       "&lt;div&gt;Close Menu&lt;/div&gt;\n",
       "&lt;/div&gt;&lt;/div&gt;\n",
       "\n",
       "\n",
       "&lt;/body&gt;\n",
       "&lt;/html&gt;\n",
       "\"\n",
       "        width=\"100%\"\n",
       "        height=\"400\"\n",
       "        style=\"border: 0;\">\n",
       "</iframe>\n"
      ],
      "text/plain": [
       "Graphics3d Object"
      ]
     },
     "execution_count": 20,
     "metadata": {},
     "output_type": "execute_result"
    }
   ],
   "source": [
    "var('x y')\n",
    "plot3d(sin(x^2 + y^2), (x, -2, 2), (y, -2, 2))"
   ]
  },
  {
   "cell_type": "markdown",
   "id": "22c5000c-32a3-4922-9869-fbdc7f54cf7f",
   "metadata": {},
   "source": [
    "---\n",
    "## Ứng dụng trong Giải tích 2\n",
    "\n",
    "### Các câu lệnh thường dùng\n",
    "\n",
    "- `integrate(...)`: Tính tích phân một, hai, ba lớp.\n",
    "- `region_plot(...)`, `plot3d(...)`: Vẽ miền tích phân.\n",
    "- `var('x y z')`: Khai báo biến.\n",
    "- `diff(...)`: Đạo hàm riêng, gradient.\n"
   ]
  },
  {
   "cell_type": "markdown",
   "id": "be4038e6-0269-40c3-a3dc-e6c98c33bb8d",
   "metadata": {},
   "source": [
    "### Tích phân bội\n",
    "\n",
    "#### Tích phân kép\n",
    "Tính:\n",
    "$\n",
    "\\iint_D (x + y) \\, dx\\, dy, \\quad D: 0 \\le x \\le 1, 0 \\le y \\le x\n",
    "$\n"
   ]
  },
  {
   "cell_type": "code",
   "execution_count": 21,
   "id": "b02c9786-acc7-46d9-876d-7febe3a6226c",
   "metadata": {},
   "outputs": [
    {
     "data": {
      "image/png": "[encoded data removed]",
      "text/plain": [
       "Graphics object consisting of 1 graphics primitive"
      ]
     },
     "metadata": {},
     "output_type": "display_data"
    }
   ],
   "source": [
    "var('x y')\n",
    "integrate(integrate(x + y, y, 0, x), x, 0, 1)\n",
    "region_plot(lambda x, y: y <= x and y >= 0 and x <= 1, (x, 0, 1), (y, 0, 1), incol='lightblue').show()"
   ]
  },
  {
   "cell_type": "markdown",
   "id": "b5719050-15f6-4696-ae1b-e96f07b89f49",
   "metadata": {},
   "source": [
    "#### Tọa độ cực\n",
    "\n",
    "Tính:\n",
    "$\n",
    "\\iint_D (x^2 + y^2) \\, dx dy \\quad D: x^2 + y^2 \\le 1\n",
    "$\n"
   ]
  },
  {
   "cell_type": "code",
   "execution_count": 23,
   "id": "711bf167-218e-4606-9eb1-562a42c67195",
   "metadata": {},
   "outputs": [
    {
     "data": {
      "image/png": "[encoded data removed]",
      "text/plain": [
       "Graphics object consisting of 2 graphics primitives"
      ]
     },
     "metadata": {},
     "output_type": "display_data"
    }
   ],
   "source": [
    "var('r theta')\n",
    "assume(r >= 0)\n",
    "integrate(integrate(r^3, r, 0, 1), theta, 0, 2*pi)\n",
    "\n",
    "# Vẽ miền hình tròn\n",
    "var('x y')\n",
    "circle = implicit_plot(x^2 + y^2 == 1, (x, -1.2, 1.2), (y, -1.2, 1.2), color='red')\n",
    "region = region_plot(lambda x, y: x^2 + y^2 <= 1, (x, -1, 1), (y, -1, 1), incol='lightgreen')\n",
    "show(region + circle)"
   ]
  },
  {
   "cell_type": "markdown",
   "id": "437b402c-c6f4-4e71-b851-8f092140e645",
   "metadata": {},
   "source": [
    "#### Tích phân bội ba\n",
    "\n",
    "Miền:\n",
    "$\n",
    "E = \\{(x, y, z): 0 \\le x \\le 1, 0 \\le y \\le 1 - x, 0 \\le z \\le x + y\\}\n",
    "$\n"
   ]
  },
  {
   "cell_type": "code",
   "execution_count": 24,
   "id": "c0b03660-251a-4490-a94b-7780d0427b66",
   "metadata": {},
   "outputs": [
    {
     "data": {
      "text/plain": [
       "1/8"
      ]
     },
     "execution_count": 24,
     "metadata": {},
     "output_type": "execute_result"
    }
   ],
   "source": [
    "var('x y z')\n",
    "integrate(integrate(integrate(z, z, 0, x + y), y, 0, 1 - x), x, 0, 1)"
   ]
  },
  {
   "cell_type": "markdown",
   "id": "c1cfbdab-fc9f-4f48-ac1a-d7df7bd63cc4",
   "metadata": {},
   "source": [
    "### Ứng dụng tích phân bội\n",
    "\n",
    "#### Tính diện tích mặt phẳng\n",
    "\n",
    "Miền:\n",
    "$\n",
    "D = \\{(x, y): 0 \\le x \\le 1, \\ 0 \\le y \\le \\sqrt{1 - x^2}\\}\n",
    "$\n"
   ]
  },
  {
   "cell_type": "code",
   "execution_count": 25,
   "id": "f2f1d2fc-a11a-40c7-92dc-5d500bf2a994",
   "metadata": {},
   "outputs": [
    {
     "data": {
      "image/png": "[encoded data removed]",
      "text/plain": [
       "Graphics object consisting of 2 graphics primitives"
      ]
     },
     "metadata": {},
     "output_type": "display_data"
    }
   ],
   "source": [
    "var('x')\n",
    "integrate(integrate(1, y, 0, sqrt(1 - x^2)), x, 0, 1)\n",
    "\n",
    "# Vẽ miền\n",
    "f(x) = sqrt(1 - x^2)\n",
    "plot(f(x), (x, 0, 1), fill=True, color='lightblue').show()"
   ]
  },
  {
   "cell_type": "markdown",
   "id": "12d0a816-a6e9-423a-ac3a-8bc6e82eeca9",
   "metadata": {},
   "source": [
    "#### Tính thể tích vật thể\n",
    "\n",
    "Miền bị giới hạn bởi:\n",
    "$\n",
    "z = x^2 + y^2 \\text{ và } z = 4\n",
    "$\n"
   ]
  },
  {
   "cell_type": "code",
   "execution_count": 26,
   "id": "7813da2a-aa7c-4985-9c0a-81c38d211e0e",
   "metadata": {},
   "outputs": [
    {
     "data": {
      "text/plain": [
       "8*pi"
      ]
     },
     "execution_count": 26,
     "metadata": {},
     "output_type": "execute_result"
    }
   ],
   "source": [
    "var('r theta')\n",
    "assume(r >= 0)\n",
    "integrate(integrate((4 - r^2) * r, r, 0, 2), theta, 0, 2*pi)"
   ]
  },
  {
   "cell_type": "markdown",
   "id": "2c7861d6-79a6-47da-9d03-4c84fe4b0d41",
   "metadata": {},
   "source": [
    "#### Tích phân phụ thuộc tham số\n",
    "\n",
    "Hàm:\n",
    "$I(a) = \\int_0^1 \\frac{x^a - 1}{\\ln x} dx\n",
    "$\n"
   ]
  },
  {
   "cell_type": "code",
   "execution_count": 28,
   "id": "631ab0b3-8ea3-4987-a6ce-abe792467fc7",
   "metadata": {},
   "outputs": [
    {
     "name": "stderr",
     "output_type": "stream",
     "text": [
      "Undef/Unsigned Inf encountered in limit\n",
      "Error trying to find limit of Ei(sageVARa*ln(sageVARx)+ln(sageVARx))-Ei(ln(sageVARx))\n"
     ]
    },
    {
     "data": {
      "text/plain": [
       "I*pi + log(a + 1)"
      ]
     },
     "execution_count": 28,
     "metadata": {},
     "output_type": "execute_result"
    }
   ],
   "source": [
    "var('a x')\n",
    "assume(a > 0)\n",
    "integrate((x^a - 1)/log(x), x, 0, 1)"
   ]
  },
  {
   "cell_type": "markdown",
   "id": "690c8bdc-7944-4874-8cae-bf0605541635",
   "metadata": {},
   "source": [
    "### Tích phân đường\n",
    "\n",
    "#### Loại 1: $ \\int_C f(x,y) \\, ds $, với $ y = x^2, 0 \\le x \\le 1 $\n"
   ]
  },
  {
   "cell_type": "code",
   "execution_count": 29,
   "id": "c102f6aa-ad1c-4f57-bab7-afe1500cfc6a",
   "metadata": {},
   "outputs": [
    {
     "data": {
      "image/png": "[encoded data removed]",
      "text/plain": [
       "Graphics object consisting of 1 graphics primitive"
      ]
     },
     "metadata": {},
     "output_type": "display_data"
    }
   ],
   "source": [
    "f(x, y) = x + y\n",
    "dx = 1\n",
    "dy = diff(x^2, x)\n",
    "ds = sqrt(dx^2 + dy^2)\n",
    "integrate(f(x, x^2) * ds, x, 0, 1)\n",
    "\n",
    "# Vẽ đường cong\n",
    "var('x')\n",
    "f(x) = x^2\n",
    "plot(f(x), (x, 0, 1), color='blue').show()"
   ]
  },
  {
   "cell_type": "markdown",
   "id": "fbd54c51-19d9-4c3a-85e8-8e3cd221e178",
   "metadata": {},
   "source": [
    "#### Loại 2: $ \\int_C x\\,dx + y\\,dy $, với $ C $ là đường tròn đơn vị"
   ]
  },
  {
   "cell_type": "code",
   "execution_count": 30,
   "id": "9b4ade94-5cfd-441d-af4d-a3007930344f",
   "metadata": {},
   "outputs": [
    {
     "data": {
      "image/png": "[encoded data removed]",
      "text/plain": [
       "Graphics object consisting of 1 graphics primitive"
      ]
     },
     "metadata": {},
     "output_type": "display_data"
    }
   ],
   "source": [
    "var('t')\n",
    "x(t) = cos(t)\n",
    "y(t) = sin(t)\n",
    "dx = diff(x(t), t)\n",
    "dy = diff(y(t), t)\n",
    "integrand = x(t)*dx + y(t)*dy\n",
    "integrate(integrand, t, 0, 2*pi)\n",
    "\n",
    "# Vẽ đường tròn\n",
    "parametric_plot((x(t), y(t)), (t, 0, 2*pi), color='blue').show()"
   ]
  },
  {
   "cell_type": "markdown",
   "id": "a858abce-f51a-4c25-baa0-5b74ebefb120",
   "metadata": {},
   "source": [
    "### Tích phân mặt\n",
    "\n",
    "Hàm $ f(x,y,z) = z$ trên mặt $ z = 1 - x - y, \\ x + y \\le 1 $\n"
   ]
  },
  {
   "cell_type": "code",
   "execution_count": 31,
   "id": "66475516-94ef-46ea-a334-0967ae0c2d05",
   "metadata": {},
   "outputs": [
    {
     "data": {
      "text/plain": [
       "1/6"
      ]
     },
     "execution_count": 31,
     "metadata": {},
     "output_type": "execute_result"
    }
   ],
   "source": [
    "var('x y')\n",
    "z(x, y) = 1 - x - y\n",
    "f(x, y) = z(x, y)\n",
    "integrate(integrate(f(x, y), y, 0, 1 - x), x, 0, 1)"
   ]
  },
  {
   "cell_type": "markdown",
   "id": "4f10f0a2-30f4-4727-9516-741ca41187f9",
   "metadata": {},
   "source": [
    "### Lý thuyết trường\n",
    "\n",
    "#### Đạo hàm theo hướng\n",
    "\n",
    "Hàm: $ f(x, y) = x^2 y $, tại A(1, 2), theo hướng $ \\vec{v} = (3, 4) $\n"
   ]
  },
  {
   "cell_type": "code",
   "execution_count": 32,
   "id": "f1ee05c5-5168-45c5-a142-56d9344f4d40",
   "metadata": {},
   "outputs": [
    {
     "data": {
      "text/plain": [
       "16/5"
      ]
     },
     "execution_count": 32,
     "metadata": {},
     "output_type": "execute_result"
    }
   ],
   "source": [
    "f(x, y) = x^2 * y\n",
    "u = vector([3, 4]).normalized()\n",
    "grad_f = vector([diff(f(x, y), x), diff(f(x, y), y)])\n",
    "point = vector([1, 2])\n",
    "grad_at_A = grad_f.subs(x=point[0], y=point[1])\n",
    "grad_at_A.dot_product(u)"
   ]
  },
  {
   "cell_type": "markdown",
   "id": "1cca0a05-f594-4145-be8d-a93cafe06b4c",
   "metadata": {},
   "source": [
    "#### Gradient\n"
   ]
  },
  {
   "cell_type": "code",
   "execution_count": 33,
   "id": "4d53c368-9aaa-4344-8005-e84e6866ae32",
   "metadata": {},
   "outputs": [
    {
     "data": {
      "text/plain": [
       "(2*x*y, x^2)"
      ]
     },
     "execution_count": 33,
     "metadata": {},
     "output_type": "execute_result"
    }
   ],
   "source": [
    "var('x y')\n",
    "f(x, y) = x^2 * y\n",
    "vector([diff(f(x, y), x), diff(f(x, y), y)])"
   ]
  },
  {
   "cell_type": "markdown",
   "id": "9dd7f0d5-7eb3-48f0-ac54-49b74e336b62",
   "metadata": {},
   "source": [
    "---\n",
    "## Ứng dụng trong Giải tích 3\n",
    "\n",
    "### Các câu lệnh thường dùng\n",
    "\n",
    "- `sum(...)`: Tính tổng chuỗi.\n",
    "- `taylor(...)`: Khai triển chuỗi Taylor.\n",
    "- `desolve(...)`: Giải phương trình vi phân.\n",
    "- `desolve_system(...)`: Giải hệ phương trình vi phân.\n",
    "- `desolve_laplace(...)`: Giải PTVP bằng biến đổi Laplace.\n",
    "- `plot(...)`: Vẽ đồ thị minh họa chuỗi Fourier.\n"
   ]
  },
  {
   "cell_type": "markdown",
   "id": "c91de146-f394-49a4-beca-bf321679eeba",
   "metadata": {},
   "source": [
    "### Chuỗi số\n",
    "\n",
    "Xét sự hội tụ của chuỗi:\n",
    "$\n",
    "\\sum_{n=1}^{\\infty} \\frac{1}{n^p} \\quad \\text{với } p > 1\n",
    "$\n"
   ]
  },
  {
   "cell_type": "code",
   "execution_count": 34,
   "id": "4d3cc812-b6ff-492e-854d-178501d56a28",
   "metadata": {},
   "outputs": [
    {
     "data": {
      "text/plain": [
       "189196075638244250590454866138987443745405683066133872266771392408622790830394495422/9815205420757514710108178059369553458327392260750404049930407987933582359080767225644716670683512153512547802166033089160919189453125*pi^100"
      ]
     },
     "execution_count": 34,
     "metadata": {},
     "output_type": "execute_result"
    }
   ],
   "source": [
    "var('n')\n",
    "f = 1 / n^100\n",
    "sum(f, n, 1, oo)"
   ]
  },
  {
   "cell_type": "markdown",
   "id": "2e04048d-e51a-4050-9ab3-91ba255e5e36",
   "metadata": {},
   "source": [
    "### Chuỗi hàm\n",
    "\n",
    "Tính tổng chuỗi:\n",
    "$\n",
    "\\sum_{n=0}^{\\infty} \\frac{x^n}{n!}\n",
    "$"
   ]
  },
  {
   "cell_type": "code",
   "execution_count": 35,
   "id": "af9e2b80-1365-471e-8cac-e87fcc9448d1",
   "metadata": {},
   "outputs": [
    {
     "data": {
      "text/plain": [
       "e^x"
      ]
     },
     "execution_count": 35,
     "metadata": {},
     "output_type": "execute_result"
    }
   ],
   "source": [
    "var('x n')\n",
    "f = x^n / factorial(n)\n",
    "sum(f, n, 0, oo)"
   ]
  },
  {
   "cell_type": "markdown",
   "id": "c8556583-0361-4601-bcc3-dc702dd85da0",
   "metadata": {},
   "source": [
    "### Chuỗi lũy thừa: Taylor – Maclaurin\n",
    "\n",
    "Khai triển chuỗi Maclaurin của $\\sin(x)$\n"
   ]
  },
  {
   "cell_type": "code",
   "execution_count": 36,
   "id": "462aea48-aba6-4604-be42-a92f747dd6e4",
   "metadata": {},
   "outputs": [
    {
     "data": {
      "text/plain": [
       "-1/5040*x^7 + 1/120*x^5 - 1/6*x^3 + x"
      ]
     },
     "execution_count": 36,
     "metadata": {},
     "output_type": "execute_result"
    }
   ],
   "source": [
    "taylor(sin(x), x, 0, 7)"
   ]
  },
  {
   "cell_type": "markdown",
   "id": "edc1b42f-37be-40b7-88df-ffb7780181b3",
   "metadata": {},
   "source": [
    "### Chuỗi Fourier\n",
    "\n",
    "Khai triển chuỗi Fourier của $ f(x) = x $ trên $ [-\\pi, \\pi] $"
   ]
  },
  {
   "cell_type": "code",
   "execution_count": 37,
   "id": "214984ac-0382-450c-a957-4d20d0723529",
   "metadata": {},
   "outputs": [
    {
     "data": {
      "image/png": "[encoded data removed]",
      "text/plain": [
       "Graphics object consisting of 2 graphics primitives"
      ]
     },
     "metadata": {},
     "output_type": "display_data"
    }
   ],
   "source": [
    "var('x n')\n",
    "f(x) = x\n",
    "a0 = (1/pi) * integrate(f(x), x, -pi, pi)\n",
    "an = (1/pi) * integrate(f(x) * cos(n*x), x, -pi, pi)\n",
    "bn = (1/pi) * integrate(f(x) * sin(n*x), x, -pi, pi)\n",
    "bn\n",
    "\n",
    "# Ve do thi khai trien Fourier bac 5\n",
    "fourier = sum(2*(-1)^(k+1)/k*sin(k*x) for k in (1..5))\n",
    "p1 = plot(f(x), (x, -pi, pi), color='blue', legend_label='f(x) = x')\n",
    "p2 = plot(fourier, (x, -pi, pi), color='red', legend_label='Fourier')\n",
    "show(p1 + p2)"
   ]
  },
  {
   "cell_type": "markdown",
   "id": "a1a3e5a0-fbcf-4c49-87a8-49e6ef43e56f",
   "metadata": {},
   "source": [
    "### Phương trình vi phân tuyến tính\n",
    "\n",
    "Giải:\n",
    "$\n",
    "y' + y = e^x\n",
    "$\n"
   ]
  },
  {
   "cell_type": "code",
   "execution_count": 38,
   "id": "9e4042a7-1abf-4364-8974-48c5094214f5",
   "metadata": {},
   "outputs": [
    {
     "data": {
      "text/plain": [
       "1/2*(2*_C + e^(2*x))*e^(-x)"
      ]
     },
     "execution_count": 38,
     "metadata": {},
     "output_type": "execute_result"
    }
   ],
   "source": [
    "var('x y')\n",
    "y = function('y')(x)\n",
    "de = diff(y, x) + y == e^x\n",
    "desolve(de, y)"
   ]
  },
  {
   "cell_type": "markdown",
   "id": "862362e3-78c1-4da4-95f4-d27ada26281d",
   "metadata": {},
   "source": [
    "Giải:\n",
    "$\n",
    "y'' - y = 0\n",
    "$\n"
   ]
  },
  {
   "cell_type": "code",
   "execution_count": 39,
   "id": "9d6094c2-2f0e-4d0a-8dfc-c9a9aeb0ef1d",
   "metadata": {},
   "outputs": [
    {
     "data": {
      "text/plain": [
       "_K2*e^(-x) + _K1*e^x"
      ]
     },
     "execution_count": 39,
     "metadata": {},
     "output_type": "execute_result"
    }
   ],
   "source": [
    "y = function('y')(x)\n",
    "de2 = diff(y, x, 2) - y == 0\n",
    "desolve(de2, y)"
   ]
  },
  {
   "cell_type": "markdown",
   "id": "5f41b1a2-2fe5-47a5-a652-88a96768480a",
   "metadata": {},
   "source": [
    "### Phương trình Euler\n",
    "\n",
    "Giải:\n",
    "$\n",
    "x^2 y'' - x y' + y = 0\n",
    "$"
   ]
  },
  {
   "cell_type": "code",
   "execution_count": 41,
   "id": "42545b29-7958-4048-a736-ec6aa1c9f85c",
   "metadata": {},
   "outputs": [
    {
     "data": {
      "text/plain": [
       "(_K2*log(x) + _K1)*x"
      ]
     },
     "execution_count": 41,
     "metadata": {},
     "output_type": "execute_result"
    }
   ],
   "source": [
    "y = function('y')(x)\n",
    "de = x^2*diff(y, x, 2) - x*diff(y, x) + y == 0\n",
    "desolve(de, y)"
   ]
  },
  {
   "cell_type": "markdown",
   "id": "bdb7f946-f6a6-425a-97a3-59d9fa8464c7",
   "metadata": {},
   "source": [
    "### Hệ phương trình vi phân cấp 1\n",
    "\n",
    "Giải:\n",
    "$\n",
    "\\begin{cases}\n",
    "x' = x + y \\\\\n",
    "y' = x - y\n",
    "\\end{cases}\n",
    "$"
   ]
  },
  {
   "cell_type": "code",
   "execution_count": 42,
   "id": "3719b7bb-bf87-491e-966a-b93907f09402",
   "metadata": {},
   "outputs": [
    {
     "data": {
      "text/plain": [
       "[x(t) == 1/2*sqrt(2)*(x(0) + y(0))*sinh(sqrt(2)*t) + cosh(sqrt(2)*t)*x(0),\n",
       " y(t) == 1/2*sqrt(2)*(x(0) - y(0))*sinh(sqrt(2)*t) + cosh(sqrt(2)*t)*y(0)]"
      ]
     },
     "execution_count": 42,
     "metadata": {},
     "output_type": "execute_result"
    }
   ],
   "source": [
    "t = var('t')\n",
    "x = function('x')(t)\n",
    "y = function('y')(t)\n",
    "de1 = diff(x, t) == x + y\n",
    "de2 = diff(y, t) == x - y\n",
    "desolve_system([de1, de2], [x, y])"
   ]
  },
  {
   "cell_type": "markdown",
   "id": "bc64e00f-96b6-4fa6-a856-0aa349fad9d9",
   "metadata": {},
   "source": [
    "### Biến đổi Laplace\n",
    "\n",
    "Giải:\n",
    "$\n",
    "y'' + y = \\sin(t), \\quad y(0) = 0, \\ y'(0) = 1\n",
    "$\n"
   ]
  },
  {
   "cell_type": "code",
   "execution_count": 43,
   "id": "3d0d25c8-22a5-457f-b4b1-7abc745015f0",
   "metadata": {},
   "outputs": [
    {
     "data": {
      "text/plain": [
       "-1/2*t*cos(t) + 1/2*(2*D[0](y)(0) + 1)*sin(t) + cos(t)*y(0)"
      ]
     },
     "execution_count": 43,
     "metadata": {},
     "output_type": "execute_result"
    }
   ],
   "source": [
    "var('t s')\n",
    "y = function('y')(t)\n",
    "de = diff(y, t, 2) + y == sin(t)\n",
    "desolve_laplace(de, y, ivar=t)"
   ]
  },
  {
   "cell_type": "markdown",
   "id": "f0a26594-af1b-4d74-bb14-d2f1882b1846",
   "metadata": {},
   "source": [
    "---\n",
    "## Ứng dụng trong Đại số tuyến tính\n",
    "\n",
    "### Các câu lệnh cơ bản\n",
    "\n",
    "- `Matrix(...)`, `vector(...)`: Khởi tạo ma trận, vector.\n",
    "- `.det()`, `.rank()`, `.inverse()`, `.eigenvalues()`: Các phép toán ma trận.\n",
    "- `solve(...)`: Giải hệ phương trình.\n",
    "- `Set(...)`: Làm việc với tập hợp.\n",
    "- `.project_onto(...)`, `.normalized()`: Hình chiếu, chuẩn hóa vector.\n"
   ]
  },
  {
   "cell_type": "markdown",
   "id": "4568da29-5325-4689-a98b-ec495fb23643",
   "metadata": {},
   "source": [
    "### Phép toán Logic và Tập hợp\n",
    "\n",
    "Ví dụ tính hợp và giao của hai tập hợp:"
   ]
  },
  {
   "cell_type": "code",
   "execution_count": 46,
   "id": "d99f6151-e9d3-4553-a8b6-dd48e1cb9aaf",
   "metadata": {},
   "outputs": [
    {
     "data": {
      "text/plain": [
       "{1, 2, 3, 4, 5}"
      ]
     },
     "execution_count": 46,
     "metadata": {},
     "output_type": "execute_result"
    }
   ],
   "source": [
    "A = Set([1, 2, 3])\n",
    "B = Set([3, 4, 5])\n",
    "A.union(B)          # Hợp"
   ]
  },
  {
   "cell_type": "code",
   "execution_count": 47,
   "id": "9d5255d3-9111-4064-bbef-dfc631a37c52",
   "metadata": {},
   "outputs": [
    {
     "data": {
      "text/plain": [
       "{3}"
      ]
     },
     "execution_count": 47,
     "metadata": {},
     "output_type": "execute_result"
    }
   ],
   "source": [
    "A.intersection(B)   # Giao"
   ]
  },
  {
   "cell_type": "markdown",
   "id": "d456a50e-7e2d-41b2-8a7f-6cbcf887a9bb",
   "metadata": {},
   "source": [
    "### Ánh xạ, tìm ảnh và nghịch ảnh\n",
    "\n",
    "Cho ánh xạ $ f(x) = x^2 $, tính ảnh của 3 và nghịch ảnh của 9.\n"
   ]
  },
  {
   "cell_type": "code",
   "execution_count": 49,
   "id": "a859526c-a734-4657-bdc8-415b021dd906",
   "metadata": {},
   "outputs": [
    {
     "data": {
      "text/plain": [
       "9"
      ]
     },
     "execution_count": 49,
     "metadata": {},
     "output_type": "execute_result"
    }
   ],
   "source": [
    "var('x')\n",
    "f = x^2\n",
    "f(x=3)"
   ]
  },
  {
   "cell_type": "code",
   "execution_count": null,
   "id": "46bd6c6e-6b56-449e-87c2-0b395042d9c8",
   "metadata": {},
   "outputs": [],
   "source": [
    "f.inverse_function()(9)"
   ]
  },
  {
   "cell_type": "markdown",
   "id": "cee3af55-5edd-4b1d-954f-647db3efee64",
   "metadata": {},
   "source": [
    "### Cấu trúc đại số: nhóm, vành, trường\n",
    "\n",
    "Ví dụ về nhóm Abel:\n"
   ]
  },
  {
   "cell_type": "code",
   "execution_count": 50,
   "id": "3f2e86ed-0bf5-453d-ada7-13ba081389c5",
   "metadata": {},
   "outputs": [
    {
     "data": {
      "text/plain": [
       "(f0, f1)"
      ]
     },
     "execution_count": 50,
     "metadata": {},
     "output_type": "execute_result"
    }
   ],
   "source": [
    "G = AbelianGroup(2)\n",
    "G.gens()"
   ]
  },
  {
   "cell_type": "markdown",
   "id": "5d1472e8-07e8-41d4-875b-84285a7ec144",
   "metadata": {},
   "source": [
    "### Số phức: module, liên hợp, nghiệm\n",
    "\n",
    "Tính module, liên hợp và nghiệm phức:\n"
   ]
  },
  {
   "cell_type": "code",
   "execution_count": 51,
   "id": "466fee0d-2da9-4c18-9a9b-456c4a1c658f",
   "metadata": {},
   "outputs": [
    {
     "data": {
      "text/plain": [
       "[x == -I, x == I]"
      ]
     },
     "execution_count": 51,
     "metadata": {},
     "output_type": "execute_result"
    }
   ],
   "source": [
    "z = 3 + 4*I\n",
    "abs(z)          # Module\n",
    "conjugate(z)    # Liên hợp\n",
    "solve(x^2 + 1 == 0, x)  # Nghiệm phức"
   ]
  },
  {
   "cell_type": "markdown",
   "id": "d4d462b4-8ff1-4f6f-a183-1f574c157e5f",
   "metadata": {},
   "source": [
    "### Căn bậc n của số phức\n",
    "\n",
    "Ví dụ tìm căn bậc ba của số phức:"
   ]
  },
  {
   "cell_type": "code",
   "execution_count": 59,
   "id": "23b3aacc-d29d-442b-a25a-16f48e840b0a",
   "metadata": {},
   "outputs": [
    {
     "data": {
      "text/plain": [
       "I"
      ]
     },
     "execution_count": 59,
     "metadata": {},
     "output_type": "execute_result"
    }
   ],
   "source": [
    "z = - I\n",
    "z.nth_root(3)"
   ]
  },
  {
   "cell_type": "markdown",
   "id": "f42504a5-ccc3-4aa7-9ad9-b6e65092a1b7",
   "metadata": {},
   "source": [
    "### Ma trận và các phép toán cơ bản\n",
    "\n",
    "Tính định thức, nghịch đảo, bình phương, hạng và giải hệ tuyến tính:\n"
   ]
  },
  {
   "cell_type": "code",
   "execution_count": 60,
   "id": "4547dfcd-8878-477b-b9db-8d5933b8e5fe",
   "metadata": {},
   "outputs": [
    {
     "data": {
      "text/plain": [
       "-2"
      ]
     },
     "execution_count": 60,
     "metadata": {},
     "output_type": "execute_result"
    }
   ],
   "source": [
    "A = Matrix([[1, 2], [3, 4]])\n",
    "A.det()"
   ]
  },
  {
   "cell_type": "code",
   "execution_count": 61,
   "id": "b3ccca64-5d79-460c-9a83-1ac82b883ad3",
   "metadata": {},
   "outputs": [
    {
     "data": {
      "text/plain": [
       "[  -2    1]\n",
       "[ 3/2 -1/2]"
      ]
     },
     "execution_count": 61,
     "metadata": {},
     "output_type": "execute_result"
    }
   ],
   "source": [
    "A.inverse()"
   ]
  },
  {
   "cell_type": "code",
   "execution_count": 62,
   "id": "fe1a2529-ae4a-47f1-beb9-7512dca8bbea",
   "metadata": {},
   "outputs": [
    {
     "data": {
      "text/plain": [
       "[ 7 10]\n",
       "[15 22]"
      ]
     },
     "execution_count": 62,
     "metadata": {},
     "output_type": "execute_result"
    }
   ],
   "source": [
    "A^2"
   ]
  },
  {
   "cell_type": "code",
   "execution_count": 63,
   "id": "8c833c0b-1ca9-48b8-9f60-5b1c816c4519",
   "metadata": {},
   "outputs": [
    {
     "data": {
      "text/plain": [
       "2"
      ]
     },
     "execution_count": 63,
     "metadata": {},
     "output_type": "execute_result"
    }
   ],
   "source": [
    "A.rank()"
   ]
  },
  {
   "cell_type": "code",
   "execution_count": null,
   "id": "bf52ae21-2682-4f05-b185-0176545de34a",
   "metadata": {},
   "outputs": [],
   "source": [
    "x = var('x1 x2')\n",
    "solve(A * vector([x1, x2]) == vector([1, 2]), x1, x2)"
   ]
  },
  {
   "cell_type": "markdown",
   "id": "fde87734-4092-4f1d-9eac-fe170ddc8b92",
   "metadata": {},
   "source": [
    "### Kiểm tra tính độc lập tuyến tính\n",
    "\n",
    "Tính hạng của ma trận gồm các vector:\n"
   ]
  },
  {
   "cell_type": "code",
   "execution_count": 65,
   "id": "928664b2-79a6-478f-b1ae-fa8b6f9fe81a",
   "metadata": {},
   "outputs": [
    {
     "data": {
      "text/plain": [
       "1"
      ]
     },
     "execution_count": 65,
     "metadata": {},
     "output_type": "execute_result"
    }
   ],
   "source": [
    "v1 = vector([1, 2])\n",
    "v2 = vector([2, 4])\n",
    "matrix([v1, v2]).rank()"
   ]
  },
  {
   "cell_type": "markdown",
   "id": "65fc001f-369d-434a-8e1a-ae301041b46d",
   "metadata": {},
   "source": [
    "### Tìm cơ sở và số chiều không gian sinh\n",
    "\n",
    "Tìm cơ sở và số chiều không gian cột:"
   ]
  },
  {
   "cell_type": "code",
   "execution_count": 66,
   "id": "48b4a7e8-63f2-463f-9a5d-30fe774bf7eb",
   "metadata": {},
   "outputs": [
    {
     "data": {
      "text/plain": [
       "Free module of degree 2 and rank 2 over Integer Ring\n",
       "Echelon basis matrix:\n",
       "[1 0]\n",
       "[0 1]"
      ]
     },
     "execution_count": 66,
     "metadata": {},
     "output_type": "execute_result"
    }
   ],
   "source": [
    "v1 = vector([1, 0])\n",
    "v2 = vector([0, 1])\n",
    "matrix([v1, v2]).column_space()"
   ]
  },
  {
   "cell_type": "markdown",
   "id": "ff4856d7-3f11-4170-bec4-1f72700d44f6",
   "metadata": {},
   "source": [
    "### Giá trị và vector riêng\n",
    "\n",
    "Tính giá trị riêng và vector riêng của ma trận:"
   ]
  },
  {
   "cell_type": "code",
   "execution_count": 68,
   "id": "ac3d504c-c665-45c6-8c43-eb7e12e3255d",
   "metadata": {},
   "outputs": [
    {
     "data": {
      "text/plain": [
       "[-0.3722813232690144?, 5.372281323269015?]"
      ]
     },
     "execution_count": 68,
     "metadata": {},
     "output_type": "execute_result"
    }
   ],
   "source": [
    "A = Matrix([[1, 2], [3, 4]])\n",
    "A.eigenvalues()"
   ]
  },
  {
   "cell_type": "code",
   "execution_count": null,
   "id": "f0aca6e5-e277-462f-a15d-ed6f743f9744",
   "metadata": {},
   "outputs": [],
   "source": [
    "A.eigenvectors()"
   ]
  },
  {
   "cell_type": "markdown",
   "id": "ab7a2708-ee7b-4734-b532-9ce331a7fcc5",
   "metadata": {},
   "source": [
    "### Chéo hóa ma trận\n",
    "\n",
    "Thực hiện chéo hóa:"
   ]
  },
  {
   "cell_type": "code",
   "execution_count": null,
   "id": "22c78626-5206-4441-95d1-33de10159d0a",
   "metadata": {},
   "outputs": [],
   "source": [
    "A = Matrix([[4, 1], [2, 3]])\n",
    "A.diagonalize()"
   ]
  },
  {
   "cell_type": "markdown",
   "id": "3f27f0fe-023c-486e-8bb4-ec3f1153494f",
   "metadata": {},
   "source": [
    "### Trực chuẩn hóa, chuyển cơ sở và hình chiếu\n",
    "\n",
    "Chuẩn hóa vector và tính hình chiếu trực giao:"
   ]
  },
  {
   "cell_type": "code",
   "execution_count": null,
   "id": "51dd07db-9c3a-467f-9f80-93f2c7cb957e",
   "metadata": {},
   "outputs": [],
   "source": [
    "v1 = vector([1, 2])\n",
    "v2 = vector([3, 4])\n",
    "v1.normalized()\n",
    "v1.project_onto(v2)"
   ]
  },
  {
   "cell_type": "markdown",
   "id": "a739e5e5-59ac-496b-bbe2-09dc70cd1d4e",
   "metadata": {},
   "source": [
    "### Vẽ đường cong phẳng và mặt bậc hai\n",
    "\n",
    "Vẽ đường cong và mặt bậc hai:\n"
   ]
  },
  {
   "cell_type": "code",
   "execution_count": null,
   "id": "b87428cf-5e0b-4f79-a055-2d2078ee6de5",
   "metadata": {},
   "outputs": [],
   "source": [
    "# Đường cong 2D\n",
    "var('x y')\n",
    "plot(x^2 + y^2, (x, -2, 2), (y, -2, 2))"
   ]
  },
  {
   "cell_type": "markdown",
   "id": "ea3b54da-b625-4a54-870f-d90294202b16",
   "metadata": {},
   "source": [
    "---\n",
    "## Ứng dụng trong Xác suất thống kê\n",
    "\n",
    "### Tổ hợp, chỉnh hợp, giai thừa\n",
    "\n",
    "Sử dụng các hàm `factorial`, `binomial` để tính giai thừa và tổ hợp. Tính chỉnh hợp bằng công thức."
   ]
  },
  {
   "cell_type": "code",
   "execution_count": 75,
   "id": "2a6de089-dc4f-4c15-988b-20590908a6b5",
   "metadata": {},
   "outputs": [
    {
     "data": {
      "text/plain": [
       "120"
      ]
     },
     "execution_count": 75,
     "metadata": {},
     "output_type": "execute_result"
    }
   ],
   "source": [
    "factorial(5)             # 5! = 120"
   ]
  },
  {
   "cell_type": "code",
   "execution_count": 76,
   "id": "92e43454-5a81-4556-b593-1da27e2c55ee",
   "metadata": {},
   "outputs": [
    {
     "data": {
      "text/plain": [
       "10"
      ]
     },
     "execution_count": 76,
     "metadata": {},
     "output_type": "execute_result"
    }
   ],
   "source": [
    "binomial(5, 3)           # Tổ hợp chập 3 của 5"
   ]
  },
  {
   "cell_type": "code",
   "execution_count": 77,
   "id": "fb479062-3981-417c-948a-513b9fbb7466",
   "metadata": {},
   "outputs": [
    {
     "data": {
      "text/plain": [
       "12"
      ]
     },
     "execution_count": 77,
     "metadata": {},
     "output_type": "execute_result"
    }
   ],
   "source": [
    "factorial(4)/factorial(2)  # Chỉnh hợp chập 2 của 4"
   ]
  },
  {
   "cell_type": "markdown",
   "id": "7861c418-20ca-4ad0-ab73-6873c7a9a063",
   "metadata": {},
   "source": [
    "### Biến ngẫu nhiên và phân phối xác suất\n",
    "\n",
    "Tính kỳ vọng và phương sai của biến rời rạc."
   ]
  },
  {
   "cell_type": "code",
   "execution_count": 78,
   "id": "fbffd0ac-8b8a-451b-ba52-9131e3e8b8d5",
   "metadata": {},
   "outputs": [
    {
     "data": {
      "text/plain": [
       "(2.10000000000000, 0.490000000000000)"
      ]
     },
     "execution_count": 78,
     "metadata": {},
     "output_type": "execute_result"
    }
   ],
   "source": [
    "X = [1, 2, 3]\n",
    "P = [0.2, 0.5, 0.3]\n",
    "mean = sum(x * p for x, p in zip(X, P))\n",
    "variance = sum((x - mean)^2 * p for x, p in zip(X, P))\n",
    "(mean, variance)"
   ]
  },
  {
   "cell_type": "markdown",
   "id": "25498d93-1a38-48c2-8713-779bc47e131b",
   "metadata": {},
   "source": [
    "### Dùng NumPy hoặc SciPy để thống kê mô tả"
   ]
  },
  {
   "cell_type": "code",
   "execution_count": 79,
   "id": "9e165992-cc21-4cab-84f7-258939d8a9b3",
   "metadata": {},
   "outputs": [
    {
     "data": {
      "text/plain": [
       "(30.0, 200.0, 14.142135623730951)"
      ]
     },
     "execution_count": 79,
     "metadata": {},
     "output_type": "execute_result"
    }
   ],
   "source": [
    "import numpy as np\n",
    "data = [10, 20, 30, 40, 50]\n",
    "np.mean(data), np.var(data), np.std(data)"
   ]
  },
  {
   "cell_type": "code",
   "execution_count": 80,
   "id": "6dd39ebb-a41f-42f4-aa5a-cb3cb483c862",
   "metadata": {},
   "outputs": [
    {
     "data": {
      "text/plain": [
       "(30.0, 250.0)"
      ]
     },
     "execution_count": 80,
     "metadata": {},
     "output_type": "execute_result"
    }
   ],
   "source": [
    "from scipy.stats import describe\n",
    "describe(data).mean, describe(data).variance"
   ]
  },
  {
   "cell_type": "markdown",
   "id": "f5033368-0f79-4c5a-845c-2dfd4672064b",
   "metadata": {},
   "source": [
    "### Vẽ đồ thị phân phối nhị thức\n",
    "\n",
    "Ví dụ với $n = 10, p = 0.5$"
   ]
  },
  {
   "cell_type": "code",
   "execution_count": 81,
   "id": "9c88e377-a7c5-4750-8df1-77333f0a921a",
   "metadata": {},
   "outputs": [
    {
     "data": {
      "image/png": "[encoded data removed]",
      "text/plain": [
       "Graphics object consisting of 1 graphics primitive"
      ]
     },
     "execution_count": 81,
     "metadata": {},
     "output_type": "execute_result"
    }
   ],
   "source": [
    "var('k')\n",
    "p = 0.5\n",
    "n = 10\n",
    "P = [binomial(n, k) * p^k * (1 - p)^(n - k) for k in range(n + 1)]\n",
    "bar_chart(P, width=0.5, title='Phan phoi nhi thuc', axes=True)"
   ]
  },
  {
   "cell_type": "markdown",
   "id": "9a2b64d8-13fc-4d37-a78b-0b66bc7b6236",
   "metadata": {},
   "source": [
    "### Biến ngẫu nhiên nhiều chiều\n",
    "\n",
    "Tính phân phối xác suất biên:"
   ]
  },
  {
   "cell_type": "code",
   "execution_count": 82,
   "id": "0a0cef60-732f-4c25-a19e-176b7663f8d9",
   "metadata": {},
   "outputs": [
    {
     "data": {
      "text/plain": [
       "1/2*y"
      ]
     },
     "execution_count": 82,
     "metadata": {},
     "output_type": "execute_result"
    }
   ],
   "source": [
    "var('x y')\n",
    "f = x * y\n",
    "integrate(f, (x, 0, 1))  # Phân phối biên theo y"
   ]
  },
  {
   "cell_type": "markdown",
   "id": "c60d526e-0d2f-48ab-a272-4cdf7bfa2d61",
   "metadata": {},
   "source": [
    "### Ước lượng tham số\n",
    "\n",
    "Tính khoảng tin cậy 95% cho trung bình."
   ]
  },
  {
   "cell_type": "code",
   "execution_count": 84,
   "id": "85d8a5e6-2520-4476-ac81-a2cb7f38c976",
   "metadata": {},
   "outputs": [
    {
     "data": {
      "text/plain": [
       "51.9600000000000"
      ]
     },
     "execution_count": 84,
     "metadata": {},
     "output_type": "execute_result"
    }
   ],
   "source": [
    "var('x n s')\n",
    "mu = x + 1.96 * s / sqrt(n)\n",
    "mu.subs({x: 50, s: 10, n: 100})"
   ]
  },
  {
   "cell_type": "markdown",
   "id": "067c434e-2798-4361-be54-85530fd1fa37",
   "metadata": {},
   "source": [
    "### Kiểm định giả thuyết\n",
    "\n",
    "Tính thống kê Z kiểm định trung bình."
   ]
  },
  {
   "cell_type": "code",
   "execution_count": 85,
   "id": "9340fdac-bc9b-45d4-8155-2caf93e736a9",
   "metadata": {},
   "outputs": [
    {
     "data": {
      "text/plain": [
       "2/3*sqrt(30)"
      ]
     },
     "execution_count": 85,
     "metadata": {},
     "output_type": "execute_result"
    }
   ],
   "source": [
    "var('xbar mu sigma n')\n",
    "Z = (xbar - mu) / (sigma / sqrt(n))\n",
    "Z.subs({xbar: 110, mu: 100, sigma: 15, n: 30})"
   ]
  },
  {
   "cell_type": "markdown",
   "id": "bec045b5-5b53-4324-a32d-59c7b41f1865",
   "metadata": {},
   "source": [
    "### Thống kê mô tả\n",
    "\n",
    "Sử dụng SciPy để mô tả dữ liệu thống kê."
   ]
  },
  {
   "cell_type": "code",
   "execution_count": 86,
   "id": "66cf3933-bcfb-4868-b9d3-0305780cf34f",
   "metadata": {},
   "outputs": [
    {
     "data": {
      "text/plain": [
       "DescribeResult(nobs=5, minmax=(10, 50), mean=30.0, variance=250.0, skewness=0.0, kurtosis=-1.3)"
      ]
     },
     "execution_count": 86,
     "metadata": {},
     "output_type": "execute_result"
    }
   ],
   "source": [
    "from scipy.stats import describe\n",
    "data = [10, 20, 30, 40, 50]\n",
    "describe(data)"
   ]
  },
  {
   "cell_type": "markdown",
   "id": "a83967d3-608c-4609-b172-61e6f797ef0e",
   "metadata": {},
   "source": [
    "### Phân tích hồi quy tuyến tính\n",
    "\n",
    "Giải hệ phương trình để tìm hệ số hồi quy."
   ]
  },
  {
   "cell_type": "code",
   "execution_count": 87,
   "id": "5e7cead8-7377-46de-842f-90d6f9157669",
   "metadata": {},
   "outputs": [
    {
     "data": {
      "text/plain": [
       "[[m == 2, b == 0]]"
      ]
     },
     "execution_count": 87,
     "metadata": {},
     "output_type": "execute_result"
    }
   ],
   "source": [
    "var('x')\n",
    "data = [(1, 2), (2, 4), (3, 6)]\n",
    "m, b = var('m b')\n",
    "model = m * x + b\n",
    "eqs = [model.subs(x=xv) == yv for xv, yv in data]\n",
    "solve(eqs, m, b)"
   ]
  },
  {
   "cell_type": "markdown",
   "id": "2f151919-22b8-45b5-9583-53ba358d01e7",
   "metadata": {},
   "source": [
    "### Phân tích phương sai (ANOVA)\n",
    "\n",
    "Dùng SciPy để kiểm định sự khác biệt giữa hai nhóm."
   ]
  },
  {
   "cell_type": "code",
   "execution_count": 88,
   "id": "b4166cf4-ee18-44d1-859b-66af223c9489",
   "metadata": {},
   "outputs": [
    {
     "data": {
      "text/plain": [
       "F_onewayResult(statistic=24.0, pvalue=0.002713682035093796)"
      ]
     },
     "execution_count": 88,
     "metadata": {},
     "output_type": "execute_result"
    }
   ],
   "source": [
    "from scipy.stats import f_oneway\n",
    "group1 = [23, 20, 25, 22]\n",
    "group2 = [27, 29, 30, 28]\n",
    "f_oneway(group1, group2)"
   ]
  }
 ],
 "metadata": {
  "kernelspec": {
   "display_name": "SageMath 10.5",
   "language": "sage",
   "name": "sagemath"
  },
  "language_info": {
   "codemirror_mode": {
    "name": "ipython",
    "version": 3
   },
   "file_extension": ".py",
   "mimetype": "text/x-python",
   "name": "python",
   "nbconvert_exporter": "python",
   "pygments_lexer": "ipython3",
   "version": "3.11.11"
  },
  "widgets": {
   "application/vnd.jupyter.widget-state+json": {
    "state": {},
    "version_major": 2,
    "version_minor": 0
   }
  }
 },
 "nbformat": 4,
 "nbformat_minor": 5
}
